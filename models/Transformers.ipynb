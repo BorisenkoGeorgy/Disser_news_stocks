{
  "nbformat": 4,
  "nbformat_minor": 0,
  "metadata": {
    "colab": {
      "provenance": []
    },
    "kernelspec": {
      "name": "python3",
      "display_name": "Python 3"
    },
    "language_info": {
      "name": "python"
    },
    "accelerator": "GPU",
    "gpuClass": "standard",
    "widgets": {
      "application/vnd.jupyter.widget-state+json": {
        "d4bd223a4c1548118e458603d2ee076c": {
          "model_module": "@jupyter-widgets/controls",
          "model_name": "HBoxModel",
          "model_module_version": "1.5.0",
          "state": {
            "_dom_classes": [],
            "_model_module": "@jupyter-widgets/controls",
            "_model_module_version": "1.5.0",
            "_model_name": "HBoxModel",
            "_view_count": null,
            "_view_module": "@jupyter-widgets/controls",
            "_view_module_version": "1.5.0",
            "_view_name": "HBoxView",
            "box_style": "",
            "children": [
              "IPY_MODEL_53bbd38dd4644aa5aeb0d3adc435e939",
              "IPY_MODEL_2bbd7f3ecfd842ebbf86ef7b4fcc84e2",
              "IPY_MODEL_77b79e5865104f8e8c487d87bba5117e"
            ],
            "layout": "IPY_MODEL_31308fba905a4086a5f1d67c5daf1cc6"
          }
        },
        "53bbd38dd4644aa5aeb0d3adc435e939": {
          "model_module": "@jupyter-widgets/controls",
          "model_name": "HTMLModel",
          "model_module_version": "1.5.0",
          "state": {
            "_dom_classes": [],
            "_model_module": "@jupyter-widgets/controls",
            "_model_module_version": "1.5.0",
            "_model_name": "HTMLModel",
            "_view_count": null,
            "_view_module": "@jupyter-widgets/controls",
            "_view_module_version": "1.5.0",
            "_view_name": "HTMLView",
            "description": "",
            "description_tooltip": null,
            "layout": "IPY_MODEL_fccd1442ac734be5800a307cf06bb8ef",
            "placeholder": "​",
            "style": "IPY_MODEL_b726bc62720a478780b609eb5d1749a4",
            "value": "Downloading (…)okenizer_config.json: 100%"
          }
        },
        "2bbd7f3ecfd842ebbf86ef7b4fcc84e2": {
          "model_module": "@jupyter-widgets/controls",
          "model_name": "FloatProgressModel",
          "model_module_version": "1.5.0",
          "state": {
            "_dom_classes": [],
            "_model_module": "@jupyter-widgets/controls",
            "_model_module_version": "1.5.0",
            "_model_name": "FloatProgressModel",
            "_view_count": null,
            "_view_module": "@jupyter-widgets/controls",
            "_view_module_version": "1.5.0",
            "_view_name": "ProgressView",
            "bar_style": "success",
            "description": "",
            "description_tooltip": null,
            "layout": "IPY_MODEL_bc744d6cea854833b05cf82fa860997b",
            "max": 239,
            "min": 0,
            "orientation": "horizontal",
            "style": "IPY_MODEL_2243cf107e404233ac86bc0fafa2b1ba",
            "value": 239
          }
        },
        "77b79e5865104f8e8c487d87bba5117e": {
          "model_module": "@jupyter-widgets/controls",
          "model_name": "HTMLModel",
          "model_module_version": "1.5.0",
          "state": {
            "_dom_classes": [],
            "_model_module": "@jupyter-widgets/controls",
            "_model_module_version": "1.5.0",
            "_model_name": "HTMLModel",
            "_view_count": null,
            "_view_module": "@jupyter-widgets/controls",
            "_view_module_version": "1.5.0",
            "_view_name": "HTMLView",
            "description": "",
            "description_tooltip": null,
            "layout": "IPY_MODEL_dc2e6564f4444bd085bacc93a7d70c85",
            "placeholder": "​",
            "style": "IPY_MODEL_9d96c0c43a3242c3985bbd1b03ed3db2",
            "value": " 239/239 [00:00&lt;00:00, 5.12kB/s]"
          }
        },
        "31308fba905a4086a5f1d67c5daf1cc6": {
          "model_module": "@jupyter-widgets/base",
          "model_name": "LayoutModel",
          "model_module_version": "1.2.0",
          "state": {
            "_model_module": "@jupyter-widgets/base",
            "_model_module_version": "1.2.0",
            "_model_name": "LayoutModel",
            "_view_count": null,
            "_view_module": "@jupyter-widgets/base",
            "_view_module_version": "1.2.0",
            "_view_name": "LayoutView",
            "align_content": null,
            "align_items": null,
            "align_self": null,
            "border": null,
            "bottom": null,
            "display": null,
            "flex": null,
            "flex_flow": null,
            "grid_area": null,
            "grid_auto_columns": null,
            "grid_auto_flow": null,
            "grid_auto_rows": null,
            "grid_column": null,
            "grid_gap": null,
            "grid_row": null,
            "grid_template_areas": null,
            "grid_template_columns": null,
            "grid_template_rows": null,
            "height": null,
            "justify_content": null,
            "justify_items": null,
            "left": null,
            "margin": null,
            "max_height": null,
            "max_width": null,
            "min_height": null,
            "min_width": null,
            "object_fit": null,
            "object_position": null,
            "order": null,
            "overflow": null,
            "overflow_x": null,
            "overflow_y": null,
            "padding": null,
            "right": null,
            "top": null,
            "visibility": null,
            "width": null
          }
        },
        "fccd1442ac734be5800a307cf06bb8ef": {
          "model_module": "@jupyter-widgets/base",
          "model_name": "LayoutModel",
          "model_module_version": "1.2.0",
          "state": {
            "_model_module": "@jupyter-widgets/base",
            "_model_module_version": "1.2.0",
            "_model_name": "LayoutModel",
            "_view_count": null,
            "_view_module": "@jupyter-widgets/base",
            "_view_module_version": "1.2.0",
            "_view_name": "LayoutView",
            "align_content": null,
            "align_items": null,
            "align_self": null,
            "border": null,
            "bottom": null,
            "display": null,
            "flex": null,
            "flex_flow": null,
            "grid_area": null,
            "grid_auto_columns": null,
            "grid_auto_flow": null,
            "grid_auto_rows": null,
            "grid_column": null,
            "grid_gap": null,
            "grid_row": null,
            "grid_template_areas": null,
            "grid_template_columns": null,
            "grid_template_rows": null,
            "height": null,
            "justify_content": null,
            "justify_items": null,
            "left": null,
            "margin": null,
            "max_height": null,
            "max_width": null,
            "min_height": null,
            "min_width": null,
            "object_fit": null,
            "object_position": null,
            "order": null,
            "overflow": null,
            "overflow_x": null,
            "overflow_y": null,
            "padding": null,
            "right": null,
            "top": null,
            "visibility": null,
            "width": null
          }
        },
        "b726bc62720a478780b609eb5d1749a4": {
          "model_module": "@jupyter-widgets/controls",
          "model_name": "DescriptionStyleModel",
          "model_module_version": "1.5.0",
          "state": {
            "_model_module": "@jupyter-widgets/controls",
            "_model_module_version": "1.5.0",
            "_model_name": "DescriptionStyleModel",
            "_view_count": null,
            "_view_module": "@jupyter-widgets/base",
            "_view_module_version": "1.2.0",
            "_view_name": "StyleView",
            "description_width": ""
          }
        },
        "bc744d6cea854833b05cf82fa860997b": {
          "model_module": "@jupyter-widgets/base",
          "model_name": "LayoutModel",
          "model_module_version": "1.2.0",
          "state": {
            "_model_module": "@jupyter-widgets/base",
            "_model_module_version": "1.2.0",
            "_model_name": "LayoutModel",
            "_view_count": null,
            "_view_module": "@jupyter-widgets/base",
            "_view_module_version": "1.2.0",
            "_view_name": "LayoutView",
            "align_content": null,
            "align_items": null,
            "align_self": null,
            "border": null,
            "bottom": null,
            "display": null,
            "flex": null,
            "flex_flow": null,
            "grid_area": null,
            "grid_auto_columns": null,
            "grid_auto_flow": null,
            "grid_auto_rows": null,
            "grid_column": null,
            "grid_gap": null,
            "grid_row": null,
            "grid_template_areas": null,
            "grid_template_columns": null,
            "grid_template_rows": null,
            "height": null,
            "justify_content": null,
            "justify_items": null,
            "left": null,
            "margin": null,
            "max_height": null,
            "max_width": null,
            "min_height": null,
            "min_width": null,
            "object_fit": null,
            "object_position": null,
            "order": null,
            "overflow": null,
            "overflow_x": null,
            "overflow_y": null,
            "padding": null,
            "right": null,
            "top": null,
            "visibility": null,
            "width": null
          }
        },
        "2243cf107e404233ac86bc0fafa2b1ba": {
          "model_module": "@jupyter-widgets/controls",
          "model_name": "ProgressStyleModel",
          "model_module_version": "1.5.0",
          "state": {
            "_model_module": "@jupyter-widgets/controls",
            "_model_module_version": "1.5.0",
            "_model_name": "ProgressStyleModel",
            "_view_count": null,
            "_view_module": "@jupyter-widgets/base",
            "_view_module_version": "1.2.0",
            "_view_name": "StyleView",
            "bar_color": null,
            "description_width": ""
          }
        },
        "dc2e6564f4444bd085bacc93a7d70c85": {
          "model_module": "@jupyter-widgets/base",
          "model_name": "LayoutModel",
          "model_module_version": "1.2.0",
          "state": {
            "_model_module": "@jupyter-widgets/base",
            "_model_module_version": "1.2.0",
            "_model_name": "LayoutModel",
            "_view_count": null,
            "_view_module": "@jupyter-widgets/base",
            "_view_module_version": "1.2.0",
            "_view_name": "LayoutView",
            "align_content": null,
            "align_items": null,
            "align_self": null,
            "border": null,
            "bottom": null,
            "display": null,
            "flex": null,
            "flex_flow": null,
            "grid_area": null,
            "grid_auto_columns": null,
            "grid_auto_flow": null,
            "grid_auto_rows": null,
            "grid_column": null,
            "grid_gap": null,
            "grid_row": null,
            "grid_template_areas": null,
            "grid_template_columns": null,
            "grid_template_rows": null,
            "height": null,
            "justify_content": null,
            "justify_items": null,
            "left": null,
            "margin": null,
            "max_height": null,
            "max_width": null,
            "min_height": null,
            "min_width": null,
            "object_fit": null,
            "object_position": null,
            "order": null,
            "overflow": null,
            "overflow_x": null,
            "overflow_y": null,
            "padding": null,
            "right": null,
            "top": null,
            "visibility": null,
            "width": null
          }
        },
        "9d96c0c43a3242c3985bbd1b03ed3db2": {
          "model_module": "@jupyter-widgets/controls",
          "model_name": "DescriptionStyleModel",
          "model_module_version": "1.5.0",
          "state": {
            "_model_module": "@jupyter-widgets/controls",
            "_model_module_version": "1.5.0",
            "_model_name": "DescriptionStyleModel",
            "_view_count": null,
            "_view_module": "@jupyter-widgets/base",
            "_view_module_version": "1.2.0",
            "_view_name": "StyleView",
            "description_width": ""
          }
        },
        "0d11b02e05874119ab059e7552d01eef": {
          "model_module": "@jupyter-widgets/controls",
          "model_name": "HBoxModel",
          "model_module_version": "1.5.0",
          "state": {
            "_dom_classes": [],
            "_model_module": "@jupyter-widgets/controls",
            "_model_module_version": "1.5.0",
            "_model_name": "HBoxModel",
            "_view_count": null,
            "_view_module": "@jupyter-widgets/controls",
            "_view_module_version": "1.5.0",
            "_view_name": "HBoxView",
            "box_style": "",
            "children": [
              "IPY_MODEL_bbbca78c6e2546cdbaed269ab0db98ea",
              "IPY_MODEL_46604979cfeb476f90f2896f6e1e8c6a",
              "IPY_MODEL_ce7ab4371d8648758613a447ae2c7627"
            ],
            "layout": "IPY_MODEL_f3a4433c766b45c7913c068de64f451c"
          }
        },
        "bbbca78c6e2546cdbaed269ab0db98ea": {
          "model_module": "@jupyter-widgets/controls",
          "model_name": "HTMLModel",
          "model_module_version": "1.5.0",
          "state": {
            "_dom_classes": [],
            "_model_module": "@jupyter-widgets/controls",
            "_model_module_version": "1.5.0",
            "_model_name": "HTMLModel",
            "_view_count": null,
            "_view_module": "@jupyter-widgets/controls",
            "_view_module_version": "1.5.0",
            "_view_name": "HTMLView",
            "description": "",
            "description_tooltip": null,
            "layout": "IPY_MODEL_17873e906cf545a2a2cea5f624a44a48",
            "placeholder": "​",
            "style": "IPY_MODEL_d8b37d74fc224359a62b5274c3680a11",
            "value": "Downloading (…)lve/main/config.json: 100%"
          }
        },
        "46604979cfeb476f90f2896f6e1e8c6a": {
          "model_module": "@jupyter-widgets/controls",
          "model_name": "FloatProgressModel",
          "model_module_version": "1.5.0",
          "state": {
            "_dom_classes": [],
            "_model_module": "@jupyter-widgets/controls",
            "_model_module_version": "1.5.0",
            "_model_name": "FloatProgressModel",
            "_view_count": null,
            "_view_module": "@jupyter-widgets/controls",
            "_view_module_version": "1.5.0",
            "_view_name": "ProgressView",
            "bar_style": "success",
            "description": "",
            "description_tooltip": null,
            "layout": "IPY_MODEL_51809b740b184381a809773100e79dac",
            "max": 175,
            "min": 0,
            "orientation": "horizontal",
            "style": "IPY_MODEL_02ff0b58758e479ea5f5f253b110b78f",
            "value": 175
          }
        },
        "ce7ab4371d8648758613a447ae2c7627": {
          "model_module": "@jupyter-widgets/controls",
          "model_name": "HTMLModel",
          "model_module_version": "1.5.0",
          "state": {
            "_dom_classes": [],
            "_model_module": "@jupyter-widgets/controls",
            "_model_module_version": "1.5.0",
            "_model_name": "HTMLModel",
            "_view_count": null,
            "_view_module": "@jupyter-widgets/controls",
            "_view_module_version": "1.5.0",
            "_view_name": "HTMLView",
            "description": "",
            "description_tooltip": null,
            "layout": "IPY_MODEL_ad133c332d7f4a2a81c58bff3b3fb454",
            "placeholder": "​",
            "style": "IPY_MODEL_f0a82249fec14c3f839a8698ab3ccef1",
            "value": " 175/175 [00:00&lt;00:00, 4.44kB/s]"
          }
        },
        "f3a4433c766b45c7913c068de64f451c": {
          "model_module": "@jupyter-widgets/base",
          "model_name": "LayoutModel",
          "model_module_version": "1.2.0",
          "state": {
            "_model_module": "@jupyter-widgets/base",
            "_model_module_version": "1.2.0",
            "_model_name": "LayoutModel",
            "_view_count": null,
            "_view_module": "@jupyter-widgets/base",
            "_view_module_version": "1.2.0",
            "_view_name": "LayoutView",
            "align_content": null,
            "align_items": null,
            "align_self": null,
            "border": null,
            "bottom": null,
            "display": null,
            "flex": null,
            "flex_flow": null,
            "grid_area": null,
            "grid_auto_columns": null,
            "grid_auto_flow": null,
            "grid_auto_rows": null,
            "grid_column": null,
            "grid_gap": null,
            "grid_row": null,
            "grid_template_areas": null,
            "grid_template_columns": null,
            "grid_template_rows": null,
            "height": null,
            "justify_content": null,
            "justify_items": null,
            "left": null,
            "margin": null,
            "max_height": null,
            "max_width": null,
            "min_height": null,
            "min_width": null,
            "object_fit": null,
            "object_position": null,
            "order": null,
            "overflow": null,
            "overflow_x": null,
            "overflow_y": null,
            "padding": null,
            "right": null,
            "top": null,
            "visibility": null,
            "width": null
          }
        },
        "17873e906cf545a2a2cea5f624a44a48": {
          "model_module": "@jupyter-widgets/base",
          "model_name": "LayoutModel",
          "model_module_version": "1.2.0",
          "state": {
            "_model_module": "@jupyter-widgets/base",
            "_model_module_version": "1.2.0",
            "_model_name": "LayoutModel",
            "_view_count": null,
            "_view_module": "@jupyter-widgets/base",
            "_view_module_version": "1.2.0",
            "_view_name": "LayoutView",
            "align_content": null,
            "align_items": null,
            "align_self": null,
            "border": null,
            "bottom": null,
            "display": null,
            "flex": null,
            "flex_flow": null,
            "grid_area": null,
            "grid_auto_columns": null,
            "grid_auto_flow": null,
            "grid_auto_rows": null,
            "grid_column": null,
            "grid_gap": null,
            "grid_row": null,
            "grid_template_areas": null,
            "grid_template_columns": null,
            "grid_template_rows": null,
            "height": null,
            "justify_content": null,
            "justify_items": null,
            "left": null,
            "margin": null,
            "max_height": null,
            "max_width": null,
            "min_height": null,
            "min_width": null,
            "object_fit": null,
            "object_position": null,
            "order": null,
            "overflow": null,
            "overflow_x": null,
            "overflow_y": null,
            "padding": null,
            "right": null,
            "top": null,
            "visibility": null,
            "width": null
          }
        },
        "d8b37d74fc224359a62b5274c3680a11": {
          "model_module": "@jupyter-widgets/controls",
          "model_name": "DescriptionStyleModel",
          "model_module_version": "1.5.0",
          "state": {
            "_model_module": "@jupyter-widgets/controls",
            "_model_module_version": "1.5.0",
            "_model_name": "DescriptionStyleModel",
            "_view_count": null,
            "_view_module": "@jupyter-widgets/base",
            "_view_module_version": "1.2.0",
            "_view_name": "StyleView",
            "description_width": ""
          }
        },
        "51809b740b184381a809773100e79dac": {
          "model_module": "@jupyter-widgets/base",
          "model_name": "LayoutModel",
          "model_module_version": "1.2.0",
          "state": {
            "_model_module": "@jupyter-widgets/base",
            "_model_module_version": "1.2.0",
            "_model_name": "LayoutModel",
            "_view_count": null,
            "_view_module": "@jupyter-widgets/base",
            "_view_module_version": "1.2.0",
            "_view_name": "LayoutView",
            "align_content": null,
            "align_items": null,
            "align_self": null,
            "border": null,
            "bottom": null,
            "display": null,
            "flex": null,
            "flex_flow": null,
            "grid_area": null,
            "grid_auto_columns": null,
            "grid_auto_flow": null,
            "grid_auto_rows": null,
            "grid_column": null,
            "grid_gap": null,
            "grid_row": null,
            "grid_template_areas": null,
            "grid_template_columns": null,
            "grid_template_rows": null,
            "height": null,
            "justify_content": null,
            "justify_items": null,
            "left": null,
            "margin": null,
            "max_height": null,
            "max_width": null,
            "min_height": null,
            "min_width": null,
            "object_fit": null,
            "object_position": null,
            "order": null,
            "overflow": null,
            "overflow_x": null,
            "overflow_y": null,
            "padding": null,
            "right": null,
            "top": null,
            "visibility": null,
            "width": null
          }
        },
        "02ff0b58758e479ea5f5f253b110b78f": {
          "model_module": "@jupyter-widgets/controls",
          "model_name": "ProgressStyleModel",
          "model_module_version": "1.5.0",
          "state": {
            "_model_module": "@jupyter-widgets/controls",
            "_model_module_version": "1.5.0",
            "_model_name": "ProgressStyleModel",
            "_view_count": null,
            "_view_module": "@jupyter-widgets/base",
            "_view_module_version": "1.2.0",
            "_view_name": "StyleView",
            "bar_color": null,
            "description_width": ""
          }
        },
        "ad133c332d7f4a2a81c58bff3b3fb454": {
          "model_module": "@jupyter-widgets/base",
          "model_name": "LayoutModel",
          "model_module_version": "1.2.0",
          "state": {
            "_model_module": "@jupyter-widgets/base",
            "_model_module_version": "1.2.0",
            "_model_name": "LayoutModel",
            "_view_count": null,
            "_view_module": "@jupyter-widgets/base",
            "_view_module_version": "1.2.0",
            "_view_name": "LayoutView",
            "align_content": null,
            "align_items": null,
            "align_self": null,
            "border": null,
            "bottom": null,
            "display": null,
            "flex": null,
            "flex_flow": null,
            "grid_area": null,
            "grid_auto_columns": null,
            "grid_auto_flow": null,
            "grid_auto_rows": null,
            "grid_column": null,
            "grid_gap": null,
            "grid_row": null,
            "grid_template_areas": null,
            "grid_template_columns": null,
            "grid_template_rows": null,
            "height": null,
            "justify_content": null,
            "justify_items": null,
            "left": null,
            "margin": null,
            "max_height": null,
            "max_width": null,
            "min_height": null,
            "min_width": null,
            "object_fit": null,
            "object_position": null,
            "order": null,
            "overflow": null,
            "overflow_x": null,
            "overflow_y": null,
            "padding": null,
            "right": null,
            "top": null,
            "visibility": null,
            "width": null
          }
        },
        "f0a82249fec14c3f839a8698ab3ccef1": {
          "model_module": "@jupyter-widgets/controls",
          "model_name": "DescriptionStyleModel",
          "model_module_version": "1.5.0",
          "state": {
            "_model_module": "@jupyter-widgets/controls",
            "_model_module_version": "1.5.0",
            "_model_name": "DescriptionStyleModel",
            "_view_count": null,
            "_view_module": "@jupyter-widgets/base",
            "_view_module_version": "1.2.0",
            "_view_name": "StyleView",
            "description_width": ""
          }
        },
        "9cd5dcb4b27247e2b5d9c8d150487111": {
          "model_module": "@jupyter-widgets/controls",
          "model_name": "HBoxModel",
          "model_module_version": "1.5.0",
          "state": {
            "_dom_classes": [],
            "_model_module": "@jupyter-widgets/controls",
            "_model_module_version": "1.5.0",
            "_model_name": "HBoxModel",
            "_view_count": null,
            "_view_module": "@jupyter-widgets/controls",
            "_view_module_version": "1.5.0",
            "_view_name": "HBoxView",
            "box_style": "",
            "children": [
              "IPY_MODEL_1b174fc2b01d4566a67a078d6b00262c",
              "IPY_MODEL_7dbc437cf4b848b0a23d94c43ab99b71",
              "IPY_MODEL_657394feb7fa49ba9055cd450d05cdf1"
            ],
            "layout": "IPY_MODEL_39d0a4a5ddba4dc39e8fdfcd2cfb621b"
          }
        },
        "1b174fc2b01d4566a67a078d6b00262c": {
          "model_module": "@jupyter-widgets/controls",
          "model_name": "HTMLModel",
          "model_module_version": "1.5.0",
          "state": {
            "_dom_classes": [],
            "_model_module": "@jupyter-widgets/controls",
            "_model_module_version": "1.5.0",
            "_model_name": "HTMLModel",
            "_view_count": null,
            "_view_module": "@jupyter-widgets/controls",
            "_view_module_version": "1.5.0",
            "_view_name": "HTMLView",
            "description": "",
            "description_tooltip": null,
            "layout": "IPY_MODEL_a13ca1289891413f8d9751815d344c6b",
            "placeholder": "​",
            "style": "IPY_MODEL_7aea61e459bd42568d21dde6f2c67047",
            "value": "Downloading (…)solve/main/vocab.txt: 100%"
          }
        },
        "7dbc437cf4b848b0a23d94c43ab99b71": {
          "model_module": "@jupyter-widgets/controls",
          "model_name": "FloatProgressModel",
          "model_module_version": "1.5.0",
          "state": {
            "_dom_classes": [],
            "_model_module": "@jupyter-widgets/controls",
            "_model_module_version": "1.5.0",
            "_model_name": "FloatProgressModel",
            "_view_count": null,
            "_view_module": "@jupyter-widgets/controls",
            "_view_module_version": "1.5.0",
            "_view_name": "ProgressView",
            "bar_style": "success",
            "description": "",
            "description_tooltip": null,
            "layout": "IPY_MODEL_9772276a100c456a857277c801e4ba51",
            "max": 381781,
            "min": 0,
            "orientation": "horizontal",
            "style": "IPY_MODEL_8d95b72419694168ab4561c30e5f3696",
            "value": 381781
          }
        },
        "657394feb7fa49ba9055cd450d05cdf1": {
          "model_module": "@jupyter-widgets/controls",
          "model_name": "HTMLModel",
          "model_module_version": "1.5.0",
          "state": {
            "_dom_classes": [],
            "_model_module": "@jupyter-widgets/controls",
            "_model_module_version": "1.5.0",
            "_model_name": "HTMLModel",
            "_view_count": null,
            "_view_module": "@jupyter-widgets/controls",
            "_view_module_version": "1.5.0",
            "_view_name": "HTMLView",
            "description": "",
            "description_tooltip": null,
            "layout": "IPY_MODEL_45341da5db3d4f779532da7440b8bcdc",
            "placeholder": "​",
            "style": "IPY_MODEL_8a8ccb74e39c4ba38b1adede7ce744d1",
            "value": " 382k/382k [00:00&lt;00:00, 4.27MB/s]"
          }
        },
        "39d0a4a5ddba4dc39e8fdfcd2cfb621b": {
          "model_module": "@jupyter-widgets/base",
          "model_name": "LayoutModel",
          "model_module_version": "1.2.0",
          "state": {
            "_model_module": "@jupyter-widgets/base",
            "_model_module_version": "1.2.0",
            "_model_name": "LayoutModel",
            "_view_count": null,
            "_view_module": "@jupyter-widgets/base",
            "_view_module_version": "1.2.0",
            "_view_name": "LayoutView",
            "align_content": null,
            "align_items": null,
            "align_self": null,
            "border": null,
            "bottom": null,
            "display": null,
            "flex": null,
            "flex_flow": null,
            "grid_area": null,
            "grid_auto_columns": null,
            "grid_auto_flow": null,
            "grid_auto_rows": null,
            "grid_column": null,
            "grid_gap": null,
            "grid_row": null,
            "grid_template_areas": null,
            "grid_template_columns": null,
            "grid_template_rows": null,
            "height": null,
            "justify_content": null,
            "justify_items": null,
            "left": null,
            "margin": null,
            "max_height": null,
            "max_width": null,
            "min_height": null,
            "min_width": null,
            "object_fit": null,
            "object_position": null,
            "order": null,
            "overflow": null,
            "overflow_x": null,
            "overflow_y": null,
            "padding": null,
            "right": null,
            "top": null,
            "visibility": null,
            "width": null
          }
        },
        "a13ca1289891413f8d9751815d344c6b": {
          "model_module": "@jupyter-widgets/base",
          "model_name": "LayoutModel",
          "model_module_version": "1.2.0",
          "state": {
            "_model_module": "@jupyter-widgets/base",
            "_model_module_version": "1.2.0",
            "_model_name": "LayoutModel",
            "_view_count": null,
            "_view_module": "@jupyter-widgets/base",
            "_view_module_version": "1.2.0",
            "_view_name": "LayoutView",
            "align_content": null,
            "align_items": null,
            "align_self": null,
            "border": null,
            "bottom": null,
            "display": null,
            "flex": null,
            "flex_flow": null,
            "grid_area": null,
            "grid_auto_columns": null,
            "grid_auto_flow": null,
            "grid_auto_rows": null,
            "grid_column": null,
            "grid_gap": null,
            "grid_row": null,
            "grid_template_areas": null,
            "grid_template_columns": null,
            "grid_template_rows": null,
            "height": null,
            "justify_content": null,
            "justify_items": null,
            "left": null,
            "margin": null,
            "max_height": null,
            "max_width": null,
            "min_height": null,
            "min_width": null,
            "object_fit": null,
            "object_position": null,
            "order": null,
            "overflow": null,
            "overflow_x": null,
            "overflow_y": null,
            "padding": null,
            "right": null,
            "top": null,
            "visibility": null,
            "width": null
          }
        },
        "7aea61e459bd42568d21dde6f2c67047": {
          "model_module": "@jupyter-widgets/controls",
          "model_name": "DescriptionStyleModel",
          "model_module_version": "1.5.0",
          "state": {
            "_model_module": "@jupyter-widgets/controls",
            "_model_module_version": "1.5.0",
            "_model_name": "DescriptionStyleModel",
            "_view_count": null,
            "_view_module": "@jupyter-widgets/base",
            "_view_module_version": "1.2.0",
            "_view_name": "StyleView",
            "description_width": ""
          }
        },
        "9772276a100c456a857277c801e4ba51": {
          "model_module": "@jupyter-widgets/base",
          "model_name": "LayoutModel",
          "model_module_version": "1.2.0",
          "state": {
            "_model_module": "@jupyter-widgets/base",
            "_model_module_version": "1.2.0",
            "_model_name": "LayoutModel",
            "_view_count": null,
            "_view_module": "@jupyter-widgets/base",
            "_view_module_version": "1.2.0",
            "_view_name": "LayoutView",
            "align_content": null,
            "align_items": null,
            "align_self": null,
            "border": null,
            "bottom": null,
            "display": null,
            "flex": null,
            "flex_flow": null,
            "grid_area": null,
            "grid_auto_columns": null,
            "grid_auto_flow": null,
            "grid_auto_rows": null,
            "grid_column": null,
            "grid_gap": null,
            "grid_row": null,
            "grid_template_areas": null,
            "grid_template_columns": null,
            "grid_template_rows": null,
            "height": null,
            "justify_content": null,
            "justify_items": null,
            "left": null,
            "margin": null,
            "max_height": null,
            "max_width": null,
            "min_height": null,
            "min_width": null,
            "object_fit": null,
            "object_position": null,
            "order": null,
            "overflow": null,
            "overflow_x": null,
            "overflow_y": null,
            "padding": null,
            "right": null,
            "top": null,
            "visibility": null,
            "width": null
          }
        },
        "8d95b72419694168ab4561c30e5f3696": {
          "model_module": "@jupyter-widgets/controls",
          "model_name": "ProgressStyleModel",
          "model_module_version": "1.5.0",
          "state": {
            "_model_module": "@jupyter-widgets/controls",
            "_model_module_version": "1.5.0",
            "_model_name": "ProgressStyleModel",
            "_view_count": null,
            "_view_module": "@jupyter-widgets/base",
            "_view_module_version": "1.2.0",
            "_view_name": "StyleView",
            "bar_color": null,
            "description_width": ""
          }
        },
        "45341da5db3d4f779532da7440b8bcdc": {
          "model_module": "@jupyter-widgets/base",
          "model_name": "LayoutModel",
          "model_module_version": "1.2.0",
          "state": {
            "_model_module": "@jupyter-widgets/base",
            "_model_module_version": "1.2.0",
            "_model_name": "LayoutModel",
            "_view_count": null,
            "_view_module": "@jupyter-widgets/base",
            "_view_module_version": "1.2.0",
            "_view_name": "LayoutView",
            "align_content": null,
            "align_items": null,
            "align_self": null,
            "border": null,
            "bottom": null,
            "display": null,
            "flex": null,
            "flex_flow": null,
            "grid_area": null,
            "grid_auto_columns": null,
            "grid_auto_flow": null,
            "grid_auto_rows": null,
            "grid_column": null,
            "grid_gap": null,
            "grid_row": null,
            "grid_template_areas": null,
            "grid_template_columns": null,
            "grid_template_rows": null,
            "height": null,
            "justify_content": null,
            "justify_items": null,
            "left": null,
            "margin": null,
            "max_height": null,
            "max_width": null,
            "min_height": null,
            "min_width": null,
            "object_fit": null,
            "object_position": null,
            "order": null,
            "overflow": null,
            "overflow_x": null,
            "overflow_y": null,
            "padding": null,
            "right": null,
            "top": null,
            "visibility": null,
            "width": null
          }
        },
        "8a8ccb74e39c4ba38b1adede7ce744d1": {
          "model_module": "@jupyter-widgets/controls",
          "model_name": "DescriptionStyleModel",
          "model_module_version": "1.5.0",
          "state": {
            "_model_module": "@jupyter-widgets/controls",
            "_model_module_version": "1.5.0",
            "_model_name": "DescriptionStyleModel",
            "_view_count": null,
            "_view_module": "@jupyter-widgets/base",
            "_view_module_version": "1.2.0",
            "_view_name": "StyleView",
            "description_width": ""
          }
        },
        "65f6b80253f049c691bb0dd55d47e891": {
          "model_module": "@jupyter-widgets/controls",
          "model_name": "HBoxModel",
          "model_module_version": "1.5.0",
          "state": {
            "_dom_classes": [],
            "_model_module": "@jupyter-widgets/controls",
            "_model_module_version": "1.5.0",
            "_model_name": "HBoxModel",
            "_view_count": null,
            "_view_module": "@jupyter-widgets/controls",
            "_view_module_version": "1.5.0",
            "_view_name": "HBoxView",
            "box_style": "",
            "children": [
              "IPY_MODEL_a12e6c49c5db45e98aaccced08af0199",
              "IPY_MODEL_b1ac5fd49b5d4465a1ead77dbaa4ccc7",
              "IPY_MODEL_7b452d0e96d748d7ba4cea0e2618d746"
            ],
            "layout": "IPY_MODEL_c5d55aad8ecf49a6ae13a86b397184c2"
          }
        },
        "a12e6c49c5db45e98aaccced08af0199": {
          "model_module": "@jupyter-widgets/controls",
          "model_name": "HTMLModel",
          "model_module_version": "1.5.0",
          "state": {
            "_dom_classes": [],
            "_model_module": "@jupyter-widgets/controls",
            "_model_module_version": "1.5.0",
            "_model_name": "HTMLModel",
            "_view_count": null,
            "_view_module": "@jupyter-widgets/controls",
            "_view_module_version": "1.5.0",
            "_view_name": "HTMLView",
            "description": "",
            "description_tooltip": null,
            "layout": "IPY_MODEL_a5d7b4a870fa46ff9b57a68824f1f511",
            "placeholder": "​",
            "style": "IPY_MODEL_3e72a8f92b1c4f999c10866c39264e30",
            "value": "Downloading (…)cial_tokens_map.json: 100%"
          }
        },
        "b1ac5fd49b5d4465a1ead77dbaa4ccc7": {
          "model_module": "@jupyter-widgets/controls",
          "model_name": "FloatProgressModel",
          "model_module_version": "1.5.0",
          "state": {
            "_dom_classes": [],
            "_model_module": "@jupyter-widgets/controls",
            "_model_module_version": "1.5.0",
            "_model_name": "FloatProgressModel",
            "_view_count": null,
            "_view_module": "@jupyter-widgets/controls",
            "_view_module_version": "1.5.0",
            "_view_name": "ProgressView",
            "bar_style": "success",
            "description": "",
            "description_tooltip": null,
            "layout": "IPY_MODEL_6b4b56814aae4b0eb0c2712689359d0e",
            "max": 112,
            "min": 0,
            "orientation": "horizontal",
            "style": "IPY_MODEL_bff50636fb5c4c84941db895299d685a",
            "value": 112
          }
        },
        "7b452d0e96d748d7ba4cea0e2618d746": {
          "model_module": "@jupyter-widgets/controls",
          "model_name": "HTMLModel",
          "model_module_version": "1.5.0",
          "state": {
            "_dom_classes": [],
            "_model_module": "@jupyter-widgets/controls",
            "_model_module_version": "1.5.0",
            "_model_name": "HTMLModel",
            "_view_count": null,
            "_view_module": "@jupyter-widgets/controls",
            "_view_module_version": "1.5.0",
            "_view_name": "HTMLView",
            "description": "",
            "description_tooltip": null,
            "layout": "IPY_MODEL_defb62dc99be455784b5b005dd9cc5e8",
            "placeholder": "​",
            "style": "IPY_MODEL_55057a4596d441b495d73d810b6d0cf7",
            "value": " 112/112 [00:00&lt;00:00, 4.92kB/s]"
          }
        },
        "c5d55aad8ecf49a6ae13a86b397184c2": {
          "model_module": "@jupyter-widgets/base",
          "model_name": "LayoutModel",
          "model_module_version": "1.2.0",
          "state": {
            "_model_module": "@jupyter-widgets/base",
            "_model_module_version": "1.2.0",
            "_model_name": "LayoutModel",
            "_view_count": null,
            "_view_module": "@jupyter-widgets/base",
            "_view_module_version": "1.2.0",
            "_view_name": "LayoutView",
            "align_content": null,
            "align_items": null,
            "align_self": null,
            "border": null,
            "bottom": null,
            "display": null,
            "flex": null,
            "flex_flow": null,
            "grid_area": null,
            "grid_auto_columns": null,
            "grid_auto_flow": null,
            "grid_auto_rows": null,
            "grid_column": null,
            "grid_gap": null,
            "grid_row": null,
            "grid_template_areas": null,
            "grid_template_columns": null,
            "grid_template_rows": null,
            "height": null,
            "justify_content": null,
            "justify_items": null,
            "left": null,
            "margin": null,
            "max_height": null,
            "max_width": null,
            "min_height": null,
            "min_width": null,
            "object_fit": null,
            "object_position": null,
            "order": null,
            "overflow": null,
            "overflow_x": null,
            "overflow_y": null,
            "padding": null,
            "right": null,
            "top": null,
            "visibility": null,
            "width": null
          }
        },
        "a5d7b4a870fa46ff9b57a68824f1f511": {
          "model_module": "@jupyter-widgets/base",
          "model_name": "LayoutModel",
          "model_module_version": "1.2.0",
          "state": {
            "_model_module": "@jupyter-widgets/base",
            "_model_module_version": "1.2.0",
            "_model_name": "LayoutModel",
            "_view_count": null,
            "_view_module": "@jupyter-widgets/base",
            "_view_module_version": "1.2.0",
            "_view_name": "LayoutView",
            "align_content": null,
            "align_items": null,
            "align_self": null,
            "border": null,
            "bottom": null,
            "display": null,
            "flex": null,
            "flex_flow": null,
            "grid_area": null,
            "grid_auto_columns": null,
            "grid_auto_flow": null,
            "grid_auto_rows": null,
            "grid_column": null,
            "grid_gap": null,
            "grid_row": null,
            "grid_template_areas": null,
            "grid_template_columns": null,
            "grid_template_rows": null,
            "height": null,
            "justify_content": null,
            "justify_items": null,
            "left": null,
            "margin": null,
            "max_height": null,
            "max_width": null,
            "min_height": null,
            "min_width": null,
            "object_fit": null,
            "object_position": null,
            "order": null,
            "overflow": null,
            "overflow_x": null,
            "overflow_y": null,
            "padding": null,
            "right": null,
            "top": null,
            "visibility": null,
            "width": null
          }
        },
        "3e72a8f92b1c4f999c10866c39264e30": {
          "model_module": "@jupyter-widgets/controls",
          "model_name": "DescriptionStyleModel",
          "model_module_version": "1.5.0",
          "state": {
            "_model_module": "@jupyter-widgets/controls",
            "_model_module_version": "1.5.0",
            "_model_name": "DescriptionStyleModel",
            "_view_count": null,
            "_view_module": "@jupyter-widgets/base",
            "_view_module_version": "1.2.0",
            "_view_name": "StyleView",
            "description_width": ""
          }
        },
        "6b4b56814aae4b0eb0c2712689359d0e": {
          "model_module": "@jupyter-widgets/base",
          "model_name": "LayoutModel",
          "model_module_version": "1.2.0",
          "state": {
            "_model_module": "@jupyter-widgets/base",
            "_model_module_version": "1.2.0",
            "_model_name": "LayoutModel",
            "_view_count": null,
            "_view_module": "@jupyter-widgets/base",
            "_view_module_version": "1.2.0",
            "_view_name": "LayoutView",
            "align_content": null,
            "align_items": null,
            "align_self": null,
            "border": null,
            "bottom": null,
            "display": null,
            "flex": null,
            "flex_flow": null,
            "grid_area": null,
            "grid_auto_columns": null,
            "grid_auto_flow": null,
            "grid_auto_rows": null,
            "grid_column": null,
            "grid_gap": null,
            "grid_row": null,
            "grid_template_areas": null,
            "grid_template_columns": null,
            "grid_template_rows": null,
            "height": null,
            "justify_content": null,
            "justify_items": null,
            "left": null,
            "margin": null,
            "max_height": null,
            "max_width": null,
            "min_height": null,
            "min_width": null,
            "object_fit": null,
            "object_position": null,
            "order": null,
            "overflow": null,
            "overflow_x": null,
            "overflow_y": null,
            "padding": null,
            "right": null,
            "top": null,
            "visibility": null,
            "width": null
          }
        },
        "bff50636fb5c4c84941db895299d685a": {
          "model_module": "@jupyter-widgets/controls",
          "model_name": "ProgressStyleModel",
          "model_module_version": "1.5.0",
          "state": {
            "_model_module": "@jupyter-widgets/controls",
            "_model_module_version": "1.5.0",
            "_model_name": "ProgressStyleModel",
            "_view_count": null,
            "_view_module": "@jupyter-widgets/base",
            "_view_module_version": "1.2.0",
            "_view_name": "StyleView",
            "bar_color": null,
            "description_width": ""
          }
        },
        "defb62dc99be455784b5b005dd9cc5e8": {
          "model_module": "@jupyter-widgets/base",
          "model_name": "LayoutModel",
          "model_module_version": "1.2.0",
          "state": {
            "_model_module": "@jupyter-widgets/base",
            "_model_module_version": "1.2.0",
            "_model_name": "LayoutModel",
            "_view_count": null,
            "_view_module": "@jupyter-widgets/base",
            "_view_module_version": "1.2.0",
            "_view_name": "LayoutView",
            "align_content": null,
            "align_items": null,
            "align_self": null,
            "border": null,
            "bottom": null,
            "display": null,
            "flex": null,
            "flex_flow": null,
            "grid_area": null,
            "grid_auto_columns": null,
            "grid_auto_flow": null,
            "grid_auto_rows": null,
            "grid_column": null,
            "grid_gap": null,
            "grid_row": null,
            "grid_template_areas": null,
            "grid_template_columns": null,
            "grid_template_rows": null,
            "height": null,
            "justify_content": null,
            "justify_items": null,
            "left": null,
            "margin": null,
            "max_height": null,
            "max_width": null,
            "min_height": null,
            "min_width": null,
            "object_fit": null,
            "object_position": null,
            "order": null,
            "overflow": null,
            "overflow_x": null,
            "overflow_y": null,
            "padding": null,
            "right": null,
            "top": null,
            "visibility": null,
            "width": null
          }
        },
        "55057a4596d441b495d73d810b6d0cf7": {
          "model_module": "@jupyter-widgets/controls",
          "model_name": "DescriptionStyleModel",
          "model_module_version": "1.5.0",
          "state": {
            "_model_module": "@jupyter-widgets/controls",
            "_model_module_version": "1.5.0",
            "_model_name": "DescriptionStyleModel",
            "_view_count": null,
            "_view_module": "@jupyter-widgets/base",
            "_view_module_version": "1.2.0",
            "_view_name": "StyleView",
            "description_width": ""
          }
        }
      }
    }
  },
  "cells": [
    {
      "cell_type": "code",
      "execution_count": 1,
      "metadata": {
        "colab": {
          "base_uri": "https://localhost:8080/"
        },
        "id": "ShmjVwx1wTqR",
        "outputId": "dd013e1f-922c-4ad7-9163-33b3516b45c2"
      },
      "outputs": [
        {
          "output_type": "stream",
          "name": "stdout",
          "text": [
            "Looking in indexes: https://pypi.org/simple, https://us-python.pkg.dev/colab-wheels/public/simple/\n",
            "Requirement already satisfied: transformers in /usr/local/lib/python3.9/dist-packages (4.28.1)\n",
            "Requirement already satisfied: pyyaml>=5.1 in /usr/local/lib/python3.9/dist-packages (from transformers) (6.0)\n",
            "Requirement already satisfied: huggingface-hub<1.0,>=0.11.0 in /usr/local/lib/python3.9/dist-packages (from transformers) (0.13.4)\n",
            "Requirement already satisfied: packaging>=20.0 in /usr/local/lib/python3.9/dist-packages (from transformers) (23.1)\n",
            "Requirement already satisfied: requests in /usr/local/lib/python3.9/dist-packages (from transformers) (2.27.1)\n",
            "Requirement already satisfied: numpy>=1.17 in /usr/local/lib/python3.9/dist-packages (from transformers) (1.22.4)\n",
            "Requirement already satisfied: tokenizers!=0.11.3,<0.14,>=0.11.1 in /usr/local/lib/python3.9/dist-packages (from transformers) (0.13.3)\n",
            "Requirement already satisfied: tqdm>=4.27 in /usr/local/lib/python3.9/dist-packages (from transformers) (4.65.0)\n",
            "Requirement already satisfied: filelock in /usr/local/lib/python3.9/dist-packages (from transformers) (3.11.0)\n",
            "Requirement already satisfied: regex!=2019.12.17 in /usr/local/lib/python3.9/dist-packages (from transformers) (2022.10.31)\n",
            "Requirement already satisfied: typing-extensions>=3.7.4.3 in /usr/local/lib/python3.9/dist-packages (from huggingface-hub<1.0,>=0.11.0->transformers) (4.5.0)\n",
            "Requirement already satisfied: urllib3<1.27,>=1.21.1 in /usr/local/lib/python3.9/dist-packages (from requests->transformers) (1.26.15)\n",
            "Requirement already satisfied: charset-normalizer~=2.0.0 in /usr/local/lib/python3.9/dist-packages (from requests->transformers) (2.0.12)\n",
            "Requirement already satisfied: certifi>=2017.4.17 in /usr/local/lib/python3.9/dist-packages (from requests->transformers) (2022.12.7)\n",
            "Requirement already satisfied: idna<4,>=2.5 in /usr/local/lib/python3.9/dist-packages (from requests->transformers) (3.4)\n"
          ]
        }
      ],
      "source": [
        "pip install transformers"
      ]
    },
    {
      "cell_type": "code",
      "source": [
        "from google.colab import drive\n",
        "drive.mount('/content/drive')"
      ],
      "metadata": {
        "colab": {
          "base_uri": "https://localhost:8080/"
        },
        "id": "9xWTvt5XLloa",
        "outputId": "2f21c0f9-e7ee-4f5a-963b-00c45c02b6a8"
      },
      "execution_count": 2,
      "outputs": [
        {
          "output_type": "stream",
          "name": "stdout",
          "text": [
            "Drive already mounted at /content/drive; to attempt to forcibly remount, call drive.mount(\"/content/drive\", force_remount=True).\n"
          ]
        }
      ]
    },
    {
      "cell_type": "code",
      "source": [
        "import gc\n",
        "\n",
        "import pandas as pd\n",
        "import numpy as np\n",
        "\n",
        "import torch\n",
        "from torch import nn\n",
        "import torch.nn.functional as F\n",
        "from torch.utils.data import Dataset\n",
        "from torch.optim import AdamW\n",
        "from tqdm import tqdm\n",
        "from transformers import AutoTokenizer, AutoModel #AutoModelForSequenceClassification\n",
        "from transformers import get_linear_schedule_with_warmup\n",
        "\n",
        "def mean_pooling(model_output, attention_mask):\n",
        "    token_embeddings = model_output[0] #First element of model_output contains all token embeddings\n",
        "    input_mask_expanded = attention_mask.unsqueeze(-1).expand(token_embeddings.size()).float()\n",
        "    sum_embeddings = torch.sum(token_embeddings * input_mask_expanded, 1)\n",
        "    sum_mask = torch.clamp(input_mask_expanded.sum(1), min=1e-9)\n",
        "    return sum_embeddings / sum_mask\n",
        "\n",
        "# sentences = ['Привет! Как твои дела?',\n",
        "#              'А правда, что 42 твое любимое число?']\n",
        "\n",
        "# model = AutoModel.from_pretrained(\"sberbank-ai/sbert_large_mt_nlu_ru\")\n",
        "\n",
        "# encoded_input = tokenizer(sentences, padding='max_length', truncation=True, max_length=24, return_tensors='pt')\n",
        "\n",
        "# with torch.no_grad():\n",
        "#     model_output = model(**encoded_input)\n",
        "\n",
        "# sentence_embeddings = mean_pooling(model_output, encoded_input['attention_mask'])"
      ],
      "metadata": {
        "id": "lsIu-y3yy_Dm"
      },
      "execution_count": 3,
      "outputs": []
    },
    {
      "cell_type": "code",
      "source": [
        "company = 'DSKY'\n",
        "tg = pd.read_parquet('/content/drive/MyDrive/Диссертация/Парсеры сайтов/tg_raw.parquet')\n",
        "comp = tg[tg[company] == True].copy()\n",
        "comp.drop(columns=['views', 'forwards', 'fwd_from', 'source'], inplace=True)\n",
        "comp.dropna(inplace=True)\n",
        "comp = comp[comp['date'] < '2022-01-01'].copy()\n",
        "comp = comp[comp['date'] >= '2017-02-10'].copy()\n",
        "cols = ['date', 'message'] + [col for col in comp.columns if f'{company}_' in col]\n",
        "comp = comp[cols].copy()\n",
        "train_data, test_data = comp.iloc[:int(0.8*len(comp)), :], comp.iloc[int(0.8*len(comp)):, :]\n",
        "cols = [col for col in comp.columns if f'{company}_' in col][-4]"
      ],
      "metadata": {
        "id": "qw-0m_dQaeoh"
      },
      "execution_count": 4,
      "outputs": []
    },
    {
      "cell_type": "code",
      "source": [
        "train_texts, val_texts = train_data['message'].values, test_data['message'].values\n",
        "train_target, val_target = train_data[cols].values, test_data[cols].values"
      ],
      "metadata": {
        "id": "dXGCviROEwRa"
      },
      "execution_count": 5,
      "outputs": []
    },
    {
      "cell_type": "markdown",
      "source": [
        "### Большой Bert"
      ],
      "metadata": {
        "id": "qKOyOFzCEonH"
      }
    },
    {
      "cell_type": "code",
      "source": [
        "tokenizer = AutoTokenizer.from_pretrained(\"sberbank-ai/sbert_large_mt_nlu_ru\")"
      ],
      "metadata": {
        "id": "nVPxj2kZEzrf"
      },
      "execution_count": 6,
      "outputs": []
    },
    {
      "cell_type": "code",
      "source": [
        "class BertClassifier(nn.Module):\n",
        "\n",
        "    def __init__(self, n_classes=7, freeze=True):\n",
        "\n",
        "        super(BertClassifier, self).__init__()\n",
        "\n",
        "        self.bert = AutoModel.from_pretrained(\"sberbank-ai/sbert_large_mt_nlu_ru\")\n",
        "        self.fc1 = nn.Linear(2048, 512)\n",
        "        self.fc2 = nn.Linear(2560, 1024)\n",
        "        self.fc3 = nn.Linear(1024, n_classes)\n",
        "\n",
        "        self.drop1 = nn.Dropout(0.1)\n",
        "        self.drop2 = nn.Dropout(0.1)\n",
        "\n",
        "        self.act = nn.ReLU()\n",
        "\n",
        "        if freeze:\n",
        "          for param in self.bert.parameters():\n",
        "            param.requires_grad = False\n",
        "\n",
        "    def forward(self, input_id, token_type, mask):\n",
        "        model_output = self.bert(input_id, token_type, mask)\n",
        "        sentence_embeddings = mean_pooling(model_output, mask)\n",
        "        embeddings = torch.cat([model_output[1], sentence_embeddings], dim=1)\n",
        "        embeddings1 = self.fc1(embeddings)\n",
        "        embeddings = torch.cat([embeddings, embeddings1], dim=1)\n",
        "        embeddings = self.act(embeddings)\n",
        "        embeddings = self.drop1(embeddings)\n",
        "        embeddings = self.fc2(embeddings)\n",
        "        embeddings = self.act(embeddings)\n",
        "        embeddings = self.drop2(embeddings)\n",
        "        output = self.fc3(embeddings)\n",
        "\n",
        "        return output"
      ],
      "metadata": {
        "id": "ldThXZ2g4xRd"
      },
      "execution_count": 7,
      "outputs": []
    },
    {
      "cell_type": "code",
      "source": [
        "class TgDataset(Dataset):\n",
        "    def __init__(self, texts, targets):\n",
        "    \n",
        "      self.labels = targets.astype(int)\n",
        "      self.texts = [tokenizer(text, \n",
        "                          padding='max_length', max_length = 256, truncation=True,\n",
        "                          return_tensors=\"pt\") for text in texts]\n",
        "\n",
        "    def __len__(self):\n",
        "        return len(self.labels)\n",
        "\n",
        "\n",
        "    def __getitem__(self, idx):\n",
        "\n",
        "        batch_texts = self.texts[idx]\n",
        "        batch_y = self.labels[idx]\n",
        "\n",
        "        return batch_texts, batch_y"
      ],
      "metadata": {
        "id": "qc0kaCzNKKh8"
      },
      "execution_count": 8,
      "outputs": []
    },
    {
      "cell_type": "code",
      "source": [
        "# def train(model, train_dataloader, val_dataloader, optimizer, criterion, device, epochs, scheduler=None):\n",
        "\n",
        "#     mean_1_min, mean_5_min, mean_10_min, mean_15_min, mean_30_min, mean_1_hour, mean_1_day = train_target.mean(axis=0)\n",
        "\n",
        "#     model = model.to(device)\n",
        "\n",
        "#     for epoch_num in range(epochs):\n",
        "#         model.train()\n",
        "\n",
        "#         acc_1_min_train = 0\n",
        "#         acc_5_min_train = 0\n",
        "#         acc_10_min_train = 0\n",
        "#         acc_15_min_train = 0\n",
        "#         acc_30_min_train = 0\n",
        "#         acc_1_hour_train = 0\n",
        "#         acc_1_day_train = 0\n",
        "#         total_loss_train = 0\n",
        "\n",
        "#         for train_input, train_label in tqdm(train_dataloader):\n",
        "\n",
        "#             train_label = train_label.to(device)\n",
        "\n",
        "#             print(train_input.keys())\n",
        "#             input_id = train_input['input_ids'].squeeze(1).to(device)\n",
        "#             token_type = train_input['token_type_ids'].squeeze(1).to(device)\n",
        "#             mask = train_input['attention_mask'].squeeze(1).to(device)\n",
        "\n",
        "#             output = model(input_id, token_type, mask)\n",
        "#             batch_loss = criterion(output, train_label.float())\n",
        "#             total_loss_train += batch_loss.item()\n",
        "#             out = torch.sigmoid(output)\n",
        "\n",
        "#             acc_1_min_train += ((out[:,0] > mean_1_min).int() == train_label[:,0]).sum().item()\n",
        "#             acc_5_min_train += ((out[:,1] > mean_5_min).int() == train_label[:,1]).sum().item()\n",
        "#             acc_10_min_train += ((out[:,2] > mean_10_min).int() == train_label[:,2]).sum().item()\n",
        "#             acc_15_min_train += ((out[:,3] > mean_15_min).int() == train_label[:,3]).sum().item()\n",
        "#             acc_30_min_train += ((out[:,4] > mean_30_min).int() == train_label[:,4]).sum().item()\n",
        "#             acc_1_hour_train += ((out[:,5] > mean_1_hour).int() == train_label[:,5]).sum().item()\n",
        "#             acc_1_day_train += ((out[:,6] > mean_1_day).int() == train_label[:,6]).sum().item()\n",
        "\n",
        "#             model.zero_grad()\n",
        "#             batch_loss.backward()\n",
        "#             optimizer.step()\n",
        "\n",
        "#             if scheduler:\n",
        "#                 scheduler.step()\n",
        "      \n",
        "#         acc_1_min_val = 0\n",
        "#         acc_5_min_val = 0\n",
        "#         acc_10_min_val = 0\n",
        "#         acc_15_min_val = 0\n",
        "#         acc_30_min_val = 0\n",
        "#         acc_1_hour_val = 0\n",
        "#         acc_1_day_val = 0\n",
        "#         total_loss_val = 0\n",
        "\n",
        "#         with torch.no_grad():\n",
        "#             model.eval()\n",
        "#             for val_input, val_label in tqdm(val_dataloader):\n",
        "\n",
        "#                 val_label = val_label.to(device)\n",
        "#                 input_id = val_input['input_ids'].squeeze(1).to(device)\n",
        "#                 token_type = val_input['token_type_ids'].squeeze(1).to(device)\n",
        "#                 mask = val_input['attention_mask'].squeeze(1).to(device)\n",
        "\n",
        "#                 output = model(input_id, token_type, mask)\n",
        "\n",
        "#                 batch_loss = criterion(output, val_label.float())\n",
        "#                 total_loss_val += batch_loss.item()\n",
        "#                 out = torch.sigmoid(output)\n",
        "\n",
        "#                 acc_1_min_val += ((out[:,0] > mean_1_min).int() == val_label[:,0]).sum().item()\n",
        "#                 acc_5_min_val += ((out[:,1] > mean_5_min).int() == val_label[:,1]).sum().item()\n",
        "#                 acc_10_min_val += ((out[:,2] > mean_10_min).int() == val_label[:,2]).sum().item()\n",
        "#                 acc_15_min_val += ((out[:,3] > mean_15_min).int() == val_label[:,3]).sum().item()\n",
        "#                 acc_30_min_val += ((out[:,4] > mean_30_min).int() == val_label[:,4]).sum().item()\n",
        "#                 acc_1_hour_val += ((out[:,5] > mean_1_hour).int() == val_label[:,5]).sum().item()\n",
        "#                 acc_1_day_val += ((out[:,6] > mean_1_day).int() == val_label[:,6]).sum().item()\n",
        "      \n",
        "#             print(\n",
        "#                 f'Epochs: {epoch_num + 1} | Train Loss: {total_loss_train / len(train_dataset): .5f} \\\n",
        "#                 | Train Acc 1 min: {acc_1_min_train / len(train_dataset): .5f} \\\n",
        "#                 | Train Acc 5 min: {acc_5_min_train / len(train_dataset): .5f} \\\n",
        "#                 | Train Acc 10 min: {acc_10_min_train / len(train_dataset): .5f} \\\n",
        "#                 | Train Acc 15 min: {acc_15_min_train / len(train_dataset): .5f} \\\n",
        "#                 | Train Acc 30 min: {acc_30_min_train / len(train_dataset): .5f} \\\n",
        "#                 | Train Acc 1 hour: {acc_1_hour_train / len(train_dataset): .5f} \\\n",
        "#                 | Train Acc 1 day: {acc_1_day_train / len(train_dataset): .5f} \\\n",
        "#                 | Val Loss: {total_loss_val / len(val_dataset): .5f} \\\n",
        "#                 | Val Acc 1 min: {acc_1_min_val / len(val_dataset): .5f} \\\n",
        "#                 | Val Acc 5 min: {acc_5_min_val / len(val_dataset): .5f} \\\n",
        "#                 | Val Acc 10 min: {acc_10_min_val / len(val_dataset): .5f} \\\n",
        "#                 | Val Acc 15 min: {acc_15_min_val / len(val_dataset): .5f} \\\n",
        "#                 | Val Acc 30 min: {acc_30_min_val / len(val_dataset): .5f} \\\n",
        "#                 | Val Acc 1 hour: {acc_1_hour_val / len(val_dataset): .5f} \\\n",
        "#                 | Val Acc 1 day: {acc_1_day_val / len(val_dataset): .5f}')"
      ],
      "metadata": {
        "id": "p-z29lSRIxEc"
      },
      "execution_count": 9,
      "outputs": []
    },
    {
      "cell_type": "code",
      "source": [
        "def train(model, train_dataloader, val_dataloader, optimizer, criterion, device, epochs, scheduler=None):\n",
        "\n",
        "    mean_1_day = train_target.mean(axis=0)\n",
        "\n",
        "    model = model.to(device)\n",
        "\n",
        "    for epoch_num in range(epochs):\n",
        "        model.train()\n",
        "\n",
        "        acc_1_day_train = 0\n",
        "        total_loss_train = 0\n",
        "\n",
        "        for train_input, train_label in tqdm(train_dataloader):\n",
        "            train_label = train_label.to(device)\n",
        "\n",
        "            input_id = train_input['input_ids'].squeeze(1).to(device)\n",
        "            token_type = train_input['token_type_ids'].squeeze(1).to(device)\n",
        "            mask = train_input['attention_mask'].squeeze(1).to(device)\n",
        "\n",
        "            output = model(input_id, token_type, mask)\n",
        "            batch_loss = criterion(output, train_label.float().unsqueeze(1))\n",
        "            total_loss_train += batch_loss.item()\n",
        "            out = torch.sigmoid(output)\n",
        "\n",
        "            acc_1_day_train += ((out.squeeze(1) > mean_1_day).int() == train_label).sum().item()\n",
        "\n",
        "            model.zero_grad()\n",
        "            batch_loss.backward()\n",
        "            optimizer.step()\n",
        "\n",
        "            if scheduler:\n",
        "                scheduler.step()\n",
        "      \n",
        "        acc_1_day_val = 0\n",
        "        total_loss_val = 0\n",
        "\n",
        "        with torch.no_grad():\n",
        "            model.eval()\n",
        "            for val_input, val_label in tqdm(val_dataloader):\n",
        "\n",
        "                val_label = val_label.to(device)\n",
        "                input_id = val_input['input_ids'].squeeze(1).to(device)\n",
        "                token_type = val_input['token_type_ids'].squeeze(1).to(device)\n",
        "                mask = val_input['attention_mask'].squeeze(1).to(device)\n",
        "\n",
        "                output = model(input_id, token_type, mask)\n",
        "\n",
        "                batch_loss = criterion(output, val_label.float().unsqueeze(1))\n",
        "                total_loss_val += batch_loss.item()\n",
        "                out = torch.sigmoid(output)\n",
        "\n",
        "                acc_1_day_val += ((out.squeeze(1) > mean_1_day).int() == val_label).sum().item()\n",
        "      \n",
        "            print(\n",
        "                f'Epochs: {epoch_num + 1} | Train Loss: {total_loss_train / len(train_dataset): .5f} \\\n",
        "                | Train Acc 1 day: {acc_1_day_train / len(train_dataset): .5f} \\\n",
        "                | Val Loss: {total_loss_val / len(val_dataset): .5f} \\\n",
        "                | Val Acc 1 day: {acc_1_day_val / len(val_dataset): .5f}')"
      ],
      "metadata": {
        "id": "zzPObaUNaNva"
      },
      "execution_count": 10,
      "outputs": []
    },
    {
      "cell_type": "code",
      "source": [
        "batch_size = 32\n",
        "epochs = 5\n",
        "train_dataset, val_dataset = TgDataset(train_texts, train_target), TgDataset(val_texts, val_target)\n",
        "train_dataloader = torch.utils.data.DataLoader(train_dataset, batch_size=batch_size, shuffle=True)\n",
        "val_dataloader = torch.utils.data.DataLoader(val_dataset, batch_size=batch_size)\n",
        "total_steps = len(train_dataloader) * epochs"
      ],
      "metadata": {
        "id": "C8wqvbBbKGTK"
      },
      "execution_count": 11,
      "outputs": []
    },
    {
      "cell_type": "code",
      "source": [
        "n_classes = 1\n",
        "device = 'cuda' if torch.cuda.is_available() else 'cpu'\n",
        "model = BertClassifier(n_classes)\n",
        "LR = 2e-5\n",
        "optimizer = AdamW(model.parameters(), lr=LR)\n",
        "criterion = nn.BCEWithLogitsLoss()\n",
        "scheduler = get_linear_schedule_with_warmup(optimizer, \n",
        "                                            num_warmup_steps = 0,#int(0.1*total_steps),\n",
        "                                            num_training_steps = total_steps)"
      ],
      "metadata": {
        "id": "Fyj3J_NiKI9u"
      },
      "execution_count": 12,
      "outputs": []
    },
    {
      "cell_type": "code",
      "source": [
        "train(model, train_dataloader, val_dataloader, optimizer, criterion, device, 1)"
      ],
      "metadata": {
        "id": "NaJwObnCLGlJ",
        "colab": {
          "base_uri": "https://localhost:8080/"
        },
        "outputId": "1ac3d3ee-4a6b-4e96-f0e4-0c02f629f0ac"
      },
      "execution_count": 13,
      "outputs": [
        {
          "output_type": "stream",
          "name": "stderr",
          "text": [
            "100%|██████████| 46/46 [01:06<00:00,  1.45s/it]\n",
            "100%|██████████| 12/12 [00:16<00:00,  1.37s/it]"
          ]
        },
        {
          "output_type": "stream",
          "name": "stdout",
          "text": [
            "Epochs: 1 | Train Loss:  0.02175                 | Train Acc 1 day:  0.48623                 | Val Loss:  0.02212                 | Val Acc 1 day:  0.35813\n"
          ]
        },
        {
          "output_type": "stream",
          "name": "stderr",
          "text": [
            "\n"
          ]
        }
      ]
    },
    {
      "cell_type": "code",
      "source": [
        "batch_size = 6\n",
        "train_dataloader = torch.utils.data.DataLoader(train_dataset, batch_size=batch_size, shuffle=True)\n",
        "val_dataloader = torch.utils.data.DataLoader(val_dataset, batch_size=batch_size)"
      ],
      "metadata": {
        "id": "NaSh8WJ2dOUy"
      },
      "execution_count": 14,
      "outputs": []
    },
    {
      "cell_type": "code",
      "source": [
        "for param in model.bert.parameters():\n",
        "    param.requires_grad = True"
      ],
      "metadata": {
        "id": "ScIwap6Oaop3"
      },
      "execution_count": 15,
      "outputs": []
    },
    {
      "cell_type": "code",
      "source": [
        "for papram in model.bert.embeddings.parameters():\n",
        "    param.requires_grad = False"
      ],
      "metadata": {
        "id": "oq4RCD-SaxOM"
      },
      "execution_count": 16,
      "outputs": []
    },
    {
      "cell_type": "code",
      "source": [
        "# torch.save(model.state_dict(), '/content/drive/MyDrive/Диссертация/tg_sbert_7_cls.pth')"
      ],
      "metadata": {
        "id": "pHiaLTdOLGs8"
      },
      "execution_count": null,
      "outputs": []
    },
    {
      "cell_type": "code",
      "source": [
        "# model.load_state_dict(torch.load('/content/drive/MyDrive/tg_sbert_7_cls.pth'))"
      ],
      "metadata": {
        "id": "0yrDWsQHv7NS"
      },
      "execution_count": null,
      "outputs": []
    },
    {
      "cell_type": "code",
      "source": [
        "train(model, train_dataloader, val_dataloader, optimizer, criterion, device, epochs, scheduler)"
      ],
      "metadata": {
        "id": "d6X8umFHLG6q",
        "colab": {
          "base_uri": "https://localhost:8080/"
        },
        "outputId": "10be9efc-11f6-42c9-eeb1-71d730dc9997"
      },
      "execution_count": 17,
      "outputs": [
        {
          "output_type": "stream",
          "name": "stderr",
          "text": [
            "100%|██████████| 242/242 [04:00<00:00,  1.01it/s]\n",
            "100%|██████████| 61/61 [00:18<00:00,  3.38it/s]\n"
          ]
        },
        {
          "output_type": "stream",
          "name": "stdout",
          "text": [
            "Epochs: 1 | Train Loss:  0.11508                 | Train Acc 1 day:  0.49518                 | Val Loss:  0.11044                 | Val Acc 1 day:  0.51240\n"
          ]
        },
        {
          "output_type": "stream",
          "name": "stderr",
          "text": [
            "100%|██████████| 242/242 [04:00<00:00,  1.01it/s]\n",
            "100%|██████████| 61/61 [00:18<00:00,  3.38it/s]\n"
          ]
        },
        {
          "output_type": "stream",
          "name": "stdout",
          "text": [
            "Epochs: 2 | Train Loss:  0.11425                 | Train Acc 1 day:  0.46763                 | Val Loss:  0.11044                 | Val Acc 1 day:  0.51240\n"
          ]
        },
        {
          "output_type": "stream",
          "name": "stderr",
          "text": [
            "100%|██████████| 242/242 [04:00<00:00,  1.01it/s]\n",
            "100%|██████████| 61/61 [00:18<00:00,  3.38it/s]\n"
          ]
        },
        {
          "output_type": "stream",
          "name": "stdout",
          "text": [
            "Epochs: 3 | Train Loss:  0.11407                 | Train Acc 1 day:  0.49449                 | Val Loss:  0.11044                 | Val Acc 1 day:  0.51240\n"
          ]
        },
        {
          "output_type": "stream",
          "name": "stderr",
          "text": [
            "100%|██████████| 242/242 [03:59<00:00,  1.01it/s]\n",
            "100%|██████████| 61/61 [00:18<00:00,  3.38it/s]\n"
          ]
        },
        {
          "output_type": "stream",
          "name": "stdout",
          "text": [
            "Epochs: 4 | Train Loss:  0.11407                 | Train Acc 1 day:  0.50138                 | Val Loss:  0.11044                 | Val Acc 1 day:  0.51240\n"
          ]
        },
        {
          "output_type": "stream",
          "name": "stderr",
          "text": [
            "100%|██████████| 242/242 [04:00<00:00,  1.01it/s]\n",
            "100%|██████████| 61/61 [00:18<00:00,  3.38it/s]"
          ]
        },
        {
          "output_type": "stream",
          "name": "stdout",
          "text": [
            "Epochs: 5 | Train Loss:  0.11396                 | Train Acc 1 day:  0.51309                 | Val Loss:  0.11044                 | Val Acc 1 day:  0.51240\n"
          ]
        },
        {
          "output_type": "stream",
          "name": "stderr",
          "text": [
            "\n"
          ]
        }
      ]
    },
    {
      "cell_type": "code",
      "source": [
        "torch.save(model.state_dict(), f'/content/drive/MyDrive/Диссертация/sbert_tg_{company}.pth')"
      ],
      "metadata": {
        "id": "HhQdHNe3LRew"
      },
      "execution_count": null,
      "outputs": []
    },
    {
      "cell_type": "markdown",
      "source": [
        "### Маленькие Bert'ы"
      ],
      "metadata": {
        "id": "XapJmxJOEWhR"
      }
    },
    {
      "cell_type": "code",
      "source": [
        "tokenizer = AutoTokenizer.from_pretrained(\"DeepPavlov/distilrubert-tiny-cased-conversational-v1\")"
      ],
      "metadata": {
        "colab": {
          "base_uri": "https://localhost:8080/",
          "height": 145,
          "referenced_widgets": [
            "d4bd223a4c1548118e458603d2ee076c",
            "53bbd38dd4644aa5aeb0d3adc435e939",
            "2bbd7f3ecfd842ebbf86ef7b4fcc84e2",
            "77b79e5865104f8e8c487d87bba5117e",
            "31308fba905a4086a5f1d67c5daf1cc6",
            "fccd1442ac734be5800a307cf06bb8ef",
            "b726bc62720a478780b609eb5d1749a4",
            "bc744d6cea854833b05cf82fa860997b",
            "2243cf107e404233ac86bc0fafa2b1ba",
            "dc2e6564f4444bd085bacc93a7d70c85",
            "9d96c0c43a3242c3985bbd1b03ed3db2",
            "0d11b02e05874119ab059e7552d01eef",
            "bbbca78c6e2546cdbaed269ab0db98ea",
            "46604979cfeb476f90f2896f6e1e8c6a",
            "ce7ab4371d8648758613a447ae2c7627",
            "f3a4433c766b45c7913c068de64f451c",
            "17873e906cf545a2a2cea5f624a44a48",
            "d8b37d74fc224359a62b5274c3680a11",
            "51809b740b184381a809773100e79dac",
            "02ff0b58758e479ea5f5f253b110b78f",
            "ad133c332d7f4a2a81c58bff3b3fb454",
            "f0a82249fec14c3f839a8698ab3ccef1",
            "9cd5dcb4b27247e2b5d9c8d150487111",
            "1b174fc2b01d4566a67a078d6b00262c",
            "7dbc437cf4b848b0a23d94c43ab99b71",
            "657394feb7fa49ba9055cd450d05cdf1",
            "39d0a4a5ddba4dc39e8fdfcd2cfb621b",
            "a13ca1289891413f8d9751815d344c6b",
            "7aea61e459bd42568d21dde6f2c67047",
            "9772276a100c456a857277c801e4ba51",
            "8d95b72419694168ab4561c30e5f3696",
            "45341da5db3d4f779532da7440b8bcdc",
            "8a8ccb74e39c4ba38b1adede7ce744d1",
            "65f6b80253f049c691bb0dd55d47e891",
            "a12e6c49c5db45e98aaccced08af0199",
            "b1ac5fd49b5d4465a1ead77dbaa4ccc7",
            "7b452d0e96d748d7ba4cea0e2618d746",
            "c5d55aad8ecf49a6ae13a86b397184c2",
            "a5d7b4a870fa46ff9b57a68824f1f511",
            "3e72a8f92b1c4f999c10866c39264e30",
            "6b4b56814aae4b0eb0c2712689359d0e",
            "bff50636fb5c4c84941db895299d685a",
            "defb62dc99be455784b5b005dd9cc5e8",
            "55057a4596d441b495d73d810b6d0cf7"
          ]
        },
        "id": "_-vihJEk5FpI",
        "outputId": "ee1fd50e-9e14-4958-95a9-46cf87b31c7a"
      },
      "execution_count": null,
      "outputs": [
        {
          "output_type": "display_data",
          "data": {
            "text/plain": [
              "Downloading (…)okenizer_config.json:   0%|          | 0.00/239 [00:00<?, ?B/s]"
            ],
            "application/vnd.jupyter.widget-view+json": {
              "version_major": 2,
              "version_minor": 0,
              "model_id": "d4bd223a4c1548118e458603d2ee076c"
            }
          },
          "metadata": {}
        },
        {
          "output_type": "display_data",
          "data": {
            "text/plain": [
              "Downloading (…)lve/main/config.json:   0%|          | 0.00/175 [00:00<?, ?B/s]"
            ],
            "application/vnd.jupyter.widget-view+json": {
              "version_major": 2,
              "version_minor": 0,
              "model_id": "0d11b02e05874119ab059e7552d01eef"
            }
          },
          "metadata": {}
        },
        {
          "output_type": "display_data",
          "data": {
            "text/plain": [
              "Downloading (…)solve/main/vocab.txt:   0%|          | 0.00/382k [00:00<?, ?B/s]"
            ],
            "application/vnd.jupyter.widget-view+json": {
              "version_major": 2,
              "version_minor": 0,
              "model_id": "9cd5dcb4b27247e2b5d9c8d150487111"
            }
          },
          "metadata": {}
        },
        {
          "output_type": "display_data",
          "data": {
            "text/plain": [
              "Downloading (…)cial_tokens_map.json:   0%|          | 0.00/112 [00:00<?, ?B/s]"
            ],
            "application/vnd.jupyter.widget-view+json": {
              "version_major": 2,
              "version_minor": 0,
              "model_id": "65f6b80253f049c691bb0dd55d47e891"
            }
          },
          "metadata": {}
        }
      ]
    },
    {
      "cell_type": "code",
      "source": [
        "class BertClassifierTiny(nn.Module):\n",
        "\n",
        "    def __init__(self, n_classes=7б freeze=True):\n",
        "\n",
        "        super(BertClassifierTiny, self).__init__()\n",
        "\n",
        "        self.bert = AutoModel.from_pretrained(\"DeepPavlov/distilrubert-tiny-cased-conversational-v1\")\n",
        "        self.fc1 = nn.Linear(264*2, 132)\n",
        "        self.fc2 = nn.Linear(264*2+132, 264)\n",
        "        self.fc3 = nn.Linear(264, n_classes)\n",
        "\n",
        "        self.drop1 = nn.Dropout(0.1)\n",
        "        self.drop2 = nn.Dropout(0.1)\n",
        "\n",
        "        self.act = nn.ReLU()\n",
        "\n",
        "        if freeze:\n",
        "          for param in model.bert.parameters():\n",
        "            param.requires_grad = False\n",
        "\n",
        "    def forward(self, input_id, mask):\n",
        "        model_output = self.bert(input_id, mask)\n",
        "        sentence_embeddings = mean_pooling(model_output, mask)\n",
        "        embeddings = torch.cat([model_output[0][:,0,:], sentence_embeddings], dim=1)\n",
        "        embeddings1 = self.fc1(embeddings)\n",
        "        embeddings = torch.cat([embeddings, embeddings1], dim=1)\n",
        "        embeddings = self.act(embeddings)\n",
        "        embeddings = self.drop1(embeddings)\n",
        "        embeddings = self.fc2(embeddings)\n",
        "        embeddings = self.act(embeddings)\n",
        "        embeddings = self.drop2(embeddings)\n",
        "        output = self.fc3(embeddings)\n",
        "\n",
        "        return output"
      ],
      "metadata": {
        "id": "RMCM71ok5Fsl"
      },
      "execution_count": null,
      "outputs": []
    },
    {
      "cell_type": "code",
      "source": [
        "class TgDataset(Dataset):\n",
        "    def __init__(self, texts, targets):\n",
        "    \n",
        "      self.labels = targets.astype(int)\n",
        "      self.texts = [tokenizer(text, \n",
        "                          padding='max_length', max_length = 128, truncation=True,\n",
        "                          return_tensors=\"pt\") for text in texts]\n",
        "\n",
        "    def __len__(self):\n",
        "        return len(self.labels)\n",
        "\n",
        "\n",
        "    def __getitem__(self, idx):\n",
        "\n",
        "        batch_texts = self.texts[idx]\n",
        "        batch_y = self.labels[idx]\n",
        "\n",
        "        return batch_texts, batch_y"
      ],
      "metadata": {
        "id": "FeFfBCmSHf-K"
      },
      "execution_count": null,
      "outputs": []
    },
    {
      "cell_type": "code",
      "source": [
        "# def train(model, train_dataloader, val_dataloader, optimizer, criterion, device, epochs, scheduler=None):\n",
        "\n",
        "#     mean_1_min, mean_5_min, mean_10_min, mean_15_min, mean_30_min, mean_1_hour, mean_1_day = train_target.mean(axis=0)\n",
        "\n",
        "#     model = model.to(device)\n",
        "\n",
        "#     for epoch_num in range(epochs):\n",
        "#         model.train()\n",
        "\n",
        "#         acc_1_min_train = 0\n",
        "#         acc_5_min_train = 0\n",
        "#         acc_10_min_train = 0\n",
        "#         acc_15_min_train = 0\n",
        "#         acc_30_min_train = 0\n",
        "#         acc_1_hour_train = 0\n",
        "#         acc_1_day_train = 0\n",
        "#         total_loss_train = 0\n",
        "\n",
        "#         for train_input, train_label in tqdm(train_dataloader):\n",
        "\n",
        "#             train_label = train_label.to(device)\n",
        "\n",
        "#             input_id = train_input['input_ids'].squeeze(1).to(device)\n",
        "#             mask = train_input['attention_mask'].squeeze(1).to(device)\n",
        "\n",
        "#             output = model(input_id, mask)\n",
        "#             batch_loss = criterion(output, train_label.float())\n",
        "#             total_loss_train += batch_loss.item()\n",
        "#             out = torch.sigmoid(output)\n",
        "\n",
        "#             acc_1_min_train += ((out[:,0] > mean_1_min).int() == train_label[:,0]).sum().item()\n",
        "#             acc_5_min_train += ((out[:,1] > mean_5_min).int() == train_label[:,1]).sum().item()\n",
        "#             acc_10_min_train += ((out[:,2] > mean_10_min).int() == train_label[:,2]).sum().item()\n",
        "#             acc_15_min_train += ((out[:,3] > mean_15_min).int() == train_label[:,3]).sum().item()\n",
        "#             acc_30_min_train += ((out[:,4] > mean_30_min).int() == train_label[:,4]).sum().item()\n",
        "#             acc_1_hour_train += ((out[:,5] > mean_1_hour).int() == train_label[:,5]).sum().item()\n",
        "#             acc_1_day_train += ((out[:,6] > mean_1_day).int() == train_label[:,6]).sum().item()\n",
        "\n",
        "#             model.zero_grad()\n",
        "#             batch_loss.backward()\n",
        "#             optimizer.step()\n",
        "\n",
        "#             if scheduler:\n",
        "#                 scheduler.step()\n",
        "      \n",
        "#         acc_1_min_val = 0\n",
        "#         acc_5_min_val = 0\n",
        "#         acc_10_min_val = 0\n",
        "#         acc_15_min_val = 0\n",
        "#         acc_30_min_val = 0\n",
        "#         acc_1_hour_val = 0\n",
        "#         acc_1_day_val = 0\n",
        "#         total_loss_val = 0\n",
        "\n",
        "#         with torch.no_grad():\n",
        "#             model.eval()\n",
        "#             for val_input, val_label in tqdm(val_dataloader):\n",
        "\n",
        "#                 val_label = val_label.to(device)\n",
        "#                 input_id = val_input['input_ids'].squeeze(1).to(device)\n",
        "#                 mask = val_input['attention_mask'].squeeze(1).to(device)\n",
        "\n",
        "#                 output = model(input_id, mask)\n",
        "\n",
        "#                 batch_loss = criterion(output, val_label.float())\n",
        "#                 total_loss_val += batch_loss.item()\n",
        "#                 out = torch.sigmoid(output)\n",
        "\n",
        "#                 acc_1_min_val += ((out[:,0] > mean_1_min).int() == val_label[:,0]).sum().item()\n",
        "#                 acc_5_min_val += ((out[:,1] > mean_5_min).int() == val_label[:,1]).sum().item()\n",
        "#                 acc_10_min_val += ((out[:,2] > mean_10_min).int() == val_label[:,2]).sum().item()\n",
        "#                 acc_15_min_val += ((out[:,3] > mean_15_min).int() == val_label[:,3]).sum().item()\n",
        "#                 acc_30_min_val += ((out[:,4] > mean_30_min).int() == val_label[:,4]).sum().item()\n",
        "#                 acc_1_hour_val += ((out[:,5] > mean_1_hour).int() == val_label[:,5]).sum().item()\n",
        "#                 acc_1_day_val += ((out[:,6] > mean_1_day).int() == val_label[:,6]).sum().item()\n",
        "      \n",
        "#             print(\n",
        "#                 f'Epochs: {epoch_num + 1} | Train Loss: {total_loss_train / len(train_dataset): .5f} \\\n",
        "#                 | Train Acc 1 min: {acc_1_min_train / len(train_dataset): .5f} \\\n",
        "#                 | Train Acc 5 min: {acc_5_min_train / len(train_dataset): .5f} \\\n",
        "#                 | Train Acc 10 min: {acc_10_min_train / len(train_dataset): .5f} \\\n",
        "#                 | Train Acc 15 min: {acc_15_min_train / len(train_dataset): .5f} \\\n",
        "#                 | Train Acc 30 min: {acc_30_min_train / len(train_dataset): .5f} \\\n",
        "#                 | Train Acc 1 hour: {acc_1_hour_train / len(train_dataset): .5f} \\\n",
        "#                 | Train Acc 1 day: {acc_1_day_train / len(train_dataset): .5f} \\\n",
        "#                 | Val Loss: {total_loss_val / len(val_dataset): .5f} \\\n",
        "#                 | Val Acc 1 min: {acc_1_min_val / len(val_dataset): .5f} \\\n",
        "#                 | Val Acc 5 min: {acc_5_min_val / len(val_dataset): .5f} \\\n",
        "#                 | Val Acc 10 min: {acc_10_min_val / len(val_dataset): .5f} \\\n",
        "#                 | Val Acc 15 min: {acc_15_min_val / len(val_dataset): .5f} \\\n",
        "#                 | Val Acc 30 min: {acc_30_min_val / len(val_dataset): .5f} \\\n",
        "#                 | Val Acc 1 hour: {acc_1_hour_val / len(val_dataset): .5f} \\\n",
        "#                 | Val Acc 1 day: {acc_1_day_val / len(val_dataset): .5f}')"
      ],
      "metadata": {
        "id": "XgeeoGmHI91H"
      },
      "execution_count": null,
      "outputs": []
    },
    {
      "cell_type": "code",
      "source": [
        "def train(model, train_dataloader, val_dataloader, optimizer, criterion, device, epochs, scheduler=None):\n",
        "    mean_1_day = train_target.mean(axis=0)\n",
        "\n",
        "    model = model.to(device)\n",
        "\n",
        "    for epoch_num in range(epochs):\n",
        "        model.train()\n",
        "\n",
        "        acc_1_day_train = 0\n",
        "        total_loss_train = 0\n",
        "\n",
        "        for train_input, train_label in tqdm(train_dataloader):\n",
        "\n",
        "            train_label = train_label.to(device)\n",
        "\n",
        "            input_id = train_input['input_ids'].squeeze(1).to(device)\n",
        "            mask = train_input['attention_mask'].squeeze(1).to(device)\n",
        "\n",
        "            output = model(input_id, mask)\n",
        "            batch_loss = criterion(output, train_label.float())\n",
        "            total_loss_train += batch_loss.item()\n",
        "            out = torch.sigmoid(output)\n",
        "\n",
        "            acc_1_day_train += ((out[:,0] > mean_1_day).int() == train_label[:,0]).sum().item()\n",
        "\n",
        "            model.zero_grad()\n",
        "            batch_loss.backward()\n",
        "            optimizer.step()\n",
        "\n",
        "            if scheduler:\n",
        "                scheduler.step()\n",
        "      \n",
        "        acc_1_day_val = 0\n",
        "        total_loss_val = 0\n",
        "\n",
        "        with torch.no_grad():\n",
        "            model.eval()\n",
        "            for val_input, val_label in tqdm(val_dataloader):\n",
        "\n",
        "                val_label = val_label.to(device)\n",
        "                input_id = val_input['input_ids'].squeeze(1).to(device)\n",
        "                mask = val_input['attention_mask'].squeeze(1).to(device)\n",
        "\n",
        "                output = model(input_id, mask)\n",
        "\n",
        "                batch_loss = criterion(output, val_label.float())\n",
        "                total_loss_val += batch_loss.item()\n",
        "                out = torch.sigmoid(output)\n",
        "\n",
        "                acc_1_day_val += ((out[:,0] > mean_1_day).int() == val_label[:,0]).sum().item()\n",
        "      \n",
        "            print(\n",
        "                f'Epochs: {epoch_num + 1} | Train Loss: {total_loss_train / len(train_dataset): .5f} \\\n",
        "                | Train Acc 1 day: {acc_1_day_train / len(train_dataset): .5f} \\\n",
        "                | Val Loss: {total_loss_val / len(val_dataset): .5f} \\\n",
        "                | Val Acc 1 day: {acc_1_day_val / len(val_dataset): .5f}')"
      ],
      "metadata": {
        "id": "2GXuHrJMbmyx"
      },
      "execution_count": null,
      "outputs": []
    },
    {
      "cell_type": "code",
      "source": [
        "batch_size = 32\n",
        "epochs = 5\n",
        "train_dataset, val_dataset = TgDataset(train_texts, train_target), TgDataset(val_texts, val_target)\n",
        "train_dataloader = torch.utils.data.DataLoader(train_dataset, batch_size=batch_size, shuffle=True)\n",
        "val_dataloader = torch.utils.data.DataLoader(val_dataset, batch_size=batch_size)\n",
        "total_steps = len(train_dataloader) * epochs"
      ],
      "metadata": {
        "id": "DZV2nLiQHgEb"
      },
      "execution_count": null,
      "outputs": []
    },
    {
      "cell_type": "code",
      "source": [
        "n_classes = 7\n",
        "device = 'cuda' if torch.cuda.is_available() else 'cpu'\n",
        "model = BertClassifierTiny(n_classes)\n",
        "LR = 2e-5\n",
        "optimizer = AdamW(model.parameters(), lr=LR)\n",
        "criterion = nn.BCEWithLogitsLoss()\n",
        "scheduler = get_linear_schedule_with_warmup(optimizer, \n",
        "                                            num_warmup_steps = int(0.1*total_steps),\n",
        "                                            num_training_steps = total_steps)"
      ],
      "metadata": {
        "colab": {
          "base_uri": "https://localhost:8080/"
        },
        "id": "HVblTXN1H6A4",
        "outputId": "5576a9db-9a88-4730-afd8-d141dc7cd227"
      },
      "execution_count": null,
      "outputs": [
        {
          "output_type": "stream",
          "name": "stderr",
          "text": [
            "Some weights of the model checkpoint at DeepPavlov/distilrubert-tiny-cased-conversational-v1 were not used when initializing DistilBertModel: ['vocab_projector.bias', 'vocab_transform.bias', 'vocab_layer_norm.bias', 'vocab_layer_norm.weight', 'vocab_projector.weight', 'vocab_transform.weight']\n",
            "- This IS expected if you are initializing DistilBertModel from the checkpoint of a model trained on another task or with another architecture (e.g. initializing a BertForSequenceClassification model from a BertForPreTraining model).\n",
            "- This IS NOT expected if you are initializing DistilBertModel from the checkpoint of a model that you expect to be exactly identical (initializing a BertForSequenceClassification model from a BertForSequenceClassification model).\n"
          ]
        }
      ]
    },
    {
      "cell_type": "code",
      "source": [
        "train(model, train_dataloader, val_dataloader, optimizer, criterion, device, 1)"
      ],
      "metadata": {
        "colab": {
          "base_uri": "https://localhost:8080/"
        },
        "id": "lRBWsjq3IDrU",
        "outputId": "ac83ebf4-9817-4f49-988f-38aa62546076"
      },
      "execution_count": null,
      "outputs": [
        {
          "output_type": "stream",
          "name": "stderr",
          "text": [
            "100%|██████████| 46/46 [00:01<00:00, 25.21it/s]\n",
            "100%|██████████| 12/12 [00:00<00:00, 89.87it/s]"
          ]
        },
        {
          "output_type": "stream",
          "name": "stdout",
          "text": [
            "Epochs: 1 | Train Loss:  0.02205                 | Train Acc 1 min:  0.43182                 | Train Acc 5 min:  0.53237                 | Train Acc 10 min:  0.42287                 | Train Acc 15 min:  0.43388                 | Train Acc 30 min:  0.42218                 | Train Acc 1 hour:  0.44628                 | Train Acc 1 day:  0.47314                 | Val Loss:  0.02297                 | Val Acc 1 min:  0.35989                 | Val Acc 5 min:  0.62912                 | Val Acc 10 min:  0.34890                 | Val Acc 15 min:  0.33516                 | Val Acc 30 min:  0.35989                 | Val Acc 1 hour:  0.37363                 | Val Acc 1 day:  0.51099\n"
          ]
        },
        {
          "output_type": "stream",
          "name": "stderr",
          "text": [
            "\n"
          ]
        }
      ]
    },
    {
      "cell_type": "code",
      "source": [
        "torch.save(model.state_dict(), '/content/drive/MyDrive/Диссертация/tg_tiny_7_cls.pth')"
      ],
      "metadata": {
        "id": "OeYKdmR8LUeD"
      },
      "execution_count": null,
      "outputs": []
    },
    {
      "cell_type": "code",
      "source": [
        "for param in model.bert.parameters():\n",
        "  param.requires_grad = False"
      ],
      "metadata": {
        "id": "MUqu6U1RIDuH"
      },
      "execution_count": null,
      "outputs": []
    },
    {
      "cell_type": "code",
      "source": [
        "train(model, train_dataloader, val_dataloader, optimizer, criterion, device, 15)"
      ],
      "metadata": {
        "colab": {
          "base_uri": "https://localhost:8080/"
        },
        "id": "l3oWuNXQLKd_",
        "outputId": "1f87723b-a5fd-4246-a968-97ad921179be"
      },
      "execution_count": null,
      "outputs": [
        {
          "output_type": "stream",
          "name": "stderr",
          "text": [
            "100%|██████████| 46/46 [00:01<00:00, 23.54it/s]\n",
            "100%|██████████| 12/12 [00:00<00:00, 84.81it/s]\n"
          ]
        },
        {
          "output_type": "stream",
          "name": "stdout",
          "text": [
            "Epochs: 1 | Train Loss:  0.02205                 | Train Acc 1 min:  0.43664                 | Train Acc 5 min:  0.54132                 | Train Acc 10 min:  0.42493                 | Train Acc 15 min:  0.43388                 | Train Acc 30 min:  0.42218                 | Train Acc 1 hour:  0.44628                 | Train Acc 1 day:  0.47521                 | Val Loss:  0.02297                 | Val Acc 1 min:  0.35989                 | Val Acc 5 min:  0.62912                 | Val Acc 10 min:  0.34890                 | Val Acc 15 min:  0.33516                 | Val Acc 30 min:  0.35989                 | Val Acc 1 hour:  0.37363                 | Val Acc 1 day:  0.51099\n"
          ]
        },
        {
          "output_type": "stream",
          "name": "stderr",
          "text": [
            "100%|██████████| 46/46 [00:01<00:00, 24.80it/s]\n",
            "100%|██████████| 12/12 [00:00<00:00, 83.40it/s]\n"
          ]
        },
        {
          "output_type": "stream",
          "name": "stdout",
          "text": [
            "Epochs: 2 | Train Loss:  0.02202                 | Train Acc 1 min:  0.43388                 | Train Acc 5 min:  0.55028                 | Train Acc 10 min:  0.42424                 | Train Acc 15 min:  0.43388                 | Train Acc 30 min:  0.42355                 | Train Acc 1 hour:  0.44766                 | Train Acc 1 day:  0.46970                 | Val Loss:  0.02297                 | Val Acc 1 min:  0.35989                 | Val Acc 5 min:  0.62912                 | Val Acc 10 min:  0.34890                 | Val Acc 15 min:  0.33516                 | Val Acc 30 min:  0.35989                 | Val Acc 1 hour:  0.37363                 | Val Acc 1 day:  0.51099\n"
          ]
        },
        {
          "output_type": "stream",
          "name": "stderr",
          "text": [
            "100%|██████████| 46/46 [00:01<00:00, 24.49it/s]\n",
            "100%|██████████| 12/12 [00:00<00:00, 87.85it/s]\n"
          ]
        },
        {
          "output_type": "stream",
          "name": "stdout",
          "text": [
            "Epochs: 3 | Train Loss:  0.02205                 | Train Acc 1 min:  0.43182                 | Train Acc 5 min:  0.55096                 | Train Acc 10 min:  0.42424                 | Train Acc 15 min:  0.43388                 | Train Acc 30 min:  0.42287                 | Train Acc 1 hour:  0.44904                 | Train Acc 1 day:  0.46970                 | Val Loss:  0.02297                 | Val Acc 1 min:  0.35989                 | Val Acc 5 min:  0.62912                 | Val Acc 10 min:  0.34890                 | Val Acc 15 min:  0.33516                 | Val Acc 30 min:  0.35989                 | Val Acc 1 hour:  0.37363                 | Val Acc 1 day:  0.51099\n"
          ]
        },
        {
          "output_type": "stream",
          "name": "stderr",
          "text": [
            "100%|██████████| 46/46 [00:01<00:00, 24.12it/s]\n",
            "100%|██████████| 12/12 [00:00<00:00, 62.94it/s]\n"
          ]
        },
        {
          "output_type": "stream",
          "name": "stdout",
          "text": [
            "Epochs: 4 | Train Loss:  0.02203                 | Train Acc 1 min:  0.43457                 | Train Acc 5 min:  0.56956                 | Train Acc 10 min:  0.42355                 | Train Acc 15 min:  0.43388                 | Train Acc 30 min:  0.42287                 | Train Acc 1 hour:  0.45041                 | Train Acc 1 day:  0.49311                 | Val Loss:  0.02297                 | Val Acc 1 min:  0.35989                 | Val Acc 5 min:  0.62912                 | Val Acc 10 min:  0.34890                 | Val Acc 15 min:  0.33516                 | Val Acc 30 min:  0.35989                 | Val Acc 1 hour:  0.37363                 | Val Acc 1 day:  0.51099\n"
          ]
        },
        {
          "output_type": "stream",
          "name": "stderr",
          "text": [
            "100%|██████████| 46/46 [00:02<00:00, 20.45it/s]\n",
            "100%|██████████| 12/12 [00:00<00:00, 46.82it/s]\n"
          ]
        },
        {
          "output_type": "stream",
          "name": "stdout",
          "text": [
            "Epochs: 5 | Train Loss:  0.02204                 | Train Acc 1 min:  0.43457                 | Train Acc 5 min:  0.54270                 | Train Acc 10 min:  0.42424                 | Train Acc 15 min:  0.43457                 | Train Acc 30 min:  0.42355                 | Train Acc 1 hour:  0.44697                 | Train Acc 1 day:  0.47245                 | Val Loss:  0.02297                 | Val Acc 1 min:  0.35989                 | Val Acc 5 min:  0.62912                 | Val Acc 10 min:  0.34890                 | Val Acc 15 min:  0.33516                 | Val Acc 30 min:  0.35989                 | Val Acc 1 hour:  0.37363                 | Val Acc 1 day:  0.51099\n"
          ]
        },
        {
          "output_type": "stream",
          "name": "stderr",
          "text": [
            "100%|██████████| 46/46 [00:02<00:00, 19.76it/s]\n",
            "100%|██████████| 12/12 [00:00<00:00, 82.22it/s]\n"
          ]
        },
        {
          "output_type": "stream",
          "name": "stdout",
          "text": [
            "Epochs: 6 | Train Loss:  0.02206                 | Train Acc 1 min:  0.43664                 | Train Acc 5 min:  0.53650                 | Train Acc 10 min:  0.42355                 | Train Acc 15 min:  0.43388                 | Train Acc 30 min:  0.42287                 | Train Acc 1 hour:  0.44835                 | Train Acc 1 day:  0.49105                 | Val Loss:  0.02297                 | Val Acc 1 min:  0.35989                 | Val Acc 5 min:  0.62912                 | Val Acc 10 min:  0.34890                 | Val Acc 15 min:  0.33516                 | Val Acc 30 min:  0.35989                 | Val Acc 1 hour:  0.37363                 | Val Acc 1 day:  0.51099\n"
          ]
        },
        {
          "output_type": "stream",
          "name": "stderr",
          "text": [
            "100%|██████████| 46/46 [00:01<00:00, 25.29it/s]\n",
            "100%|██████████| 12/12 [00:00<00:00, 88.39it/s]\n"
          ]
        },
        {
          "output_type": "stream",
          "name": "stdout",
          "text": [
            "Epochs: 7 | Train Loss:  0.02207                 | Train Acc 1 min:  0.43044                 | Train Acc 5 min:  0.53650                 | Train Acc 10 min:  0.42355                 | Train Acc 15 min:  0.43388                 | Train Acc 30 min:  0.42424                 | Train Acc 1 hour:  0.44766                 | Train Acc 1 day:  0.45730                 | Val Loss:  0.02297                 | Val Acc 1 min:  0.35989                 | Val Acc 5 min:  0.62912                 | Val Acc 10 min:  0.34890                 | Val Acc 15 min:  0.33516                 | Val Acc 30 min:  0.35989                 | Val Acc 1 hour:  0.37363                 | Val Acc 1 day:  0.51099\n"
          ]
        },
        {
          "output_type": "stream",
          "name": "stderr",
          "text": [
            "100%|██████████| 46/46 [00:01<00:00, 25.84it/s]\n",
            "100%|██████████| 12/12 [00:00<00:00, 87.96it/s]\n"
          ]
        },
        {
          "output_type": "stream",
          "name": "stdout",
          "text": [
            "Epochs: 8 | Train Loss:  0.02206                 | Train Acc 1 min:  0.43320                 | Train Acc 5 min:  0.53581                 | Train Acc 10 min:  0.42355                 | Train Acc 15 min:  0.43388                 | Train Acc 30 min:  0.42355                 | Train Acc 1 hour:  0.44559                 | Train Acc 1 day:  0.47176                 | Val Loss:  0.02297                 | Val Acc 1 min:  0.35989                 | Val Acc 5 min:  0.62912                 | Val Acc 10 min:  0.34890                 | Val Acc 15 min:  0.33516                 | Val Acc 30 min:  0.35989                 | Val Acc 1 hour:  0.37363                 | Val Acc 1 day:  0.51099\n"
          ]
        },
        {
          "output_type": "stream",
          "name": "stderr",
          "text": [
            "100%|██████████| 46/46 [00:01<00:00, 25.84it/s]\n",
            "100%|██████████| 12/12 [00:00<00:00, 88.05it/s]\n"
          ]
        },
        {
          "output_type": "stream",
          "name": "stdout",
          "text": [
            "Epochs: 9 | Train Loss:  0.02206                 | Train Acc 1 min:  0.43388                 | Train Acc 5 min:  0.54201                 | Train Acc 10 min:  0.42355                 | Train Acc 15 min:  0.43388                 | Train Acc 30 min:  0.42287                 | Train Acc 1 hour:  0.44697                 | Train Acc 1 day:  0.47727                 | Val Loss:  0.02297                 | Val Acc 1 min:  0.35989                 | Val Acc 5 min:  0.62912                 | Val Acc 10 min:  0.34890                 | Val Acc 15 min:  0.33516                 | Val Acc 30 min:  0.35989                 | Val Acc 1 hour:  0.37363                 | Val Acc 1 day:  0.51099\n"
          ]
        },
        {
          "output_type": "stream",
          "name": "stderr",
          "text": [
            "100%|██████████| 46/46 [00:01<00:00, 26.09it/s]\n",
            "100%|██████████| 12/12 [00:00<00:00, 86.56it/s]\n"
          ]
        },
        {
          "output_type": "stream",
          "name": "stdout",
          "text": [
            "Epochs: 10 | Train Loss:  0.02203                 | Train Acc 1 min:  0.43113                 | Train Acc 5 min:  0.55096                 | Train Acc 10 min:  0.42493                 | Train Acc 15 min:  0.43388                 | Train Acc 30 min:  0.42287                 | Train Acc 1 hour:  0.44766                 | Train Acc 1 day:  0.47176                 | Val Loss:  0.02297                 | Val Acc 1 min:  0.35989                 | Val Acc 5 min:  0.62912                 | Val Acc 10 min:  0.34890                 | Val Acc 15 min:  0.33516                 | Val Acc 30 min:  0.35989                 | Val Acc 1 hour:  0.37363                 | Val Acc 1 day:  0.51099\n"
          ]
        },
        {
          "output_type": "stream",
          "name": "stderr",
          "text": [
            "100%|██████████| 46/46 [00:01<00:00, 25.96it/s]\n",
            "100%|██████████| 12/12 [00:00<00:00, 86.85it/s]\n"
          ]
        },
        {
          "output_type": "stream",
          "name": "stdout",
          "text": [
            "Epochs: 11 | Train Loss:  0.02203                 | Train Acc 1 min:  0.43457                 | Train Acc 5 min:  0.55647                 | Train Acc 10 min:  0.42355                 | Train Acc 15 min:  0.43388                 | Train Acc 30 min:  0.42287                 | Train Acc 1 hour:  0.44904                 | Train Acc 1 day:  0.48416                 | Val Loss:  0.02297                 | Val Acc 1 min:  0.35989                 | Val Acc 5 min:  0.62912                 | Val Acc 10 min:  0.34890                 | Val Acc 15 min:  0.33516                 | Val Acc 30 min:  0.35989                 | Val Acc 1 hour:  0.37363                 | Val Acc 1 day:  0.51099\n"
          ]
        },
        {
          "output_type": "stream",
          "name": "stderr",
          "text": [
            "100%|██████████| 46/46 [00:01<00:00, 24.98it/s]\n",
            "100%|██████████| 12/12 [00:00<00:00, 79.66it/s]\n"
          ]
        },
        {
          "output_type": "stream",
          "name": "stdout",
          "text": [
            "Epochs: 12 | Train Loss:  0.02206                 | Train Acc 1 min:  0.43526                 | Train Acc 5 min:  0.55028                 | Train Acc 10 min:  0.42355                 | Train Acc 15 min:  0.43388                 | Train Acc 30 min:  0.42287                 | Train Acc 1 hour:  0.44628                 | Train Acc 1 day:  0.47452                 | Val Loss:  0.02297                 | Val Acc 1 min:  0.35989                 | Val Acc 5 min:  0.62912                 | Val Acc 10 min:  0.34890                 | Val Acc 15 min:  0.33516                 | Val Acc 30 min:  0.35989                 | Val Acc 1 hour:  0.37363                 | Val Acc 1 day:  0.51099\n"
          ]
        },
        {
          "output_type": "stream",
          "name": "stderr",
          "text": [
            "100%|██████████| 46/46 [00:01<00:00, 25.01it/s]\n",
            "100%|██████████| 12/12 [00:00<00:00, 79.30it/s]\n"
          ]
        },
        {
          "output_type": "stream",
          "name": "stdout",
          "text": [
            "Epochs: 13 | Train Loss:  0.02202                 | Train Acc 1 min:  0.43182                 | Train Acc 5 min:  0.56474                 | Train Acc 10 min:  0.42424                 | Train Acc 15 min:  0.43388                 | Train Acc 30 min:  0.42355                 | Train Acc 1 hour:  0.45041                 | Train Acc 1 day:  0.47727                 | Val Loss:  0.02297                 | Val Acc 1 min:  0.35989                 | Val Acc 5 min:  0.62912                 | Val Acc 10 min:  0.34890                 | Val Acc 15 min:  0.33516                 | Val Acc 30 min:  0.35989                 | Val Acc 1 hour:  0.37363                 | Val Acc 1 day:  0.51099\n"
          ]
        },
        {
          "output_type": "stream",
          "name": "stderr",
          "text": [
            "100%|██████████| 46/46 [00:01<00:00, 25.62it/s]\n",
            "100%|██████████| 12/12 [00:00<00:00, 88.24it/s]\n"
          ]
        },
        {
          "output_type": "stream",
          "name": "stdout",
          "text": [
            "Epochs: 14 | Train Loss:  0.02204                 | Train Acc 1 min:  0.42975                 | Train Acc 5 min:  0.54959                 | Train Acc 10 min:  0.42355                 | Train Acc 15 min:  0.43388                 | Train Acc 30 min:  0.42355                 | Train Acc 1 hour:  0.44559                 | Train Acc 1 day:  0.47314                 | Val Loss:  0.02297                 | Val Acc 1 min:  0.35989                 | Val Acc 5 min:  0.62912                 | Val Acc 10 min:  0.34890                 | Val Acc 15 min:  0.33516                 | Val Acc 30 min:  0.35989                 | Val Acc 1 hour:  0.37363                 | Val Acc 1 day:  0.51099\n"
          ]
        },
        {
          "output_type": "stream",
          "name": "stderr",
          "text": [
            "100%|██████████| 46/46 [00:01<00:00, 26.00it/s]\n",
            "100%|██████████| 12/12 [00:00<00:00, 85.06it/s]"
          ]
        },
        {
          "output_type": "stream",
          "name": "stdout",
          "text": [
            "Epochs: 15 | Train Loss:  0.02205                 | Train Acc 1 min:  0.43388                 | Train Acc 5 min:  0.53168                 | Train Acc 10 min:  0.42355                 | Train Acc 15 min:  0.43388                 | Train Acc 30 min:  0.42287                 | Train Acc 1 hour:  0.44972                 | Train Acc 1 day:  0.47590                 | Val Loss:  0.02297                 | Val Acc 1 min:  0.35989                 | Val Acc 5 min:  0.62912                 | Val Acc 10 min:  0.34890                 | Val Acc 15 min:  0.33516                 | Val Acc 30 min:  0.35989                 | Val Acc 1 hour:  0.37363                 | Val Acc 1 day:  0.51099\n"
          ]
        },
        {
          "output_type": "stream",
          "name": "stderr",
          "text": [
            "\n"
          ]
        }
      ]
    },
    {
      "cell_type": "code",
      "source": [
        "model()"
      ],
      "metadata": {
        "id": "RbN-E6prQfhS"
      },
      "execution_count": null,
      "outputs": []
    },
    {
      "cell_type": "code",
      "source": [
        "model.load_state_dict(torch.load('/content/drive/MyDrive/tg_sbert_7_cls.pth'))"
      ],
      "metadata": {
        "id": "22rEf9oxIDxZ"
      },
      "execution_count": null,
      "outputs": []
    }
  ]
}