{
 "cells": [
  {
   "cell_type": "code",
   "execution_count": 1,
   "id": "8f3b4a82",
   "metadata": {},
   "outputs": [],
   "source": [
    "import os"
   ]
  },
  {
   "cell_type": "code",
   "execution_count": 2,
   "id": "a0a67959",
   "metadata": {},
   "outputs": [],
   "source": [
    "def rename_files(path, new_name):\n",
    "    files = os.listdir(path)\n",
    "    for file in files:\n",
    "        os.rename(f'{path}/{file}', f'{path}/{new_name}_{file}')"
   ]
  },
  {
   "cell_type": "code",
   "execution_count": 3,
   "id": "1fc4a923",
   "metadata": {},
   "outputs": [],
   "source": [
    "rename_files('lenta_economy/raw_cites', 'acer')"
   ]
  },
  {
   "cell_type": "code",
   "execution_count": 4,
   "id": "64213b50",
   "metadata": {},
   "outputs": [],
   "source": [
    "rename_files('lenta_economy/prep_cites', 'acer')"
   ]
  }
 ],
 "metadata": {
  "kernelspec": {
   "display_name": "Python 3 (ipykernel)",
   "language": "python",
   "name": "python3"
  },
  "language_info": {
   "codemirror_mode": {
    "name": "ipython",
    "version": 3
   },
   "file_extension": ".py",
   "mimetype": "text/x-python",
   "name": "python",
   "nbconvert_exporter": "python",
   "pygments_lexer": "ipython3",
   "version": "3.10.5"
  }
 },
 "nbformat": 4,
 "nbformat_minor": 5
}
