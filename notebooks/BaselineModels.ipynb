{
  "nbformat": 4,
  "nbformat_minor": 0,
  "metadata": {
    "colab": {
      "provenance": []
    },
    "kernelspec": {
      "name": "python3",
      "display_name": "Python 3"
    },
    "language_info": {
      "name": "python"
    },
    "accelerator": "GPU",
    "gpuClass": "standard",
    "widgets": {
      "application/vnd.jupyter.widget-state+json": {
        "643c8b2340fe4521badbb82bddba51e3": {
          "model_module": "@jupyter-widgets/controls",
          "model_name": "HBoxModel",
          "model_module_version": "1.5.0",
          "state": {
            "_dom_classes": [],
            "_model_module": "@jupyter-widgets/controls",
            "_model_module_version": "1.5.0",
            "_model_name": "HBoxModel",
            "_view_count": null,
            "_view_module": "@jupyter-widgets/controls",
            "_view_module_version": "1.5.0",
            "_view_name": "HBoxView",
            "box_style": "",
            "children": [
              "IPY_MODEL_c497308f980444028c0a94650482bedb",
              "IPY_MODEL_2f81884ac3a44cc5b9190112acf32543",
              "IPY_MODEL_5a7a254f0f53449c9b2814fa2fca023d"
            ],
            "layout": "IPY_MODEL_d26962ade9374be5b6ce6f68d4754b3a"
          }
        },
        "c497308f980444028c0a94650482bedb": {
          "model_module": "@jupyter-widgets/controls",
          "model_name": "HTMLModel",
          "model_module_version": "1.5.0",
          "state": {
            "_dom_classes": [],
            "_model_module": "@jupyter-widgets/controls",
            "_model_module_version": "1.5.0",
            "_model_name": "HTMLModel",
            "_view_count": null,
            "_view_module": "@jupyter-widgets/controls",
            "_view_module_version": "1.5.0",
            "_view_name": "HTMLView",
            "description": "",
            "description_tooltip": null,
            "layout": "IPY_MODEL_eb2027c8d8b344b483d05b331424d4ab",
            "placeholder": "​",
            "style": "IPY_MODEL_96d466b559f7487ab955ac349eab0727",
            "value": "Downloading (…)solve/main/vocab.txt: 100%"
          }
        },
        "2f81884ac3a44cc5b9190112acf32543": {
          "model_module": "@jupyter-widgets/controls",
          "model_name": "FloatProgressModel",
          "model_module_version": "1.5.0",
          "state": {
            "_dom_classes": [],
            "_model_module": "@jupyter-widgets/controls",
            "_model_module_version": "1.5.0",
            "_model_name": "FloatProgressModel",
            "_view_count": null,
            "_view_module": "@jupyter-widgets/controls",
            "_view_module_version": "1.5.0",
            "_view_name": "ProgressView",
            "bar_style": "success",
            "description": "",
            "description_tooltip": null,
            "layout": "IPY_MODEL_eaf9361535ad476b8b990394bd232d9b",
            "max": 1404983,
            "min": 0,
            "orientation": "horizontal",
            "style": "IPY_MODEL_0468577b3ef84200bef1db3241923d90",
            "value": 1404983
          }
        },
        "5a7a254f0f53449c9b2814fa2fca023d": {
          "model_module": "@jupyter-widgets/controls",
          "model_name": "HTMLModel",
          "model_module_version": "1.5.0",
          "state": {
            "_dom_classes": [],
            "_model_module": "@jupyter-widgets/controls",
            "_model_module_version": "1.5.0",
            "_model_name": "HTMLModel",
            "_view_count": null,
            "_view_module": "@jupyter-widgets/controls",
            "_view_module_version": "1.5.0",
            "_view_name": "HTMLView",
            "description": "",
            "description_tooltip": null,
            "layout": "IPY_MODEL_b81b90b04a0748ef87800f25eb8dc47f",
            "placeholder": "​",
            "style": "IPY_MODEL_69ba09c8a0414da3b5ba1ffd418f4542",
            "value": " 1.40M/1.40M [00:00&lt;00:00, 14.7MB/s]"
          }
        },
        "d26962ade9374be5b6ce6f68d4754b3a": {
          "model_module": "@jupyter-widgets/base",
          "model_name": "LayoutModel",
          "model_module_version": "1.2.0",
          "state": {
            "_model_module": "@jupyter-widgets/base",
            "_model_module_version": "1.2.0",
            "_model_name": "LayoutModel",
            "_view_count": null,
            "_view_module": "@jupyter-widgets/base",
            "_view_module_version": "1.2.0",
            "_view_name": "LayoutView",
            "align_content": null,
            "align_items": null,
            "align_self": null,
            "border": null,
            "bottom": null,
            "display": null,
            "flex": null,
            "flex_flow": null,
            "grid_area": null,
            "grid_auto_columns": null,
            "grid_auto_flow": null,
            "grid_auto_rows": null,
            "grid_column": null,
            "grid_gap": null,
            "grid_row": null,
            "grid_template_areas": null,
            "grid_template_columns": null,
            "grid_template_rows": null,
            "height": null,
            "justify_content": null,
            "justify_items": null,
            "left": null,
            "margin": null,
            "max_height": null,
            "max_width": null,
            "min_height": null,
            "min_width": null,
            "object_fit": null,
            "object_position": null,
            "order": null,
            "overflow": null,
            "overflow_x": null,
            "overflow_y": null,
            "padding": null,
            "right": null,
            "top": null,
            "visibility": null,
            "width": null
          }
        },
        "eb2027c8d8b344b483d05b331424d4ab": {
          "model_module": "@jupyter-widgets/base",
          "model_name": "LayoutModel",
          "model_module_version": "1.2.0",
          "state": {
            "_model_module": "@jupyter-widgets/base",
            "_model_module_version": "1.2.0",
            "_model_name": "LayoutModel",
            "_view_count": null,
            "_view_module": "@jupyter-widgets/base",
            "_view_module_version": "1.2.0",
            "_view_name": "LayoutView",
            "align_content": null,
            "align_items": null,
            "align_self": null,
            "border": null,
            "bottom": null,
            "display": null,
            "flex": null,
            "flex_flow": null,
            "grid_area": null,
            "grid_auto_columns": null,
            "grid_auto_flow": null,
            "grid_auto_rows": null,
            "grid_column": null,
            "grid_gap": null,
            "grid_row": null,
            "grid_template_areas": null,
            "grid_template_columns": null,
            "grid_template_rows": null,
            "height": null,
            "justify_content": null,
            "justify_items": null,
            "left": null,
            "margin": null,
            "max_height": null,
            "max_width": null,
            "min_height": null,
            "min_width": null,
            "object_fit": null,
            "object_position": null,
            "order": null,
            "overflow": null,
            "overflow_x": null,
            "overflow_y": null,
            "padding": null,
            "right": null,
            "top": null,
            "visibility": null,
            "width": null
          }
        },
        "96d466b559f7487ab955ac349eab0727": {
          "model_module": "@jupyter-widgets/controls",
          "model_name": "DescriptionStyleModel",
          "model_module_version": "1.5.0",
          "state": {
            "_model_module": "@jupyter-widgets/controls",
            "_model_module_version": "1.5.0",
            "_model_name": "DescriptionStyleModel",
            "_view_count": null,
            "_view_module": "@jupyter-widgets/base",
            "_view_module_version": "1.2.0",
            "_view_name": "StyleView",
            "description_width": ""
          }
        },
        "eaf9361535ad476b8b990394bd232d9b": {
          "model_module": "@jupyter-widgets/base",
          "model_name": "LayoutModel",
          "model_module_version": "1.2.0",
          "state": {
            "_model_module": "@jupyter-widgets/base",
            "_model_module_version": "1.2.0",
            "_model_name": "LayoutModel",
            "_view_count": null,
            "_view_module": "@jupyter-widgets/base",
            "_view_module_version": "1.2.0",
            "_view_name": "LayoutView",
            "align_content": null,
            "align_items": null,
            "align_self": null,
            "border": null,
            "bottom": null,
            "display": null,
            "flex": null,
            "flex_flow": null,
            "grid_area": null,
            "grid_auto_columns": null,
            "grid_auto_flow": null,
            "grid_auto_rows": null,
            "grid_column": null,
            "grid_gap": null,
            "grid_row": null,
            "grid_template_areas": null,
            "grid_template_columns": null,
            "grid_template_rows": null,
            "height": null,
            "justify_content": null,
            "justify_items": null,
            "left": null,
            "margin": null,
            "max_height": null,
            "max_width": null,
            "min_height": null,
            "min_width": null,
            "object_fit": null,
            "object_position": null,
            "order": null,
            "overflow": null,
            "overflow_x": null,
            "overflow_y": null,
            "padding": null,
            "right": null,
            "top": null,
            "visibility": null,
            "width": null
          }
        },
        "0468577b3ef84200bef1db3241923d90": {
          "model_module": "@jupyter-widgets/controls",
          "model_name": "ProgressStyleModel",
          "model_module_version": "1.5.0",
          "state": {
            "_model_module": "@jupyter-widgets/controls",
            "_model_module_version": "1.5.0",
            "_model_name": "ProgressStyleModel",
            "_view_count": null,
            "_view_module": "@jupyter-widgets/base",
            "_view_module_version": "1.2.0",
            "_view_name": "StyleView",
            "bar_color": null,
            "description_width": ""
          }
        },
        "b81b90b04a0748ef87800f25eb8dc47f": {
          "model_module": "@jupyter-widgets/base",
          "model_name": "LayoutModel",
          "model_module_version": "1.2.0",
          "state": {
            "_model_module": "@jupyter-widgets/base",
            "_model_module_version": "1.2.0",
            "_model_name": "LayoutModel",
            "_view_count": null,
            "_view_module": "@jupyter-widgets/base",
            "_view_module_version": "1.2.0",
            "_view_name": "LayoutView",
            "align_content": null,
            "align_items": null,
            "align_self": null,
            "border": null,
            "bottom": null,
            "display": null,
            "flex": null,
            "flex_flow": null,
            "grid_area": null,
            "grid_auto_columns": null,
            "grid_auto_flow": null,
            "grid_auto_rows": null,
            "grid_column": null,
            "grid_gap": null,
            "grid_row": null,
            "grid_template_areas": null,
            "grid_template_columns": null,
            "grid_template_rows": null,
            "height": null,
            "justify_content": null,
            "justify_items": null,
            "left": null,
            "margin": null,
            "max_height": null,
            "max_width": null,
            "min_height": null,
            "min_width": null,
            "object_fit": null,
            "object_position": null,
            "order": null,
            "overflow": null,
            "overflow_x": null,
            "overflow_y": null,
            "padding": null,
            "right": null,
            "top": null,
            "visibility": null,
            "width": null
          }
        },
        "69ba09c8a0414da3b5ba1ffd418f4542": {
          "model_module": "@jupyter-widgets/controls",
          "model_name": "DescriptionStyleModel",
          "model_module_version": "1.5.0",
          "state": {
            "_model_module": "@jupyter-widgets/controls",
            "_model_module_version": "1.5.0",
            "_model_name": "DescriptionStyleModel",
            "_view_count": null,
            "_view_module": "@jupyter-widgets/base",
            "_view_module_version": "1.2.0",
            "_view_name": "StyleView",
            "description_width": ""
          }
        },
        "2a50da5b02444c5c8e4221c5fdd735ab": {
          "model_module": "@jupyter-widgets/controls",
          "model_name": "HBoxModel",
          "model_module_version": "1.5.0",
          "state": {
            "_dom_classes": [],
            "_model_module": "@jupyter-widgets/controls",
            "_model_module_version": "1.5.0",
            "_model_name": "HBoxModel",
            "_view_count": null,
            "_view_module": "@jupyter-widgets/controls",
            "_view_module_version": "1.5.0",
            "_view_name": "HBoxView",
            "box_style": "",
            "children": [
              "IPY_MODEL_d6e98e5f2d4241fea166bcefa41ee827",
              "IPY_MODEL_19c369f435a4491785bf930e7ac6b5ad",
              "IPY_MODEL_bc21151b5dbb4f259d4863876a5242d0"
            ],
            "layout": "IPY_MODEL_aedfc0ab3eab422f8e75066133334368"
          }
        },
        "d6e98e5f2d4241fea166bcefa41ee827": {
          "model_module": "@jupyter-widgets/controls",
          "model_name": "HTMLModel",
          "model_module_version": "1.5.0",
          "state": {
            "_dom_classes": [],
            "_model_module": "@jupyter-widgets/controls",
            "_model_module_version": "1.5.0",
            "_model_name": "HTMLModel",
            "_view_count": null,
            "_view_module": "@jupyter-widgets/controls",
            "_view_module_version": "1.5.0",
            "_view_name": "HTMLView",
            "description": "",
            "description_tooltip": null,
            "layout": "IPY_MODEL_dd7f32bc32034de4af5aa1ac2a931d46",
            "placeholder": "​",
            "style": "IPY_MODEL_9c1abb60eadc4dda8caae0df425ab48f",
            "value": "Downloading (…)cial_tokens_map.json: 100%"
          }
        },
        "19c369f435a4491785bf930e7ac6b5ad": {
          "model_module": "@jupyter-widgets/controls",
          "model_name": "FloatProgressModel",
          "model_module_version": "1.5.0",
          "state": {
            "_dom_classes": [],
            "_model_module": "@jupyter-widgets/controls",
            "_model_module_version": "1.5.0",
            "_model_name": "FloatProgressModel",
            "_view_count": null,
            "_view_module": "@jupyter-widgets/controls",
            "_view_module_version": "1.5.0",
            "_view_name": "ProgressView",
            "bar_style": "success",
            "description": "",
            "description_tooltip": null,
            "layout": "IPY_MODEL_8808b4b0e6c14035bd39826775202340",
            "max": 112,
            "min": 0,
            "orientation": "horizontal",
            "style": "IPY_MODEL_35c043064d5041f8875a0cc2028e7657",
            "value": 112
          }
        },
        "bc21151b5dbb4f259d4863876a5242d0": {
          "model_module": "@jupyter-widgets/controls",
          "model_name": "HTMLModel",
          "model_module_version": "1.5.0",
          "state": {
            "_dom_classes": [],
            "_model_module": "@jupyter-widgets/controls",
            "_model_module_version": "1.5.0",
            "_model_name": "HTMLModel",
            "_view_count": null,
            "_view_module": "@jupyter-widgets/controls",
            "_view_module_version": "1.5.0",
            "_view_name": "HTMLView",
            "description": "",
            "description_tooltip": null,
            "layout": "IPY_MODEL_293eceab3adb4d3fa4846be04ccaeb3e",
            "placeholder": "​",
            "style": "IPY_MODEL_8f9c2b5fec0944b2a35e8c8bb49efbb4",
            "value": " 112/112 [00:00&lt;00:00, 5.95kB/s]"
          }
        },
        "aedfc0ab3eab422f8e75066133334368": {
          "model_module": "@jupyter-widgets/base",
          "model_name": "LayoutModel",
          "model_module_version": "1.2.0",
          "state": {
            "_model_module": "@jupyter-widgets/base",
            "_model_module_version": "1.2.0",
            "_model_name": "LayoutModel",
            "_view_count": null,
            "_view_module": "@jupyter-widgets/base",
            "_view_module_version": "1.2.0",
            "_view_name": "LayoutView",
            "align_content": null,
            "align_items": null,
            "align_self": null,
            "border": null,
            "bottom": null,
            "display": null,
            "flex": null,
            "flex_flow": null,
            "grid_area": null,
            "grid_auto_columns": null,
            "grid_auto_flow": null,
            "grid_auto_rows": null,
            "grid_column": null,
            "grid_gap": null,
            "grid_row": null,
            "grid_template_areas": null,
            "grid_template_columns": null,
            "grid_template_rows": null,
            "height": null,
            "justify_content": null,
            "justify_items": null,
            "left": null,
            "margin": null,
            "max_height": null,
            "max_width": null,
            "min_height": null,
            "min_width": null,
            "object_fit": null,
            "object_position": null,
            "order": null,
            "overflow": null,
            "overflow_x": null,
            "overflow_y": null,
            "padding": null,
            "right": null,
            "top": null,
            "visibility": null,
            "width": null
          }
        },
        "dd7f32bc32034de4af5aa1ac2a931d46": {
          "model_module": "@jupyter-widgets/base",
          "model_name": "LayoutModel",
          "model_module_version": "1.2.0",
          "state": {
            "_model_module": "@jupyter-widgets/base",
            "_model_module_version": "1.2.0",
            "_model_name": "LayoutModel",
            "_view_count": null,
            "_view_module": "@jupyter-widgets/base",
            "_view_module_version": "1.2.0",
            "_view_name": "LayoutView",
            "align_content": null,
            "align_items": null,
            "align_self": null,
            "border": null,
            "bottom": null,
            "display": null,
            "flex": null,
            "flex_flow": null,
            "grid_area": null,
            "grid_auto_columns": null,
            "grid_auto_flow": null,
            "grid_auto_rows": null,
            "grid_column": null,
            "grid_gap": null,
            "grid_row": null,
            "grid_template_areas": null,
            "grid_template_columns": null,
            "grid_template_rows": null,
            "height": null,
            "justify_content": null,
            "justify_items": null,
            "left": null,
            "margin": null,
            "max_height": null,
            "max_width": null,
            "min_height": null,
            "min_width": null,
            "object_fit": null,
            "object_position": null,
            "order": null,
            "overflow": null,
            "overflow_x": null,
            "overflow_y": null,
            "padding": null,
            "right": null,
            "top": null,
            "visibility": null,
            "width": null
          }
        },
        "9c1abb60eadc4dda8caae0df425ab48f": {
          "model_module": "@jupyter-widgets/controls",
          "model_name": "DescriptionStyleModel",
          "model_module_version": "1.5.0",
          "state": {
            "_model_module": "@jupyter-widgets/controls",
            "_model_module_version": "1.5.0",
            "_model_name": "DescriptionStyleModel",
            "_view_count": null,
            "_view_module": "@jupyter-widgets/base",
            "_view_module_version": "1.2.0",
            "_view_name": "StyleView",
            "description_width": ""
          }
        },
        "8808b4b0e6c14035bd39826775202340": {
          "model_module": "@jupyter-widgets/base",
          "model_name": "LayoutModel",
          "model_module_version": "1.2.0",
          "state": {
            "_model_module": "@jupyter-widgets/base",
            "_model_module_version": "1.2.0",
            "_model_name": "LayoutModel",
            "_view_count": null,
            "_view_module": "@jupyter-widgets/base",
            "_view_module_version": "1.2.0",
            "_view_name": "LayoutView",
            "align_content": null,
            "align_items": null,
            "align_self": null,
            "border": null,
            "bottom": null,
            "display": null,
            "flex": null,
            "flex_flow": null,
            "grid_area": null,
            "grid_auto_columns": null,
            "grid_auto_flow": null,
            "grid_auto_rows": null,
            "grid_column": null,
            "grid_gap": null,
            "grid_row": null,
            "grid_template_areas": null,
            "grid_template_columns": null,
            "grid_template_rows": null,
            "height": null,
            "justify_content": null,
            "justify_items": null,
            "left": null,
            "margin": null,
            "max_height": null,
            "max_width": null,
            "min_height": null,
            "min_width": null,
            "object_fit": null,
            "object_position": null,
            "order": null,
            "overflow": null,
            "overflow_x": null,
            "overflow_y": null,
            "padding": null,
            "right": null,
            "top": null,
            "visibility": null,
            "width": null
          }
        },
        "35c043064d5041f8875a0cc2028e7657": {
          "model_module": "@jupyter-widgets/controls",
          "model_name": "ProgressStyleModel",
          "model_module_version": "1.5.0",
          "state": {
            "_model_module": "@jupyter-widgets/controls",
            "_model_module_version": "1.5.0",
            "_model_name": "ProgressStyleModel",
            "_view_count": null,
            "_view_module": "@jupyter-widgets/base",
            "_view_module_version": "1.2.0",
            "_view_name": "StyleView",
            "bar_color": null,
            "description_width": ""
          }
        },
        "293eceab3adb4d3fa4846be04ccaeb3e": {
          "model_module": "@jupyter-widgets/base",
          "model_name": "LayoutModel",
          "model_module_version": "1.2.0",
          "state": {
            "_model_module": "@jupyter-widgets/base",
            "_model_module_version": "1.2.0",
            "_model_name": "LayoutModel",
            "_view_count": null,
            "_view_module": "@jupyter-widgets/base",
            "_view_module_version": "1.2.0",
            "_view_name": "LayoutView",
            "align_content": null,
            "align_items": null,
            "align_self": null,
            "border": null,
            "bottom": null,
            "display": null,
            "flex": null,
            "flex_flow": null,
            "grid_area": null,
            "grid_auto_columns": null,
            "grid_auto_flow": null,
            "grid_auto_rows": null,
            "grid_column": null,
            "grid_gap": null,
            "grid_row": null,
            "grid_template_areas": null,
            "grid_template_columns": null,
            "grid_template_rows": null,
            "height": null,
            "justify_content": null,
            "justify_items": null,
            "left": null,
            "margin": null,
            "max_height": null,
            "max_width": null,
            "min_height": null,
            "min_width": null,
            "object_fit": null,
            "object_position": null,
            "order": null,
            "overflow": null,
            "overflow_x": null,
            "overflow_y": null,
            "padding": null,
            "right": null,
            "top": null,
            "visibility": null,
            "width": null
          }
        },
        "8f9c2b5fec0944b2a35e8c8bb49efbb4": {
          "model_module": "@jupyter-widgets/controls",
          "model_name": "DescriptionStyleModel",
          "model_module_version": "1.5.0",
          "state": {
            "_model_module": "@jupyter-widgets/controls",
            "_model_module_version": "1.5.0",
            "_model_name": "DescriptionStyleModel",
            "_view_count": null,
            "_view_module": "@jupyter-widgets/base",
            "_view_module_version": "1.2.0",
            "_view_name": "StyleView",
            "description_width": ""
          }
        },
        "4050802d916648f1b08d0b2cbafd80de": {
          "model_module": "@jupyter-widgets/controls",
          "model_name": "HBoxModel",
          "model_module_version": "1.5.0",
          "state": {
            "_dom_classes": [],
            "_model_module": "@jupyter-widgets/controls",
            "_model_module_version": "1.5.0",
            "_model_name": "HBoxModel",
            "_view_count": null,
            "_view_module": "@jupyter-widgets/controls",
            "_view_module_version": "1.5.0",
            "_view_name": "HBoxView",
            "box_style": "",
            "children": [
              "IPY_MODEL_1ac1b8b7c23e40b2bc402b45716c1cdc",
              "IPY_MODEL_6493baf1f05247379a67c75051050e8a",
              "IPY_MODEL_9432e5bd064f4265a2853b734bb8f70f"
            ],
            "layout": "IPY_MODEL_00bcee96a5b6479295f653e227fd13a0"
          }
        },
        "1ac1b8b7c23e40b2bc402b45716c1cdc": {
          "model_module": "@jupyter-widgets/controls",
          "model_name": "HTMLModel",
          "model_module_version": "1.5.0",
          "state": {
            "_dom_classes": [],
            "_model_module": "@jupyter-widgets/controls",
            "_model_module_version": "1.5.0",
            "_model_name": "HTMLModel",
            "_view_count": null,
            "_view_module": "@jupyter-widgets/controls",
            "_view_module_version": "1.5.0",
            "_view_name": "HTMLView",
            "description": "",
            "description_tooltip": null,
            "layout": "IPY_MODEL_a86c55265e864e80b5f168832832debc",
            "placeholder": "​",
            "style": "IPY_MODEL_beda1f49aa8b46078252bd83cd3c6370",
            "value": "Downloading (…)okenizer_config.json: 100%"
          }
        },
        "6493baf1f05247379a67c75051050e8a": {
          "model_module": "@jupyter-widgets/controls",
          "model_name": "FloatProgressModel",
          "model_module_version": "1.5.0",
          "state": {
            "_dom_classes": [],
            "_model_module": "@jupyter-widgets/controls",
            "_model_module_version": "1.5.0",
            "_model_name": "FloatProgressModel",
            "_view_count": null,
            "_view_module": "@jupyter-widgets/controls",
            "_view_module_version": "1.5.0",
            "_view_name": "ProgressView",
            "bar_style": "success",
            "description": "",
            "description_tooltip": null,
            "layout": "IPY_MODEL_1ca6e19a1d7f4109847e2fa381646ff8",
            "max": 585,
            "min": 0,
            "orientation": "horizontal",
            "style": "IPY_MODEL_ebd5a6a36dc1431cb95b2951a61d263c",
            "value": 585
          }
        },
        "9432e5bd064f4265a2853b734bb8f70f": {
          "model_module": "@jupyter-widgets/controls",
          "model_name": "HTMLModel",
          "model_module_version": "1.5.0",
          "state": {
            "_dom_classes": [],
            "_model_module": "@jupyter-widgets/controls",
            "_model_module_version": "1.5.0",
            "_model_name": "HTMLModel",
            "_view_count": null,
            "_view_module": "@jupyter-widgets/controls",
            "_view_module_version": "1.5.0",
            "_view_name": "HTMLView",
            "description": "",
            "description_tooltip": null,
            "layout": "IPY_MODEL_9e8918e7b363437fbfd0b06acdf378d6",
            "placeholder": "​",
            "style": "IPY_MODEL_651c31be4e2f4fc29473b149b6d99f0d",
            "value": " 585/585 [00:00&lt;00:00, 31.9kB/s]"
          }
        },
        "00bcee96a5b6479295f653e227fd13a0": {
          "model_module": "@jupyter-widgets/base",
          "model_name": "LayoutModel",
          "model_module_version": "1.2.0",
          "state": {
            "_model_module": "@jupyter-widgets/base",
            "_model_module_version": "1.2.0",
            "_model_name": "LayoutModel",
            "_view_count": null,
            "_view_module": "@jupyter-widgets/base",
            "_view_module_version": "1.2.0",
            "_view_name": "LayoutView",
            "align_content": null,
            "align_items": null,
            "align_self": null,
            "border": null,
            "bottom": null,
            "display": null,
            "flex": null,
            "flex_flow": null,
            "grid_area": null,
            "grid_auto_columns": null,
            "grid_auto_flow": null,
            "grid_auto_rows": null,
            "grid_column": null,
            "grid_gap": null,
            "grid_row": null,
            "grid_template_areas": null,
            "grid_template_columns": null,
            "grid_template_rows": null,
            "height": null,
            "justify_content": null,
            "justify_items": null,
            "left": null,
            "margin": null,
            "max_height": null,
            "max_width": null,
            "min_height": null,
            "min_width": null,
            "object_fit": null,
            "object_position": null,
            "order": null,
            "overflow": null,
            "overflow_x": null,
            "overflow_y": null,
            "padding": null,
            "right": null,
            "top": null,
            "visibility": null,
            "width": null
          }
        },
        "a86c55265e864e80b5f168832832debc": {
          "model_module": "@jupyter-widgets/base",
          "model_name": "LayoutModel",
          "model_module_version": "1.2.0",
          "state": {
            "_model_module": "@jupyter-widgets/base",
            "_model_module_version": "1.2.0",
            "_model_name": "LayoutModel",
            "_view_count": null,
            "_view_module": "@jupyter-widgets/base",
            "_view_module_version": "1.2.0",
            "_view_name": "LayoutView",
            "align_content": null,
            "align_items": null,
            "align_self": null,
            "border": null,
            "bottom": null,
            "display": null,
            "flex": null,
            "flex_flow": null,
            "grid_area": null,
            "grid_auto_columns": null,
            "grid_auto_flow": null,
            "grid_auto_rows": null,
            "grid_column": null,
            "grid_gap": null,
            "grid_row": null,
            "grid_template_areas": null,
            "grid_template_columns": null,
            "grid_template_rows": null,
            "height": null,
            "justify_content": null,
            "justify_items": null,
            "left": null,
            "margin": null,
            "max_height": null,
            "max_width": null,
            "min_height": null,
            "min_width": null,
            "object_fit": null,
            "object_position": null,
            "order": null,
            "overflow": null,
            "overflow_x": null,
            "overflow_y": null,
            "padding": null,
            "right": null,
            "top": null,
            "visibility": null,
            "width": null
          }
        },
        "beda1f49aa8b46078252bd83cd3c6370": {
          "model_module": "@jupyter-widgets/controls",
          "model_name": "DescriptionStyleModel",
          "model_module_version": "1.5.0",
          "state": {
            "_model_module": "@jupyter-widgets/controls",
            "_model_module_version": "1.5.0",
            "_model_name": "DescriptionStyleModel",
            "_view_count": null,
            "_view_module": "@jupyter-widgets/base",
            "_view_module_version": "1.2.0",
            "_view_name": "StyleView",
            "description_width": ""
          }
        },
        "1ca6e19a1d7f4109847e2fa381646ff8": {
          "model_module": "@jupyter-widgets/base",
          "model_name": "LayoutModel",
          "model_module_version": "1.2.0",
          "state": {
            "_model_module": "@jupyter-widgets/base",
            "_model_module_version": "1.2.0",
            "_model_name": "LayoutModel",
            "_view_count": null,
            "_view_module": "@jupyter-widgets/base",
            "_view_module_version": "1.2.0",
            "_view_name": "LayoutView",
            "align_content": null,
            "align_items": null,
            "align_self": null,
            "border": null,
            "bottom": null,
            "display": null,
            "flex": null,
            "flex_flow": null,
            "grid_area": null,
            "grid_auto_columns": null,
            "grid_auto_flow": null,
            "grid_auto_rows": null,
            "grid_column": null,
            "grid_gap": null,
            "grid_row": null,
            "grid_template_areas": null,
            "grid_template_columns": null,
            "grid_template_rows": null,
            "height": null,
            "justify_content": null,
            "justify_items": null,
            "left": null,
            "margin": null,
            "max_height": null,
            "max_width": null,
            "min_height": null,
            "min_width": null,
            "object_fit": null,
            "object_position": null,
            "order": null,
            "overflow": null,
            "overflow_x": null,
            "overflow_y": null,
            "padding": null,
            "right": null,
            "top": null,
            "visibility": null,
            "width": null
          }
        },
        "ebd5a6a36dc1431cb95b2951a61d263c": {
          "model_module": "@jupyter-widgets/controls",
          "model_name": "ProgressStyleModel",
          "model_module_version": "1.5.0",
          "state": {
            "_model_module": "@jupyter-widgets/controls",
            "_model_module_version": "1.5.0",
            "_model_name": "ProgressStyleModel",
            "_view_count": null,
            "_view_module": "@jupyter-widgets/base",
            "_view_module_version": "1.2.0",
            "_view_name": "StyleView",
            "bar_color": null,
            "description_width": ""
          }
        },
        "9e8918e7b363437fbfd0b06acdf378d6": {
          "model_module": "@jupyter-widgets/base",
          "model_name": "LayoutModel",
          "model_module_version": "1.2.0",
          "state": {
            "_model_module": "@jupyter-widgets/base",
            "_model_module_version": "1.2.0",
            "_model_name": "LayoutModel",
            "_view_count": null,
            "_view_module": "@jupyter-widgets/base",
            "_view_module_version": "1.2.0",
            "_view_name": "LayoutView",
            "align_content": null,
            "align_items": null,
            "align_self": null,
            "border": null,
            "bottom": null,
            "display": null,
            "flex": null,
            "flex_flow": null,
            "grid_area": null,
            "grid_auto_columns": null,
            "grid_auto_flow": null,
            "grid_auto_rows": null,
            "grid_column": null,
            "grid_gap": null,
            "grid_row": null,
            "grid_template_areas": null,
            "grid_template_columns": null,
            "grid_template_rows": null,
            "height": null,
            "justify_content": null,
            "justify_items": null,
            "left": null,
            "margin": null,
            "max_height": null,
            "max_width": null,
            "min_height": null,
            "min_width": null,
            "object_fit": null,
            "object_position": null,
            "order": null,
            "overflow": null,
            "overflow_x": null,
            "overflow_y": null,
            "padding": null,
            "right": null,
            "top": null,
            "visibility": null,
            "width": null
          }
        },
        "651c31be4e2f4fc29473b149b6d99f0d": {
          "model_module": "@jupyter-widgets/controls",
          "model_name": "DescriptionStyleModel",
          "model_module_version": "1.5.0",
          "state": {
            "_model_module": "@jupyter-widgets/controls",
            "_model_module_version": "1.5.0",
            "_model_name": "DescriptionStyleModel",
            "_view_count": null,
            "_view_module": "@jupyter-widgets/base",
            "_view_module_version": "1.2.0",
            "_view_name": "StyleView",
            "description_width": ""
          }
        },
        "d882d981ebe14cb48d79d39ebfba8012": {
          "model_module": "@jupyter-widgets/controls",
          "model_name": "HBoxModel",
          "model_module_version": "1.5.0",
          "state": {
            "_dom_classes": [],
            "_model_module": "@jupyter-widgets/controls",
            "_model_module_version": "1.5.0",
            "_model_name": "HBoxModel",
            "_view_count": null,
            "_view_module": "@jupyter-widgets/controls",
            "_view_module_version": "1.5.0",
            "_view_name": "HBoxView",
            "box_style": "",
            "children": [
              "IPY_MODEL_ab0bc19d0d8a4e669905117bb9bfbb41",
              "IPY_MODEL_87e941ed649848b1a970b73f302ad300",
              "IPY_MODEL_36e3c2bbb319474a8edb2e63f474d760"
            ],
            "layout": "IPY_MODEL_5ba0aed46d40448f953acdeea12fd9cd"
          }
        },
        "ab0bc19d0d8a4e669905117bb9bfbb41": {
          "model_module": "@jupyter-widgets/controls",
          "model_name": "HTMLModel",
          "model_module_version": "1.5.0",
          "state": {
            "_dom_classes": [],
            "_model_module": "@jupyter-widgets/controls",
            "_model_module_version": "1.5.0",
            "_model_name": "HTMLModel",
            "_view_count": null,
            "_view_module": "@jupyter-widgets/controls",
            "_view_module_version": "1.5.0",
            "_view_name": "HTMLView",
            "description": "",
            "description_tooltip": null,
            "layout": "IPY_MODEL_6d0993c985344dd0ba699a8a5d8e5cec",
            "placeholder": "​",
            "style": "IPY_MODEL_a1e58665c08246fa9c8badc211f5aa6b",
            "value": "Downloading (…)lve/main/config.json: 100%"
          }
        },
        "87e941ed649848b1a970b73f302ad300": {
          "model_module": "@jupyter-widgets/controls",
          "model_name": "FloatProgressModel",
          "model_module_version": "1.5.0",
          "state": {
            "_dom_classes": [],
            "_model_module": "@jupyter-widgets/controls",
            "_model_module_version": "1.5.0",
            "_model_name": "FloatProgressModel",
            "_view_count": null,
            "_view_module": "@jupyter-widgets/controls",
            "_view_module_version": "1.5.0",
            "_view_name": "ProgressView",
            "bar_style": "success",
            "description": "",
            "description_tooltip": null,
            "layout": "IPY_MODEL_ff22e23f1b9d4cea84aee9d9ae2dc9d4",
            "max": 1042,
            "min": 0,
            "orientation": "horizontal",
            "style": "IPY_MODEL_7d46068750b84ce49a553437c450f6a8",
            "value": 1042
          }
        },
        "36e3c2bbb319474a8edb2e63f474d760": {
          "model_module": "@jupyter-widgets/controls",
          "model_name": "HTMLModel",
          "model_module_version": "1.5.0",
          "state": {
            "_dom_classes": [],
            "_model_module": "@jupyter-widgets/controls",
            "_model_module_version": "1.5.0",
            "_model_name": "HTMLModel",
            "_view_count": null,
            "_view_module": "@jupyter-widgets/controls",
            "_view_module_version": "1.5.0",
            "_view_name": "HTMLView",
            "description": "",
            "description_tooltip": null,
            "layout": "IPY_MODEL_39be0d860a214a85b15d4ddb015e1fe8",
            "placeholder": "​",
            "style": "IPY_MODEL_f7265bf0dc4b401f9986913bab19c257",
            "value": " 1.04k/1.04k [00:00&lt;00:00, 40.7kB/s]"
          }
        },
        "5ba0aed46d40448f953acdeea12fd9cd": {
          "model_module": "@jupyter-widgets/base",
          "model_name": "LayoutModel",
          "model_module_version": "1.2.0",
          "state": {
            "_model_module": "@jupyter-widgets/base",
            "_model_module_version": "1.2.0",
            "_model_name": "LayoutModel",
            "_view_count": null,
            "_view_module": "@jupyter-widgets/base",
            "_view_module_version": "1.2.0",
            "_view_name": "LayoutView",
            "align_content": null,
            "align_items": null,
            "align_self": null,
            "border": null,
            "bottom": null,
            "display": null,
            "flex": null,
            "flex_flow": null,
            "grid_area": null,
            "grid_auto_columns": null,
            "grid_auto_flow": null,
            "grid_auto_rows": null,
            "grid_column": null,
            "grid_gap": null,
            "grid_row": null,
            "grid_template_areas": null,
            "grid_template_columns": null,
            "grid_template_rows": null,
            "height": null,
            "justify_content": null,
            "justify_items": null,
            "left": null,
            "margin": null,
            "max_height": null,
            "max_width": null,
            "min_height": null,
            "min_width": null,
            "object_fit": null,
            "object_position": null,
            "order": null,
            "overflow": null,
            "overflow_x": null,
            "overflow_y": null,
            "padding": null,
            "right": null,
            "top": null,
            "visibility": null,
            "width": null
          }
        },
        "6d0993c985344dd0ba699a8a5d8e5cec": {
          "model_module": "@jupyter-widgets/base",
          "model_name": "LayoutModel",
          "model_module_version": "1.2.0",
          "state": {
            "_model_module": "@jupyter-widgets/base",
            "_model_module_version": "1.2.0",
            "_model_name": "LayoutModel",
            "_view_count": null,
            "_view_module": "@jupyter-widgets/base",
            "_view_module_version": "1.2.0",
            "_view_name": "LayoutView",
            "align_content": null,
            "align_items": null,
            "align_self": null,
            "border": null,
            "bottom": null,
            "display": null,
            "flex": null,
            "flex_flow": null,
            "grid_area": null,
            "grid_auto_columns": null,
            "grid_auto_flow": null,
            "grid_auto_rows": null,
            "grid_column": null,
            "grid_gap": null,
            "grid_row": null,
            "grid_template_areas": null,
            "grid_template_columns": null,
            "grid_template_rows": null,
            "height": null,
            "justify_content": null,
            "justify_items": null,
            "left": null,
            "margin": null,
            "max_height": null,
            "max_width": null,
            "min_height": null,
            "min_width": null,
            "object_fit": null,
            "object_position": null,
            "order": null,
            "overflow": null,
            "overflow_x": null,
            "overflow_y": null,
            "padding": null,
            "right": null,
            "top": null,
            "visibility": null,
            "width": null
          }
        },
        "a1e58665c08246fa9c8badc211f5aa6b": {
          "model_module": "@jupyter-widgets/controls",
          "model_name": "DescriptionStyleModel",
          "model_module_version": "1.5.0",
          "state": {
            "_model_module": "@jupyter-widgets/controls",
            "_model_module_version": "1.5.0",
            "_model_name": "DescriptionStyleModel",
            "_view_count": null,
            "_view_module": "@jupyter-widgets/base",
            "_view_module_version": "1.2.0",
            "_view_name": "StyleView",
            "description_width": ""
          }
        },
        "ff22e23f1b9d4cea84aee9d9ae2dc9d4": {
          "model_module": "@jupyter-widgets/base",
          "model_name": "LayoutModel",
          "model_module_version": "1.2.0",
          "state": {
            "_model_module": "@jupyter-widgets/base",
            "_model_module_version": "1.2.0",
            "_model_name": "LayoutModel",
            "_view_count": null,
            "_view_module": "@jupyter-widgets/base",
            "_view_module_version": "1.2.0",
            "_view_name": "LayoutView",
            "align_content": null,
            "align_items": null,
            "align_self": null,
            "border": null,
            "bottom": null,
            "display": null,
            "flex": null,
            "flex_flow": null,
            "grid_area": null,
            "grid_auto_columns": null,
            "grid_auto_flow": null,
            "grid_auto_rows": null,
            "grid_column": null,
            "grid_gap": null,
            "grid_row": null,
            "grid_template_areas": null,
            "grid_template_columns": null,
            "grid_template_rows": null,
            "height": null,
            "justify_content": null,
            "justify_items": null,
            "left": null,
            "margin": null,
            "max_height": null,
            "max_width": null,
            "min_height": null,
            "min_width": null,
            "object_fit": null,
            "object_position": null,
            "order": null,
            "overflow": null,
            "overflow_x": null,
            "overflow_y": null,
            "padding": null,
            "right": null,
            "top": null,
            "visibility": null,
            "width": null
          }
        },
        "7d46068750b84ce49a553437c450f6a8": {
          "model_module": "@jupyter-widgets/controls",
          "model_name": "ProgressStyleModel",
          "model_module_version": "1.5.0",
          "state": {
            "_model_module": "@jupyter-widgets/controls",
            "_model_module_version": "1.5.0",
            "_model_name": "ProgressStyleModel",
            "_view_count": null,
            "_view_module": "@jupyter-widgets/base",
            "_view_module_version": "1.2.0",
            "_view_name": "StyleView",
            "bar_color": null,
            "description_width": ""
          }
        },
        "39be0d860a214a85b15d4ddb015e1fe8": {
          "model_module": "@jupyter-widgets/base",
          "model_name": "LayoutModel",
          "model_module_version": "1.2.0",
          "state": {
            "_model_module": "@jupyter-widgets/base",
            "_model_module_version": "1.2.0",
            "_model_name": "LayoutModel",
            "_view_count": null,
            "_view_module": "@jupyter-widgets/base",
            "_view_module_version": "1.2.0",
            "_view_name": "LayoutView",
            "align_content": null,
            "align_items": null,
            "align_self": null,
            "border": null,
            "bottom": null,
            "display": null,
            "flex": null,
            "flex_flow": null,
            "grid_area": null,
            "grid_auto_columns": null,
            "grid_auto_flow": null,
            "grid_auto_rows": null,
            "grid_column": null,
            "grid_gap": null,
            "grid_row": null,
            "grid_template_areas": null,
            "grid_template_columns": null,
            "grid_template_rows": null,
            "height": null,
            "justify_content": null,
            "justify_items": null,
            "left": null,
            "margin": null,
            "max_height": null,
            "max_width": null,
            "min_height": null,
            "min_width": null,
            "object_fit": null,
            "object_position": null,
            "order": null,
            "overflow": null,
            "overflow_x": null,
            "overflow_y": null,
            "padding": null,
            "right": null,
            "top": null,
            "visibility": null,
            "width": null
          }
        },
        "f7265bf0dc4b401f9986913bab19c257": {
          "model_module": "@jupyter-widgets/controls",
          "model_name": "DescriptionStyleModel",
          "model_module_version": "1.5.0",
          "state": {
            "_model_module": "@jupyter-widgets/controls",
            "_model_module_version": "1.5.0",
            "_model_name": "DescriptionStyleModel",
            "_view_count": null,
            "_view_module": "@jupyter-widgets/base",
            "_view_module_version": "1.2.0",
            "_view_name": "StyleView",
            "description_width": ""
          }
        },
        "e539e785d9d746739b04f24635a941e7": {
          "model_module": "@jupyter-widgets/controls",
          "model_name": "HBoxModel",
          "model_module_version": "1.5.0",
          "state": {
            "_dom_classes": [],
            "_model_module": "@jupyter-widgets/controls",
            "_model_module_version": "1.5.0",
            "_model_name": "HBoxModel",
            "_view_count": null,
            "_view_module": "@jupyter-widgets/controls",
            "_view_module_version": "1.5.0",
            "_view_name": "HBoxView",
            "box_style": "",
            "children": [
              "IPY_MODEL_9a124b12a15948f4a4b591a4d8f7f019",
              "IPY_MODEL_571b8e05f66d4bbaa1286d333c722316",
              "IPY_MODEL_c1fb69351f0644a3b40d66c33317478f"
            ],
            "layout": "IPY_MODEL_870146ba78164f15ada3cafb2090c1a4"
          }
        },
        "9a124b12a15948f4a4b591a4d8f7f019": {
          "model_module": "@jupyter-widgets/controls",
          "model_name": "HTMLModel",
          "model_module_version": "1.5.0",
          "state": {
            "_dom_classes": [],
            "_model_module": "@jupyter-widgets/controls",
            "_model_module_version": "1.5.0",
            "_model_name": "HTMLModel",
            "_view_count": null,
            "_view_module": "@jupyter-widgets/controls",
            "_view_module_version": "1.5.0",
            "_view_name": "HTMLView",
            "description": "",
            "description_tooltip": null,
            "layout": "IPY_MODEL_4b465b29aca34beb9ba1923518f063a1",
            "placeholder": "​",
            "style": "IPY_MODEL_6da1deed41954910b0ddb93db9a16f5d",
            "value": "Downloading pytorch_model.bin: 100%"
          }
        },
        "571b8e05f66d4bbaa1286d333c722316": {
          "model_module": "@jupyter-widgets/controls",
          "model_name": "FloatProgressModel",
          "model_module_version": "1.5.0",
          "state": {
            "_dom_classes": [],
            "_model_module": "@jupyter-widgets/controls",
            "_model_module_version": "1.5.0",
            "_model_name": "FloatProgressModel",
            "_view_count": null,
            "_view_module": "@jupyter-widgets/controls",
            "_view_module_version": "1.5.0",
            "_view_name": "ProgressView",
            "bar_style": "success",
            "description": "",
            "description_tooltip": null,
            "layout": "IPY_MODEL_083c89cc8425425d9fb2bffb5e2d26fa",
            "max": 711504045,
            "min": 0,
            "orientation": "horizontal",
            "style": "IPY_MODEL_4d3b2c5bda214c2285118443c15f810c",
            "value": 711504045
          }
        },
        "c1fb69351f0644a3b40d66c33317478f": {
          "model_module": "@jupyter-widgets/controls",
          "model_name": "HTMLModel",
          "model_module_version": "1.5.0",
          "state": {
            "_dom_classes": [],
            "_model_module": "@jupyter-widgets/controls",
            "_model_module_version": "1.5.0",
            "_model_name": "HTMLModel",
            "_view_count": null,
            "_view_module": "@jupyter-widgets/controls",
            "_view_module_version": "1.5.0",
            "_view_name": "HTMLView",
            "description": "",
            "description_tooltip": null,
            "layout": "IPY_MODEL_9f9953e69efc4bae831c620647ce2e5a",
            "placeholder": "​",
            "style": "IPY_MODEL_aa1a068c04ba4ac880ce0a264b0306ed",
            "value": " 712M/712M [00:02&lt;00:00, 239MB/s]"
          }
        },
        "870146ba78164f15ada3cafb2090c1a4": {
          "model_module": "@jupyter-widgets/base",
          "model_name": "LayoutModel",
          "model_module_version": "1.2.0",
          "state": {
            "_model_module": "@jupyter-widgets/base",
            "_model_module_version": "1.2.0",
            "_model_name": "LayoutModel",
            "_view_count": null,
            "_view_module": "@jupyter-widgets/base",
            "_view_module_version": "1.2.0",
            "_view_name": "LayoutView",
            "align_content": null,
            "align_items": null,
            "align_self": null,
            "border": null,
            "bottom": null,
            "display": null,
            "flex": null,
            "flex_flow": null,
            "grid_area": null,
            "grid_auto_columns": null,
            "grid_auto_flow": null,
            "grid_auto_rows": null,
            "grid_column": null,
            "grid_gap": null,
            "grid_row": null,
            "grid_template_areas": null,
            "grid_template_columns": null,
            "grid_template_rows": null,
            "height": null,
            "justify_content": null,
            "justify_items": null,
            "left": null,
            "margin": null,
            "max_height": null,
            "max_width": null,
            "min_height": null,
            "min_width": null,
            "object_fit": null,
            "object_position": null,
            "order": null,
            "overflow": null,
            "overflow_x": null,
            "overflow_y": null,
            "padding": null,
            "right": null,
            "top": null,
            "visibility": null,
            "width": null
          }
        },
        "4b465b29aca34beb9ba1923518f063a1": {
          "model_module": "@jupyter-widgets/base",
          "model_name": "LayoutModel",
          "model_module_version": "1.2.0",
          "state": {
            "_model_module": "@jupyter-widgets/base",
            "_model_module_version": "1.2.0",
            "_model_name": "LayoutModel",
            "_view_count": null,
            "_view_module": "@jupyter-widgets/base",
            "_view_module_version": "1.2.0",
            "_view_name": "LayoutView",
            "align_content": null,
            "align_items": null,
            "align_self": null,
            "border": null,
            "bottom": null,
            "display": null,
            "flex": null,
            "flex_flow": null,
            "grid_area": null,
            "grid_auto_columns": null,
            "grid_auto_flow": null,
            "grid_auto_rows": null,
            "grid_column": null,
            "grid_gap": null,
            "grid_row": null,
            "grid_template_areas": null,
            "grid_template_columns": null,
            "grid_template_rows": null,
            "height": null,
            "justify_content": null,
            "justify_items": null,
            "left": null,
            "margin": null,
            "max_height": null,
            "max_width": null,
            "min_height": null,
            "min_width": null,
            "object_fit": null,
            "object_position": null,
            "order": null,
            "overflow": null,
            "overflow_x": null,
            "overflow_y": null,
            "padding": null,
            "right": null,
            "top": null,
            "visibility": null,
            "width": null
          }
        },
        "6da1deed41954910b0ddb93db9a16f5d": {
          "model_module": "@jupyter-widgets/controls",
          "model_name": "DescriptionStyleModel",
          "model_module_version": "1.5.0",
          "state": {
            "_model_module": "@jupyter-widgets/controls",
            "_model_module_version": "1.5.0",
            "_model_name": "DescriptionStyleModel",
            "_view_count": null,
            "_view_module": "@jupyter-widgets/base",
            "_view_module_version": "1.2.0",
            "_view_name": "StyleView",
            "description_width": ""
          }
        },
        "083c89cc8425425d9fb2bffb5e2d26fa": {
          "model_module": "@jupyter-widgets/base",
          "model_name": "LayoutModel",
          "model_module_version": "1.2.0",
          "state": {
            "_model_module": "@jupyter-widgets/base",
            "_model_module_version": "1.2.0",
            "_model_name": "LayoutModel",
            "_view_count": null,
            "_view_module": "@jupyter-widgets/base",
            "_view_module_version": "1.2.0",
            "_view_name": "LayoutView",
            "align_content": null,
            "align_items": null,
            "align_self": null,
            "border": null,
            "bottom": null,
            "display": null,
            "flex": null,
            "flex_flow": null,
            "grid_area": null,
            "grid_auto_columns": null,
            "grid_auto_flow": null,
            "grid_auto_rows": null,
            "grid_column": null,
            "grid_gap": null,
            "grid_row": null,
            "grid_template_areas": null,
            "grid_template_columns": null,
            "grid_template_rows": null,
            "height": null,
            "justify_content": null,
            "justify_items": null,
            "left": null,
            "margin": null,
            "max_height": null,
            "max_width": null,
            "min_height": null,
            "min_width": null,
            "object_fit": null,
            "object_position": null,
            "order": null,
            "overflow": null,
            "overflow_x": null,
            "overflow_y": null,
            "padding": null,
            "right": null,
            "top": null,
            "visibility": null,
            "width": null
          }
        },
        "4d3b2c5bda214c2285118443c15f810c": {
          "model_module": "@jupyter-widgets/controls",
          "model_name": "ProgressStyleModel",
          "model_module_version": "1.5.0",
          "state": {
            "_model_module": "@jupyter-widgets/controls",
            "_model_module_version": "1.5.0",
            "_model_name": "ProgressStyleModel",
            "_view_count": null,
            "_view_module": "@jupyter-widgets/base",
            "_view_module_version": "1.2.0",
            "_view_name": "StyleView",
            "bar_color": null,
            "description_width": ""
          }
        },
        "9f9953e69efc4bae831c620647ce2e5a": {
          "model_module": "@jupyter-widgets/base",
          "model_name": "LayoutModel",
          "model_module_version": "1.2.0",
          "state": {
            "_model_module": "@jupyter-widgets/base",
            "_model_module_version": "1.2.0",
            "_model_name": "LayoutModel",
            "_view_count": null,
            "_view_module": "@jupyter-widgets/base",
            "_view_module_version": "1.2.0",
            "_view_name": "LayoutView",
            "align_content": null,
            "align_items": null,
            "align_self": null,
            "border": null,
            "bottom": null,
            "display": null,
            "flex": null,
            "flex_flow": null,
            "grid_area": null,
            "grid_auto_columns": null,
            "grid_auto_flow": null,
            "grid_auto_rows": null,
            "grid_column": null,
            "grid_gap": null,
            "grid_row": null,
            "grid_template_areas": null,
            "grid_template_columns": null,
            "grid_template_rows": null,
            "height": null,
            "justify_content": null,
            "justify_items": null,
            "left": null,
            "margin": null,
            "max_height": null,
            "max_width": null,
            "min_height": null,
            "min_width": null,
            "object_fit": null,
            "object_position": null,
            "order": null,
            "overflow": null,
            "overflow_x": null,
            "overflow_y": null,
            "padding": null,
            "right": null,
            "top": null,
            "visibility": null,
            "width": null
          }
        },
        "aa1a068c04ba4ac880ce0a264b0306ed": {
          "model_module": "@jupyter-widgets/controls",
          "model_name": "DescriptionStyleModel",
          "model_module_version": "1.5.0",
          "state": {
            "_model_module": "@jupyter-widgets/controls",
            "_model_module_version": "1.5.0",
            "_model_name": "DescriptionStyleModel",
            "_view_count": null,
            "_view_module": "@jupyter-widgets/base",
            "_view_module_version": "1.2.0",
            "_view_name": "StyleView",
            "description_width": ""
          }
        }
      }
    }
  },
  "cells": [
    {
      "cell_type": "code",
      "execution_count": 1,
      "metadata": {
        "id": "QwGCvHVlnnXo"
      },
      "outputs": [],
      "source": [
        "from sklearn.feature_extraction.text import TfidfVectorizer\n",
        "from sklearn.ensemble import RandomForestClassifier\n",
        "from lightgbm import LGBMClassifier\n",
        "\n",
        "import os\n",
        "import re\n",
        "import gc\n",
        "import warnings\n",
        "\n",
        "import pandas as pd\n",
        "import numpy as np\n",
        "\n",
        "import seaborn as sns\n",
        "from pylab import rcParams\n",
        "import matplotlib.pyplot as plt\n",
        "from matplotlib import rc"
      ]
    },
    {
      "cell_type": "code",
      "source": [
        "from google.colab import drive\n",
        "drive.mount('/content/drive')"
      ],
      "metadata": {
        "colab": {
          "base_uri": "https://localhost:8080/"
        },
        "id": "VaHH3tZayXE9",
        "outputId": "a95860f8-beaa-4063-8e79-ad968b852d06"
      },
      "execution_count": 2,
      "outputs": [
        {
          "output_type": "stream",
          "name": "stdout",
          "text": [
            "Drive already mounted at /content/drive; to attempt to forcibly remount, call drive.mount(\"/content/drive\", force_remount=True).\n"
          ]
        }
      ]
    },
    {
      "cell_type": "code",
      "source": [
        "# #!/bin/bash\n",
        "# !apt-get install openjdk-8-jdk-headless -qq > /dev/null\n",
        "\n",
        "# # install spark (change the version number if needed)\n",
        "# # if [[ ! -f 'spark-3.0.0-bin-hadoop3.2.tgz' ]];\n",
        "# # then\n",
        "# #     wget https://archive.apache.org/dist/spark/spark-3.0.0/spark-3.0.0-bin-hadoop3.2.tgz\n",
        "# # else\n",
        "# #     echo \"file spark-3.0.0-bin-hadoop3.2.tgz already exists!\"\n",
        "# # fi\n",
        "\n",
        "# # chmod -R 777 /content/drive/MyDrive/spark-3.0.0-bin-hadoop3.2\n",
        "# # !wget https://archive.apache.org/dist/spark/spark-3.0.0/spark-3.0.0-bin-hadoop3.2.tgz\n",
        "\n",
        "# # unzip the spark file to the current folder\n",
        "# !tar xf /content/drive/MyDrive/spark-3.0.0-bin-hadoop3.2.tgz\n",
        "\n",
        "# !pip install -q findspark\n",
        "# !pip install -q pyspark"
      ],
      "metadata": {
        "id": "dRatAMskTnKQ"
      },
      "execution_count": 3,
      "outputs": []
    },
    {
      "cell_type": "code",
      "source": [
        "# import os\n",
        "# os.environ[\"JAVA_HOME\"] = \"/usr/lib/jvm/java-8-openjdk-amd64\"\n",
        "# os.environ[\"SPARK_HOME\"] = \"/content/spark-3.0.0-bin-hadoop3.2\"\n",
        "\n",
        "# import findspark\n",
        "# findspark.init()\n",
        "# import pyspark\n",
        "# from pyspark.sql import SparkSession\n",
        "# from pyspark.sql import functions as F\n",
        "# from pyspark.sql.window import Window as W\n",
        "# from pyspark.sql.types import BooleanType\n",
        "# spark = (SparkSession.builder\\\n",
        "#         #  .master('local')\\\n",
        "#         #  .appName('Colab')\\\n",
        "#         #  .config('spark.ui.port', '4050')\\\n",
        "#          .getOrCreate()\n",
        "#          )\n",
        "# spark"
      ],
      "metadata": {
        "id": "agtxG2S-bm8A"
      },
      "execution_count": 4,
      "outputs": []
    },
    {
      "cell_type": "code",
      "source": [
        "# tg = spark.read.parquet('/content/drive/MyDrive/Диссертация/Парсеры сайтов/tg.parquet')"
      ],
      "metadata": {
        "id": "ux85GWc-Uc3d"
      },
      "execution_count": 5,
      "outputs": []
    },
    {
      "cell_type": "code",
      "source": [
        "# news = pd.read_parquet('/content/drive/MyDrive/Диссертация/Парсеры сайтов/news.parquet')\n",
        "tg = pd.read_parquet('/content/drive/MyDrive/Диссертация/Парсеры сайтов/tg.parquet')\n",
        "tg_raw = pd.read_parquet('/content/drive/MyDrive/Диссертация/Парсеры сайтов/tg_raw.parquet')\n",
        "tg.drop(columns=[x for x in tg.columns if bool(re.search('_close', x))], inplace=True)\n",
        "tg = tg.iloc[:, :2].copy()\n",
        "tg = tg.merge(tg_raw, how='left', on='date')\n",
        "del tg_raw\n",
        "tg.dropna(subset=['message_x', 'message_y', 'date'], inplace=True)"
      ],
      "metadata": {
        "id": "c_ZuTBndvpmq"
      },
      "execution_count": 6,
      "outputs": []
    },
    {
      "cell_type": "code",
      "source": [
        "# def to_bool(df):\n",
        "#   for col in df.columns:\n",
        "#     if df[col].contains('True'):\n",
        "#       df.withColumn(col, df.age.cast(BooleanType()))\n",
        "#   return df"
      ],
      "metadata": {
        "id": "6rPJVBWwxYoH"
      },
      "execution_count": 7,
      "outputs": []
    },
    {
      "cell_type": "code",
      "source": [
        "# news = to_bool(news)\n",
        "# tg = to_bool(tg)"
      ],
      "metadata": {
        "id": "3auGJxkfxoXO"
      },
      "execution_count": 8,
      "outputs": []
    },
    {
      "cell_type": "code",
      "source": [
        "sectors = ['finance', 'gold', 'ferrous_metallurgy', 'oil_gas', 'non_ferrous_metallurgy', 'electrical networks', 'telecom', 'it', 'real_estate']\n",
        "companies = ['ALRS', 'AFLT', 'VTBR', 'GAZP', 'GMKN', 'LSRG', 'DSKY', 'IRAO', 'LKOH', 'MAGN', 'MOEX', 'CBOM', 'MTSS', 'ROSN', 'NLMK', 'NVTK', 'PIKK', 'PLZL',\n",
        "              'RTKM', 'RUAL', 'HYDR', 'SBER', 'CHMF', 'AFKS', 'SNGS', 'TATN', 'TCSG', 'TRNFP', 'POGR', 'PHOR', 'FEES', 'HHRU', 'YNDX']"
      ],
      "metadata": {
        "id": "n5OeEG_DmgLu"
      },
      "execution_count": 9,
      "outputs": []
    },
    {
      "cell_type": "code",
      "source": [
        "tg = tg.drop(columns=['views', 'forwards', 'fwd_from'])\n",
        "tg = tg[tg.date < '2022-01-01'].copy()\n",
        "tg = tg.drop(columns=sectors)\n",
        "tg.rename(columns={'message_x': 'message_prep', 'message_y': 'message_raw'}, inplace=True)"
      ],
      "metadata": {
        "id": "vSNuoPOIhtdg"
      },
      "execution_count": 10,
      "outputs": []
    },
    {
      "cell_type": "code",
      "source": [
        "# print((tg.count(), len(tg.columns)))"
      ],
      "metadata": {
        "id": "r0NaGVZ5iK9U"
      },
      "execution_count": 11,
      "outputs": []
    },
    {
      "cell_type": "code",
      "source": [
        "# tg.drop(columns=['views', 'forwards', 'fwd_from'], inplace=True)\n",
        "# # tg.dropna(inplace=True)\n",
        "# tg.sort_values('date', inplace=True)\n",
        "# tg = tg[tg['date'] < '2022-01-01']\n",
        "# tg.reset_index(drop=True, inplace=True)\n",
        "# # news.drop(columns=['title', 'announce'], inplace=True)"
      ],
      "metadata": {
        "id": "ZqMHpk8twrA4"
      },
      "execution_count": 12,
      "outputs": []
    },
    {
      "cell_type": "code",
      "source": [
        "# def get_time_lags(df, mins, hours, days, com):\n",
        "#     price = pd.read_csv(f'/content/drive/MyDrive/Диссертация/Парсеры сайтов/Стоимость акций/1 мин/{com}.csv')\n",
        "#     price['timestamp'] = pd.to_datetime(price['timestamp'])\n",
        "#     price.rename(columns={'timestamp':'date'}, inplace=True)\n",
        "#     price.sort_values('date', ignore_index=True, inplace=True)\n",
        "    \n",
        "#     tmp_mins = pd.DataFrame()\n",
        "#     for m in mins:\n",
        "#         delta = pd.Timedelta(m, unit='min')\n",
        "#         df['date'] -= delta\n",
        "#         mins_price = pd.merge_asof(df, price, on='date', direction='backward')['close']\n",
        "#         df['date'] += delta\n",
        "#         tmp_mins = pd.concat([tmp_mins, mins_price], axis=1)\n",
        "        \n",
        "#     tmp_mins = tmp_mins.to_numpy()\n",
        "    \n",
        "#     tmp_hours = pd.DataFrame()\n",
        "#     for h in hours:\n",
        "#         m = 60 * h\n",
        "#         delta = pd.Timedelta(m, unit='min')\n",
        "#         df['date'] -= delta\n",
        "#         hours_price = pd.merge_asof(df, price, on='date', direction='backward')['close']\n",
        "#         df['date'] += delta\n",
        "#         tmp_hours = pd.concat([tmp_hours, hours_price], axis=1)\n",
        "        \n",
        "#     tmp_hours = tmp_hours.to_numpy()\n",
        "    \n",
        "#     tmp_days = pd.DataFrame()\n",
        "#     for d in days:\n",
        "#         m = 24 * 60 * d\n",
        "#         delta = pd.Timedelta(m, unit='min')\n",
        "#         df['date'] -= delta\n",
        "#         days_price = pd.merge_asof(df, price, on='date', direction='backward')['close']\n",
        "#         df['date'] += delta\n",
        "#         tmp_days = pd.concat([tmp_days, days_price], axis=1)\n",
        "    \n",
        "#     tmp_days.dropna(inplace=True)\n",
        "    \n",
        "#     return tmp_mins, tmp_hours, tmp_days"
      ],
      "metadata": {
        "id": "BpVizPCS2bs7"
      },
      "execution_count": 13,
      "outputs": []
    },
    {
      "cell_type": "code",
      "source": [
        "# gazp = tg[tg['GAZP'] == True].copy()\n",
        "# mins, _, _ = get_time_lags(gazp, [0], [], [], 'GAZP')\n",
        "# gazp['now'] = mins\n",
        "# columns = ['date', 'message', 'now'] + [col for col in gazp.columns if 'GAZP' in col]\n",
        "# gazp = gazp[columns]\n",
        "# gazp.drop(columns=['GAZP'], inplace=True)"
      ],
      "metadata": {
        "id": "xFIcaojS4ubZ"
      },
      "execution_count": 14,
      "outputs": []
    },
    {
      "cell_type": "code",
      "source": [
        "# Случайный лес\n",
        "targets = tg.iloc[3:,:-1].columns\n",
        "for company in companies:\n",
        "  print(company)\n",
        "  # os.mkdir(f'/content/drive/MyDrive/Диссертация/{company}')\n",
        "  comp = tg[tg[company] == True].copy()\n",
        "  comp.dropna(inplace=True)\n",
        "  train, test = comp.iloc[:int(0.8*len(comp)), :], comp.iloc[int(0.8*len(comp)):, :]\n",
        "  tfidf = TfidfVectorizer(sublinear_tf=True, min_df=5,\n",
        "                        ngram_range=(1,2))\n",
        "  features_train = tfidf.fit_transform(train['message_prep'])\n",
        "  features_test = tfidf.transform(test['message_prep'])\n",
        "  X_train = features_train.todense()\n",
        "  X_test = features_test.todense()\n",
        "  tr = [col for col in targets if company in col]\n",
        "  train_logg = []\n",
        "  test_logg = []\n",
        "  base_acc = []\n",
        "  for t in tr:\n",
        "    y_train = train[t].values.astype(int)\n",
        "    y_test = test[t].values.astype(int)\n",
        "    base_acc.append(np.mean(y_train))\n",
        "    for depth in range(3, 16):\n",
        "      clf = RandomForestClassifier(random_state=123, criterion='entropy', n_jobs=-1, max_depth=depth)\n",
        "      y_pred = clf.fit(np.asarray(X_train), y_train).predict(np.asarray(X_test))\n",
        "      test_logg.append(np.mean(y_test==y_pred))\n",
        "      train_pred = clf.predict(np.asarray(X_train))\n",
        "      train_logg.append(np.mean(y_train==train_pred))\n",
        "\n",
        "  with open(f'/content/drive/MyDrive/Диссертация/{company}/{company}_train_logg2.txt', 'w') as fp:\n",
        "    for item in train_logg:\n",
        "        fp.write(\"%s\\n\" % item)\n",
        "  with open(f'/content/drive/MyDrive/Диссертация/{company}/{company}_test_logg2.txt', 'w') as fp:\n",
        "    for item in test_logg:\n",
        "        fp.write(\"%s\\n\" % item)\n",
        "\n",
        "  with open(f'/content/drive/MyDrive/Диссертация/{company}/{company}_base_acc_logg2.txt', 'w') as fp:\n",
        "    for item in base_acc:\n",
        "        fp.write(\"%s\\n\" % item)\n",
        "\n",
        "  \n",
        "  print(f'{company} done')"
      ],
      "metadata": {
        "id": "pRF7is-D5LWG",
        "colab": {
          "base_uri": "https://localhost:8080/"
        },
        "outputId": "e3e0fdbf-b62f-4c21-fc3a-9f46a3fc0a48"
      },
      "execution_count": null,
      "outputs": [
        {
          "output_type": "stream",
          "name": "stdout",
          "text": [
            "ALRS\n",
            "ALRS done\n",
            "AFLT\n",
            "AFLT done\n",
            "VTBR\n",
            "VTBR done\n",
            "GAZP\n",
            "GAZP done\n",
            "GMKN\n",
            "GMKN done\n",
            "LSRG\n",
            "LSRG done\n",
            "DSKY\n",
            "DSKY done\n",
            "IRAO\n",
            "IRAO done\n",
            "LKOH\n",
            "LKOH done\n",
            "MAGN\n",
            "MAGN done\n",
            "MOEX\n",
            "MOEX done\n",
            "CBOM\n",
            "CBOM done\n",
            "MTSS\n",
            "MTSS done\n",
            "ROSN\n",
            "ROSN done\n",
            "NLMK\n",
            "NLMK done\n",
            "NVTK\n",
            "NVTK done\n",
            "PIKK\n",
            "PIKK done\n",
            "PLZL\n",
            "PLZL done\n",
            "RTKM\n",
            "RTKM done\n",
            "RUAL\n",
            "RUAL done\n",
            "HYDR\n",
            "HYDR done\n",
            "SBER\n",
            "SBER done\n",
            "CHMF\n",
            "CHMF done\n",
            "AFKS\n",
            "AFKS done\n",
            "SNGS\n",
            "SNGS done\n",
            "TATN\n",
            "TATN done\n",
            "TCSG\n",
            "TCSG done\n",
            "TRNFP\n",
            "TRNFP done\n",
            "POGR\n",
            "POGR done\n",
            "PHOR\n",
            "PHOR done\n",
            "FEES\n",
            "FEES done\n",
            "HHRU\n",
            "HHRU done\n",
            "YNDX\n",
            "YNDX done\n"
          ]
        }
      ]
    },
    {
      "cell_type": "code",
      "source": [
        "#Градиентный бустинг\n",
        "targets = tg.iloc[3:,:-1].columns\n",
        "for company in companies:\n",
        "  print(company)\n",
        "  # os.mkdir(f'/content/drive/MyDrive/Диссертация/{company}')\n",
        "  comp = tg[tg[company] == True].copy()\n",
        "  comp.dropna(inplace=True)\n",
        "  train, test = comp.iloc[:int(0.8*len(comp)), :], comp.iloc[int(0.8*len(comp)):, :]\n",
        "  tfidf = TfidfVectorizer(sublinear_tf=True, min_df=5,\n",
        "                        ngram_range=(1,2))\n",
        "  features_train = tfidf.fit_transform(train['message_prep'])\n",
        "  features_test = tfidf.transform(test['message_prep'])\n",
        "  X_train = features_train.todense()\n",
        "  X_test = features_test.todense()\n",
        "  tr = [col for col in targets if company in col]\n",
        "  train_logg = []\n",
        "  test_logg = []\n",
        "  base_acc = []\n",
        "  for t in tr:\n",
        "    y_train = train[t].values.astype(int)\n",
        "    y_test = test[t].values.astype(int)\n",
        "    base_acc.append(np.mean(y_train))\n",
        "    for depth in range(3, 16):\n",
        "      clf = LGBMClassifier(random_state=123, n_jobs=-1, max_depth=depth)\n",
        "      y_pred = clf.fit(np.asarray(X_train), y_train).predict(np.asarray(X_test))\n",
        "      test_logg.append(np.mean(y_test==y_pred))\n",
        "      train_pred = clf.predict(np.asarray(X_train))\n",
        "      train_logg.append(np.mean(y_train==train_pred))\n",
        "\n",
        "  with open(f'/content/drive/MyDrive/Диссертация/{company}/{company}_train_logg_boosting2.txt', 'w') as fp:\n",
        "    for item in train_logg:\n",
        "        fp.write(\"%s\\n\" % item)\n",
        "  with open(f'/content/drive/MyDrive/Диссертация/{company}/{company}_test_logg_boosting2.txt', 'w') as fp:\n",
        "    for item in test_logg:\n",
        "        fp.write(\"%s\\n\" % item)\n",
        "\n",
        "  with open(f'/content/drive/MyDrive/Диссертация/{company}/{company}_base_acc_logg_boosting2.txt', 'w') as fp:\n",
        "    for item in base_acc:\n",
        "        fp.write(\"%s\\n\" % item)\n",
        "\n",
        "  \n",
        "  print(f'{company} done')"
      ],
      "metadata": {
        "colab": {
          "base_uri": "https://localhost:8080/"
        },
        "id": "G_vDXWb8Z5Gm",
        "outputId": "1ee740d3-8a76-4b10-d6f2-faea8c03198a"
      },
      "execution_count": null,
      "outputs": [
        {
          "output_type": "stream",
          "name": "stdout",
          "text": [
            "ALRS\n",
            "ALRS done\n",
            "AFLT\n",
            "AFLT done\n",
            "VTBR\n",
            "VTBR done\n",
            "GAZP\n",
            "GAZP done\n",
            "GMKN\n",
            "GMKN done\n",
            "LSRG\n",
            "LSRG done\n",
            "DSKY\n",
            "DSKY done\n",
            "IRAO\n",
            "IRAO done\n",
            "LKOH\n",
            "LKOH done\n",
            "MAGN\n",
            "MAGN done\n",
            "MOEX\n",
            "MOEX done\n",
            "CBOM\n",
            "CBOM done\n",
            "MTSS\n",
            "MTSS done\n",
            "ROSN\n",
            "ROSN done\n",
            "NLMK\n",
            "NLMK done\n",
            "NVTK\n",
            "NVTK done\n",
            "PIKK\n",
            "PIKK done\n",
            "PLZL\n",
            "PLZL done\n",
            "RTKM\n",
            "RTKM done\n",
            "RUAL\n",
            "RUAL done\n",
            "HYDR\n",
            "HYDR done\n",
            "SBER\n",
            "SBER done\n",
            "CHMF\n",
            "CHMF done\n",
            "AFKS\n",
            "AFKS done\n",
            "SNGS\n",
            "SNGS done\n",
            "TATN\n",
            "TATN done\n",
            "TCSG\n",
            "TCSG done\n",
            "TRNFP\n",
            "TRNFP done\n",
            "POGR\n",
            "POGR done\n",
            "PHOR\n",
            "PHOR done\n",
            "FEES\n",
            "FEES done\n",
            "HHRU\n",
            "HHRU done\n",
            "YNDX\n",
            "YNDX done\n"
          ]
        }
      ]
    },
    {
      "cell_type": "markdown",
      "source": [
        "### Нейросетевой подход"
      ],
      "metadata": {
        "id": "3ayWAdfi3Za-"
      }
    },
    {
      "cell_type": "code",
      "source": [
        "pip install transformers"
      ],
      "metadata": {
        "id": "9KTq_Lb73DU-",
        "colab": {
          "base_uri": "https://localhost:8080/"
        },
        "outputId": "eef7df31-8342-4cd3-cc87-01433389409c"
      },
      "execution_count": 15,
      "outputs": [
        {
          "output_type": "stream",
          "name": "stdout",
          "text": [
            "Looking in indexes: https://pypi.org/simple, https://us-python.pkg.dev/colab-wheels/public/simple/\n",
            "Collecting transformers\n",
            "  Downloading transformers-4.27.4-py3-none-any.whl (6.8 MB)\n",
            "\u001b[2K     \u001b[90m━━━━━━━━━━━━━━━━━━━━━━━━━━━━━━━━━━━━━━━━\u001b[0m \u001b[32m6.8/6.8 MB\u001b[0m \u001b[31m29.3 MB/s\u001b[0m eta \u001b[36m0:00:00\u001b[0m\n",
            "\u001b[?25hCollecting huggingface-hub<1.0,>=0.11.0\n",
            "  Downloading huggingface_hub-0.13.4-py3-none-any.whl (200 kB)\n",
            "\u001b[2K     \u001b[90m━━━━━━━━━━━━━━━━━━━━━━━━━━━━━━━━━━━━━━\u001b[0m \u001b[32m200.1/200.1 kB\u001b[0m \u001b[31m21.3 MB/s\u001b[0m eta \u001b[36m0:00:00\u001b[0m\n",
            "\u001b[?25hRequirement already satisfied: tqdm>=4.27 in /usr/local/lib/python3.9/dist-packages (from transformers) (4.65.0)\n",
            "Requirement already satisfied: packaging>=20.0 in /usr/local/lib/python3.9/dist-packages (from transformers) (23.0)\n",
            "Requirement already satisfied: regex!=2019.12.17 in /usr/local/lib/python3.9/dist-packages (from transformers) (2022.10.31)\n",
            "Requirement already satisfied: numpy>=1.17 in /usr/local/lib/python3.9/dist-packages (from transformers) (1.22.4)\n",
            "Collecting tokenizers!=0.11.3,<0.14,>=0.11.1\n",
            "  Downloading tokenizers-0.13.3-cp39-cp39-manylinux_2_17_x86_64.manylinux2014_x86_64.whl (7.8 MB)\n",
            "\u001b[2K     \u001b[90m━━━━━━━━━━━━━━━━━━━━━━━━━━━━━━━━━━━━━━━━\u001b[0m \u001b[32m7.8/7.8 MB\u001b[0m \u001b[31m80.1 MB/s\u001b[0m eta \u001b[36m0:00:00\u001b[0m\n",
            "\u001b[?25hRequirement already satisfied: requests in /usr/local/lib/python3.9/dist-packages (from transformers) (2.27.1)\n",
            "Requirement already satisfied: pyyaml>=5.1 in /usr/local/lib/python3.9/dist-packages (from transformers) (6.0)\n",
            "Requirement already satisfied: filelock in /usr/local/lib/python3.9/dist-packages (from transformers) (3.10.7)\n",
            "Requirement already satisfied: typing-extensions>=3.7.4.3 in /usr/local/lib/python3.9/dist-packages (from huggingface-hub<1.0,>=0.11.0->transformers) (4.5.0)\n",
            "Requirement already satisfied: urllib3<1.27,>=1.21.1 in /usr/local/lib/python3.9/dist-packages (from requests->transformers) (1.26.15)\n",
            "Requirement already satisfied: idna<4,>=2.5 in /usr/local/lib/python3.9/dist-packages (from requests->transformers) (3.4)\n",
            "Requirement already satisfied: certifi>=2017.4.17 in /usr/local/lib/python3.9/dist-packages (from requests->transformers) (2022.12.7)\n",
            "Requirement already satisfied: charset-normalizer~=2.0.0 in /usr/local/lib/python3.9/dist-packages (from requests->transformers) (2.0.12)\n",
            "Installing collected packages: tokenizers, huggingface-hub, transformers\n",
            "Successfully installed huggingface-hub-0.13.4 tokenizers-0.13.3 transformers-4.27.4\n"
          ]
        }
      ]
    },
    {
      "cell_type": "code",
      "source": [
        "import torch\n",
        "from torch import nn\n",
        "from torch.utils.data import Dataset\n",
        "from transformers import BertTokenizer\n",
        "from transformers import BertModel"
      ],
      "metadata": {
        "id": "GXGgGZ6km5B3"
      },
      "execution_count": 16,
      "outputs": []
    },
    {
      "cell_type": "code",
      "source": [
        "tokenizer = BertTokenizer.from_pretrained('SkolkovoInstitute/russian_toxicity_classifier')"
      ],
      "metadata": {
        "id": "RlX2yzUylgm0",
        "colab": {
          "base_uri": "https://localhost:8080/",
          "height": 113,
          "referenced_widgets": [
            "643c8b2340fe4521badbb82bddba51e3",
            "c497308f980444028c0a94650482bedb",
            "2f81884ac3a44cc5b9190112acf32543",
            "5a7a254f0f53449c9b2814fa2fca023d",
            "d26962ade9374be5b6ce6f68d4754b3a",
            "eb2027c8d8b344b483d05b331424d4ab",
            "96d466b559f7487ab955ac349eab0727",
            "eaf9361535ad476b8b990394bd232d9b",
            "0468577b3ef84200bef1db3241923d90",
            "b81b90b04a0748ef87800f25eb8dc47f",
            "69ba09c8a0414da3b5ba1ffd418f4542",
            "2a50da5b02444c5c8e4221c5fdd735ab",
            "d6e98e5f2d4241fea166bcefa41ee827",
            "19c369f435a4491785bf930e7ac6b5ad",
            "bc21151b5dbb4f259d4863876a5242d0",
            "aedfc0ab3eab422f8e75066133334368",
            "dd7f32bc32034de4af5aa1ac2a931d46",
            "9c1abb60eadc4dda8caae0df425ab48f",
            "8808b4b0e6c14035bd39826775202340",
            "35c043064d5041f8875a0cc2028e7657",
            "293eceab3adb4d3fa4846be04ccaeb3e",
            "8f9c2b5fec0944b2a35e8c8bb49efbb4",
            "4050802d916648f1b08d0b2cbafd80de",
            "1ac1b8b7c23e40b2bc402b45716c1cdc",
            "6493baf1f05247379a67c75051050e8a",
            "9432e5bd064f4265a2853b734bb8f70f",
            "00bcee96a5b6479295f653e227fd13a0",
            "a86c55265e864e80b5f168832832debc",
            "beda1f49aa8b46078252bd83cd3c6370",
            "1ca6e19a1d7f4109847e2fa381646ff8",
            "ebd5a6a36dc1431cb95b2951a61d263c",
            "9e8918e7b363437fbfd0b06acdf378d6",
            "651c31be4e2f4fc29473b149b6d99f0d"
          ]
        },
        "outputId": "41678275-82f1-4a59-a174-9da28e855824"
      },
      "execution_count": 17,
      "outputs": [
        {
          "output_type": "display_data",
          "data": {
            "text/plain": [
              "Downloading (…)solve/main/vocab.txt:   0%|          | 0.00/1.40M [00:00<?, ?B/s]"
            ],
            "application/vnd.jupyter.widget-view+json": {
              "version_major": 2,
              "version_minor": 0,
              "model_id": "643c8b2340fe4521badbb82bddba51e3"
            }
          },
          "metadata": {}
        },
        {
          "output_type": "display_data",
          "data": {
            "text/plain": [
              "Downloading (…)cial_tokens_map.json:   0%|          | 0.00/112 [00:00<?, ?B/s]"
            ],
            "application/vnd.jupyter.widget-view+json": {
              "version_major": 2,
              "version_minor": 0,
              "model_id": "2a50da5b02444c5c8e4221c5fdd735ab"
            }
          },
          "metadata": {}
        },
        {
          "output_type": "display_data",
          "data": {
            "text/plain": [
              "Downloading (…)okenizer_config.json:   0%|          | 0.00/585 [00:00<?, ?B/s]"
            ],
            "application/vnd.jupyter.widget-view+json": {
              "version_major": 2,
              "version_minor": 0,
              "model_id": "4050802d916648f1b08d0b2cbafd80de"
            }
          },
          "metadata": {}
        }
      ]
    },
    {
      "cell_type": "code",
      "source": [
        "class TgDataset(Dataset):\n",
        "    def __init__(self, texts, targets):\n",
        "    \n",
        "      self.labels = targets.astype(int)\n",
        "      self.texts = [tokenizer(text, \n",
        "                          padding='max_length', max_length = 512, truncation=True,\n",
        "                          return_tensors=\"pt\") for text in texts]\n",
        "\n",
        "    def __len__(self):\n",
        "        return len(self.labels)\n",
        "\n",
        "\n",
        "    def __getitem__(self, idx):\n",
        "\n",
        "        batch_texts = self.texts[idx]\n",
        "        batch_y = self.labels[idx]\n",
        "\n",
        "        return batch_texts, batch_y"
      ],
      "metadata": {
        "id": "vIaAQzgalqZu"
      },
      "execution_count": 18,
      "outputs": []
    },
    {
      "cell_type": "code",
      "source": [
        "class BertClassifier(nn.Module):\n",
        "\n",
        "    def __init__(self, n_classes=7):\n",
        "\n",
        "        super(BertClassifier, self).__init__()\n",
        "\n",
        "        self.bert = BertModel.from_pretrained('SkolkovoInstitute/russian_toxicity_classifier')\n",
        "        self.classifier = nn.Linear(768, n_classes)\n",
        "        self.act = nn.Softmax(dim=1)\n",
        "\n",
        "    def forward(self, input_id, mask):\n",
        "\n",
        "        _, pooled_output = self.bert(input_ids=input_id, attention_mask=mask, return_dict=False)\n",
        "        final = self.classifier(pooled_output)\n",
        "        final = self.act(final)\n",
        "        return final"
      ],
      "metadata": {
        "id": "y6acbr170o3h"
      },
      "execution_count": 19,
      "outputs": []
    },
    {
      "cell_type": "code",
      "source": [
        "from torch.optim import AdamW\n",
        "from tqdm import tqdm\n",
        "\n",
        "def train(model, train_texts, val_texts, train_target, val_target, learning_rate, epochs):\n",
        "\n",
        "    train, val = TgDataset(train_texts, train_target), TgDataset(val_texts, val_target)\n",
        "\n",
        "    mean_1_min, mean_5_min, mean_10_min, mean_15_min, mean_30_min, mean_1_hour, mean_1_day = train_target.mean(axis=0)\n",
        "    \n",
        "    train_dataloader = torch.utils.data.DataLoader(train, batch_size=8, shuffle=True)\n",
        "    val_dataloader = torch.utils.data.DataLoader(val, batch_size=8)\n",
        "\n",
        "    use_cuda = torch.cuda.is_available()\n",
        "    device = torch.device(\"cuda\" if use_cuda else \"cpu\")\n",
        "\n",
        "    criterion = nn.BCELoss()\n",
        "    optimizer = AdamW(model.parameters(), lr=learning_rate)\n",
        "\n",
        "    if use_cuda:\n",
        "            model = model.cuda()\n",
        "            criterion = criterion.cuda()\n",
        "\n",
        "    for epoch_num in range(epochs):\n",
        "\n",
        "            acc_1_min_train = 0\n",
        "            acc_5_min_train = 0\n",
        "            acc_10_min_train = 0\n",
        "            acc_15_min_train = 0\n",
        "            acc_30_min_train = 0\n",
        "            acc_1_hour_train = 0\n",
        "            acc_1_day_train = 0\n",
        "            total_loss_train = 0\n",
        "\n",
        "            for train_input, train_label in tqdm(train_dataloader):\n",
        "\n",
        "                train_label = train_label.to(device)\n",
        "                mask = train_input['attention_mask'].to(device)\n",
        "                input_id = train_input['input_ids'].squeeze(1).to(device)\n",
        "\n",
        "                output = model(input_id, mask)\n",
        "                \n",
        "                batch_loss = criterion(output, train_label.float())\n",
        "                total_loss_train += batch_loss.item()\n",
        "                \n",
        "                acc_1_min_train += ((output[:,0] > mean_1_min).int() == train_label[:,0]).sum().item()\n",
        "                acc_5_min_train += ((output[:,1] > mean_5_min).int() == train_label[:,1]).sum().item()\n",
        "                acc_10_min_train += ((output[:,2] > mean_10_min).int() == train_label[:,2]).sum().item()\n",
        "                acc_15_min_train += ((output[:,3] > mean_15_min).int() == train_label[:,3]).sum().item()\n",
        "                acc_30_min_train += ((output[:,4] > mean_30_min).int() == train_label[:,4]).sum().item()\n",
        "                acc_1_hour_train += ((output[:,5] > mean_1_hour).int() == train_label[:,5]).sum().item()\n",
        "                acc_1_day_train += ((output[:,6] > mean_1_day).int() == train_label[:,6]).sum().item()\n",
        "\n",
        "                model.zero_grad()\n",
        "                batch_loss.backward()\n",
        "                optimizer.step()\n",
        "            \n",
        "            acc_1_min_val = 0\n",
        "            acc_5_min_val = 0\n",
        "            acc_10_min_val = 0\n",
        "            acc_15_min_val = 0\n",
        "            acc_30_min_val = 0\n",
        "            acc_1_hour_val = 0\n",
        "            acc_1_day_val = 0\n",
        "            total_loss_val = 0\n",
        "\n",
        "            with torch.no_grad():\n",
        "\n",
        "                for val_input, val_label in val_dataloader:\n",
        "\n",
        "                    val_label = val_label.to(device)\n",
        "                    mask = val_input['attention_mask'].to(device)\n",
        "                    input_id = val_input['input_ids'].squeeze(1).to(device)\n",
        "\n",
        "                    output = model(input_id, mask)\n",
        "\n",
        "                    batch_loss = criterion(output, val_label.float())\n",
        "                    total_loss_val += batch_loss.item()\n",
        "                    \n",
        "                    acc_1_min_val += ((output[:,0] > mean_1_min).int() == val_label[:,0]).sum().item()\n",
        "                    acc_5_min_val += ((output[:,1] > mean_5_min).int() == val_label[:,1]).sum().item()\n",
        "                    acc_10_min_val += ((output[:,2] > mean_10_min).int() == val_label[:,2]).sum().item()\n",
        "                    acc_15_min_val += ((output[:,3] > mean_15_min).int() == val_label[:,3]).sum().item()\n",
        "                    acc_30_min_val += ((output[:,4] > mean_30_min).int() == val_label[:,4]).sum().item()\n",
        "                    acc_1_hour_val += ((output[:,5] > mean_1_hour).int() == val_label[:,5]).sum().item()\n",
        "                    acc_1_day_val += ((output[:,6] > mean_1_day).int() == val_label[:,6]).sum().item()\n",
        "            \n",
        "            print(\n",
        "                f'Epochs: {epoch_num + 1} | Train Loss: {total_loss_train / len(train): .3f} \\\n",
        "                | Train Acc 1 min: {acc_1_min_train / len(train): .3f} \\\n",
        "                | Train Acc 5 min: {acc_5_min_train / len(train): .3f} \\\n",
        "                | Train Acc 10 min: {acc_10_min_train / len(train): .3f} \\\n",
        "                | Train Acc 15 min: {acc_15_min_train / len(train): .3f} \\\n",
        "                | Train Acc 30 min: {acc_30_min_train / len(train): .3f} \\\n",
        "                | Train Acc 1 hour: {acc_1_hour_train / len(train): .3f} \\\n",
        "                | Train Acc 1 day: {acc_1_day_train / len(train): .3f} \\\n",
        "                | Val Loss: {total_loss_val / len(val): .3f} \\\n",
        "                | Val Acc 1 min: {acc_1_min_val / len(val): .3f} \\\n",
        "                | Val Acc 5 min: {acc_5_min_val / len(val): .3f} \\\n",
        "                | Val Acc 10 min: {acc_10_min_val / len(val): .3f} \\\n",
        "                | Val Acc 15 min: {acc_15_min_val / len(val): .3f} \\\n",
        "                | Val Acc 30 min: {acc_30_min_val / len(val): .3f} \\\n",
        "                | Val Acc 1 hour: {acc_1_hour_val / len(val): .3f} \\\n",
        "                | Val Acc 1 day: {acc_1_day_val / len(val): .3f}')"
      ],
      "metadata": {
        "id": "q2umwYF11LEG"
      },
      "execution_count": 41,
      "outputs": []
    },
    {
      "cell_type": "code",
      "source": [
        "EPOCHS = 3\n",
        "model = BertClassifier()\n",
        "LR = 1e-6"
      ],
      "metadata": {
        "id": "K_otA5eB2O17",
        "colab": {
          "base_uri": "https://localhost:8080/",
          "height": 156,
          "referenced_widgets": [
            "d882d981ebe14cb48d79d39ebfba8012",
            "ab0bc19d0d8a4e669905117bb9bfbb41",
            "87e941ed649848b1a970b73f302ad300",
            "36e3c2bbb319474a8edb2e63f474d760",
            "5ba0aed46d40448f953acdeea12fd9cd",
            "6d0993c985344dd0ba699a8a5d8e5cec",
            "a1e58665c08246fa9c8badc211f5aa6b",
            "ff22e23f1b9d4cea84aee9d9ae2dc9d4",
            "7d46068750b84ce49a553437c450f6a8",
            "39be0d860a214a85b15d4ddb015e1fe8",
            "f7265bf0dc4b401f9986913bab19c257",
            "e539e785d9d746739b04f24635a941e7",
            "9a124b12a15948f4a4b591a4d8f7f019",
            "571b8e05f66d4bbaa1286d333c722316",
            "c1fb69351f0644a3b40d66c33317478f",
            "870146ba78164f15ada3cafb2090c1a4",
            "4b465b29aca34beb9ba1923518f063a1",
            "6da1deed41954910b0ddb93db9a16f5d",
            "083c89cc8425425d9fb2bffb5e2d26fa",
            "4d3b2c5bda214c2285118443c15f810c",
            "9f9953e69efc4bae831c620647ce2e5a",
            "aa1a068c04ba4ac880ce0a264b0306ed"
          ]
        },
        "outputId": "9411d7bb-d948-413f-ff4c-6c3b691c5818"
      },
      "execution_count": 21,
      "outputs": [
        {
          "output_type": "display_data",
          "data": {
            "text/plain": [
              "Downloading (…)lve/main/config.json:   0%|          | 0.00/1.04k [00:00<?, ?B/s]"
            ],
            "application/vnd.jupyter.widget-view+json": {
              "version_major": 2,
              "version_minor": 0,
              "model_id": "d882d981ebe14cb48d79d39ebfba8012"
            }
          },
          "metadata": {}
        },
        {
          "output_type": "display_data",
          "data": {
            "text/plain": [
              "Downloading pytorch_model.bin:   0%|          | 0.00/712M [00:00<?, ?B/s]"
            ],
            "application/vnd.jupyter.widget-view+json": {
              "version_major": 2,
              "version_minor": 0,
              "model_id": "e539e785d9d746739b04f24635a941e7"
            }
          },
          "metadata": {}
        },
        {
          "output_type": "stream",
          "name": "stderr",
          "text": [
            "Some weights of the model checkpoint at SkolkovoInstitute/russian_toxicity_classifier were not used when initializing BertModel: ['classifier.weight', 'classifier.bias']\n",
            "- This IS expected if you are initializing BertModel from the checkpoint of a model trained on another task or with another architecture (e.g. initializing a BertForSequenceClassification model from a BertForPreTraining model).\n",
            "- This IS NOT expected if you are initializing BertModel from the checkpoint of a model that you expect to be exactly identical (initializing a BertForSequenceClassification model from a BertForSequenceClassification model).\n"
          ]
        }
      ]
    },
    {
      "cell_type": "code",
      "source": [
        "count = tg['message_raw'].str.split().apply(len)"
      ],
      "metadata": {
        "id": "GEKCd6L9mrZf"
      },
      "execution_count": null,
      "outputs": []
    },
    {
      "cell_type": "code",
      "source": [
        "(count == 0).sum()"
      ],
      "metadata": {
        "colab": {
          "base_uri": "https://localhost:8080/"
        },
        "id": "DsyOwkA8njtJ",
        "outputId": "f35c4e88-6b9a-4309-ece0-fcdaac326f3e"
      },
      "execution_count": 41,
      "outputs": [
        {
          "output_type": "execute_result",
          "data": {
            "text/plain": [
              "17933"
            ]
          },
          "metadata": {},
          "execution_count": 41
        }
      ]
    },
    {
      "cell_type": "code",
      "source": [
        "sns.histplot(count)\n",
        "plt.xlim([0, 512]);"
      ],
      "metadata": {
        "colab": {
          "base_uri": "https://localhost:8080/",
          "height": 449
        },
        "id": "f6uMQobsnHue",
        "outputId": "fa4d8ca8-4649-456e-f2ec-09117cbc1392"
      },
      "execution_count": 38,
      "outputs": [
        {
          "output_type": "display_data",
          "data": {
            "text/plain": [
              "<Figure size 640x480 with 1 Axes>"
            ],
            "image/png": "[encoded data removed]"
          },
          "metadata": {}
        }
      ]
    },
    {
      "cell_type": "code",
      "source": [
        "comp = tg[tg['GAZP'] == True].copy()\n",
        "comp.dropna(inplace=True)\n",
        "train_data, test_data = comp.iloc[:int(0.8*len(comp)), :], comp.iloc[int(0.8*len(comp)):, :]\n",
        "cols = [col for col in train_data.columns if 'GAZP_' in col]"
      ],
      "metadata": {
        "id": "UltjMyXZ28S5"
      },
      "execution_count": 22,
      "outputs": []
    },
    {
      "cell_type": "code",
      "source": [
        "counts_gazp = train_data['message_raw'].str.split().apply(len)"
      ],
      "metadata": {
        "id": "6m0feBSDn_gq"
      },
      "execution_count": 43,
      "outputs": []
    },
    {
      "cell_type": "code",
      "source": [
        "counts_gazp.max()"
      ],
      "metadata": {
        "colab": {
          "base_uri": "https://localhost:8080/"
        },
        "id": "7sDCxvA3oV29",
        "outputId": "41f9e54e-6c68-4fdc-993a-697b6a3048cf"
      },
      "execution_count": 49,
      "outputs": [
        {
          "output_type": "execute_result",
          "data": {
            "text/plain": [
              "515"
            ]
          },
          "metadata": {},
          "execution_count": 49
        }
      ]
    },
    {
      "cell_type": "code",
      "source": [
        "sns.histplot(counts_gazp)\n",
        "plt.xlim([0, 512]);"
      ],
      "metadata": {
        "colab": {
          "base_uri": "https://localhost:8080/",
          "height": 449
        },
        "id": "9dVv3x8QoGqN",
        "outputId": "6dbfbafe-73e7-46a8-b30c-b6f00513c847"
      },
      "execution_count": 44,
      "outputs": [
        {
          "output_type": "display_data",
          "data": {
            "text/plain": [
              "<Figure size 640x480 with 1 Axes>"
            ],
            "image/png": "[encoded data removed]"
          },
          "metadata": {}
        }
      ]
    },
    {
      "cell_type": "code",
      "source": [
        "train_texts, val_texts = train_data['message_raw'].values, test_data['message_raw'].values\n",
        "train_target, val_target = train_data[cols].values, test_data[cols].values"
      ],
      "metadata": {
        "id": "h7AogwZl3NVJ"
      },
      "execution_count": 23,
      "outputs": []
    },
    {
      "cell_type": "code",
      "source": [
        "train(model, train_texts, val_texts, train_target, val_target, LR, EPOCHS)"
      ],
      "metadata": {
        "colab": {
          "base_uri": "https://localhost:8080/"
        },
        "id": "AuK45fwP2us5",
        "outputId": "2392e618-80f1-4633-a675-89e3d1489bb1"
      },
      "execution_count": 26,
      "outputs": [
        {
          "output_type": "stream",
          "name": "stderr",
          "text": [
            "100%|██████████| 1571/1571 [19:15<00:00,  1.36it/s]\n"
          ]
        },
        {
          "output_type": "stream",
          "name": "stdout",
          "text": [
            "Epochs: 1 | Train Loss:  0.139                 | Train Acc 1 min:  0.000                 | Train Acc 5 min:  0.000                 | Train Acc 10 min:  0.000                 | Train Acc 15 min:  0.000                 | Train Acc 30 min:  0.000                 | Train Acc 1 hour:  0.000                 | Train Acc 1 day:  0.000                 | Val Loss:  0.140                 | Val Acc 1 min:  0.000                 | Val Acc 5 min:  0.000                 | Val Acc 10 min:  0.000                 | Val Acc 15 min:  0.000                 | Val Acc 30 min:  0.000                 | Val Acc 1 hour:  0.000                 | Val Acc 1 day:  0.000\n"
          ]
        },
        {
          "output_type": "stream",
          "name": "stderr",
          "text": [
            "100%|██████████| 1571/1571 [19:20<00:00,  1.35it/s]\n"
          ]
        },
        {
          "output_type": "stream",
          "name": "stdout",
          "text": [
            "Epochs: 2 | Train Loss:  0.138                 | Train Acc 1 min:  0.000                 | Train Acc 5 min:  0.000                 | Train Acc 10 min:  0.000                 | Train Acc 15 min:  0.000                 | Train Acc 30 min:  0.000                 | Train Acc 1 hour:  0.000                 | Train Acc 1 day:  0.000                 | Val Loss:  0.140                 | Val Acc 1 min:  0.000                 | Val Acc 5 min:  0.000                 | Val Acc 10 min:  0.000                 | Val Acc 15 min:  0.000                 | Val Acc 30 min:  0.000                 | Val Acc 1 hour:  0.000                 | Val Acc 1 day:  0.000\n"
          ]
        },
        {
          "output_type": "stream",
          "name": "stderr",
          "text": [
            "100%|██████████| 1571/1571 [19:21<00:00,  1.35it/s]\n"
          ]
        },
        {
          "output_type": "stream",
          "name": "stdout",
          "text": [
            "Epochs: 3 | Train Loss:  0.138                 | Train Acc 1 min:  0.000                 | Train Acc 5 min:  0.000                 | Train Acc 10 min:  0.000                 | Train Acc 15 min:  0.000                 | Train Acc 30 min:  0.000                 | Train Acc 1 hour:  0.000                 | Train Acc 1 day:  0.000                 | Val Loss:  0.140                 | Val Acc 1 min:  0.000                 | Val Acc 5 min:  0.000                 | Val Acc 10 min:  0.000                 | Val Acc 15 min:  0.000                 | Val Acc 30 min:  0.000                 | Val Acc 1 hour:  0.000                 | Val Acc 1 day:  0.000\n"
          ]
        }
      ]
    },
    {
      "cell_type": "code",
      "source": [
        "torch.save(model.state_dict(), '/content/drive/MyDrive/Диссертация/Tg_raw_Bert_russian_toxicity_classifier.pth')"
      ],
      "metadata": {
        "id": "ctoUQq01CeIm"
      },
      "execution_count": 38,
      "outputs": []
    },
    {
      "cell_type": "code",
      "source": [
        "def evaluate(model, test_texts, test_target, train_target):\n",
        "\n",
        "    mean_1_min, mean_5_min, mean_10_min, mean_15_min, mean_30_min, mean_1_hour, mean_1_day = train_target.mean(axis=0)\n",
        "    test = TgDataset(test_texts, test_target)\n",
        "\n",
        "    test_dataloader = torch.utils.data.DataLoader(test, batch_size=8)\n",
        "\n",
        "    use_cuda = torch.cuda.is_available()\n",
        "    device = torch.device(\"cuda\" if use_cuda else \"cpu\")\n",
        "\n",
        "    if use_cuda:\n",
        "\n",
        "        model = model.cuda()\n",
        "\n",
        "    acc_1_min_test = 0\n",
        "    acc_5_min_test = 0\n",
        "    acc_10_min_test = 0\n",
        "    acc_15_min_test = 0\n",
        "    acc_30_min_test = 0\n",
        "    acc_1_hour_test = 0\n",
        "    acc_1_day_test = 0\n",
        "    total_loss_test = 0\n",
        "\n",
        "    with torch.no_grad():\n",
        "\n",
        "        for test_input, test_label in test_dataloader:\n",
        "\n",
        "              test_label = test_label.to(device)\n",
        "              mask = test_input['attention_mask'].to(device)\n",
        "              input_id = test_input['input_ids'].squeeze(1).to(device)\n",
        "\n",
        "              output = model(input_id, mask)\n",
        "\n",
        "              acc_1_min_test += ((output[:,0] > mean_1_min).int() == test_label[:,0]).sum().item()\n",
        "              acc_5_min_test += ((output[:,1] > mean_5_min).int() == test_label[:,1]).sum().item()\n",
        "              acc_10_min_test += ((output[:,2] > mean_10_min).int() == test_label[:,2]).sum().item()\n",
        "              acc_15_min_test += ((output[:,3] > mean_15_min).int() == test_label[:,3]).sum().item()\n",
        "              acc_30_min_test += ((output[:,4] > mean_30_min).int() == test_label[:,4]).sum().item()\n",
        "              acc_1_hour_test += ((output[:,5] > mean_1_hour).int() == test_label[:,5]).sum().item()\n",
        "              acc_1_day_test += ((output[:,6] > mean_1_day).int() == test_label[:,6]).sum().item()\n",
        "            \n",
        "    print(\n",
        "      f'| Test Acc 1 min: {acc_1_min_test / len(test): .3f} \\\n",
        "      | Test Acc 5 min: {acc_5_min_test / len(test): .3f} \\\n",
        "      | Test Acc 10 min: {acc_10_min_test / len(test): .3f} \\\n",
        "      | Test Acc 15 min: {acc_15_min_test / len(test): .3f} \\\n",
        "      | Test Acc 30 min: {acc_30_min_test / len(test): .3f} \\\n",
        "      | Test Acc 1 hour: {acc_1_hour_test / len(test): .3f} \\\n",
        "      | Test Acc 1 day: {acc_1_day_test / len(test): .3f}')\n",
        "    \n",
        "evaluate(model, val_texts, val_target, train_target)"
      ],
      "metadata": {
        "id": "ZBzODgux2SFG"
      },
      "execution_count": 45,
      "outputs": []
    },
    {
      "cell_type": "code",
      "source": [
        "train_texts, val_texts = train_data['message_prep'].values, test_data['message_prep'].values\n",
        "train_target, val_target = train_data[cols].values, test_data[cols].values"
      ],
      "metadata": {
        "id": "XXZ_0AkjEbYZ"
      },
      "execution_count": 35,
      "outputs": []
    },
    {
      "cell_type": "code",
      "source": [
        "EPOCHS = 3\n",
        "model = BertClassifier()\n",
        "LR = 3e-4"
      ],
      "metadata": {
        "colab": {
          "base_uri": "https://localhost:8080/"
        },
        "id": "T7fTmwGmEsXj",
        "outputId": "f225125e-76f5-4d82-8678-e642607720fa"
      },
      "execution_count": 39,
      "outputs": [
        {
          "output_type": "stream",
          "name": "stderr",
          "text": [
            "Some weights of the model checkpoint at SkolkovoInstitute/russian_toxicity_classifier were not used when initializing BertModel: ['classifier.weight', 'classifier.bias']\n",
            "- This IS expected if you are initializing BertModel from the checkpoint of a model trained on another task or with another architecture (e.g. initializing a BertForSequenceClassification model from a BertForPreTraining model).\n",
            "- This IS NOT expected if you are initializing BertModel from the checkpoint of a model that you expect to be exactly identical (initializing a BertForSequenceClassification model from a BertForSequenceClassification model).\n"
          ]
        }
      ]
    },
    {
      "cell_type": "code",
      "source": [
        "train(model, train_texts, val_texts, train_target, val_target, LR, EPOCHS)"
      ],
      "metadata": {
        "colab": {
          "base_uri": "https://localhost:8080/"
        },
        "id": "u4AAbH-DKWXK",
        "outputId": "a0f48980-97d4-470b-9bac-8e9a5ed13c27"
      },
      "execution_count": 40,
      "outputs": [
        {
          "output_type": "stream",
          "name": "stderr",
          "text": [
            "100%|██████████| 1571/1571 [19:04<00:00,  1.37it/s]\n"
          ]
        },
        {
          "output_type": "stream",
          "name": "stdout",
          "text": [
            "Epochs: 1 | Train Loss:  0.139                 | Train Acc 1 min:  0.000                 | Train Acc 5 min:  0.000                 | Train Acc 10 min:  0.000                 | Train Acc 15 min:  0.000                 | Train Acc 30 min:  0.000                 | Train Acc 1 hour:  0.000                 | Train Acc 1 day:  0.000                 | Val Loss:  0.142                 | Val Acc 1 min:  0.000                 | Val Acc 5 min:  0.000                 | Val Acc 10 min:  0.000                 | Val Acc 15 min:  0.000                 | Val Acc 30 min:  0.000                 | Val Acc 1 hour:  0.000                 | Val Acc 1 day:  0.000\n"
          ]
        },
        {
          "output_type": "stream",
          "name": "stderr",
          "text": [
            "100%|██████████| 1571/1571 [19:08<00:00,  1.37it/s]\n"
          ]
        },
        {
          "output_type": "stream",
          "name": "stdout",
          "text": [
            "Epochs: 2 | Train Loss:  0.139                 | Train Acc 1 min:  0.000                 | Train Acc 5 min:  0.000                 | Train Acc 10 min:  0.000                 | Train Acc 15 min:  0.000                 | Train Acc 30 min:  0.000                 | Train Acc 1 hour:  0.000                 | Train Acc 1 day:  0.000                 | Val Loss:  0.142                 | Val Acc 1 min:  0.000                 | Val Acc 5 min:  0.000                 | Val Acc 10 min:  0.000                 | Val Acc 15 min:  0.000                 | Val Acc 30 min:  0.000                 | Val Acc 1 hour:  0.000                 | Val Acc 1 day:  0.000\n"
          ]
        },
        {
          "output_type": "stream",
          "name": "stderr",
          "text": [
            "100%|██████████| 1571/1571 [19:08<00:00,  1.37it/s]\n"
          ]
        },
        {
          "output_type": "stream",
          "name": "stdout",
          "text": [
            "Epochs: 3 | Train Loss:  0.139                 | Train Acc 1 min:  0.000                 | Train Acc 5 min:  0.000                 | Train Acc 10 min:  0.000                 | Train Acc 15 min:  0.000                 | Train Acc 30 min:  0.000                 | Train Acc 1 hour:  0.000                 | Train Acc 1 day:  0.000                 | Val Loss:  0.141                 | Val Acc 1 min:  0.000                 | Val Acc 5 min:  0.000                 | Val Acc 10 min:  0.000                 | Val Acc 15 min:  0.000                 | Val Acc 30 min:  0.000                 | Val Acc 1 hour:  0.000                 | Val Acc 1 day:  0.000\n"
          ]
        }
      ]
    },
    {
      "cell_type": "code",
      "source": [
        "torch.save(model.state_dict(), '/content/drive/MyDrive/Диссертация/Tg_prep_Bert_russian_toxicity_classifier.pth')"
      ],
      "metadata": {
        "id": "yImPVCjrKh-Q"
      },
      "execution_count": 43,
      "outputs": []
    },
    {
      "cell_type": "code",
      "source": [
        "evaluate(model, val_texts, val_target, train_target)"
      ],
      "metadata": {
        "colab": {
          "base_uri": "https://localhost:8080/"
        },
        "id": "mkfOQvQYKWf6",
        "outputId": "ea181e4b-4f5f-42e5-f989-6504d835fedc"
      },
      "execution_count": 44,
      "outputs": [
        {
          "output_type": "stream",
          "name": "stdout",
          "text": [
            "| Test Acc 1 min:  0.463       | Test Acc 5 min:  0.458       | Test Acc 10 min:  0.460       | Test Acc 15 min:  0.468       | Test Acc 30 min:  0.472       | Test Acc 1 hour:  0.462       | Test Acc 1 day:  0.457\n"
          ]
        }
      ]
    }
  ]
}